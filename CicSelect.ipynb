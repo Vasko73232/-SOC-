{
  "nbformat": 4,
  "nbformat_minor": 0,
  "metadata": {
    "colab": {
      "provenance": []
    },
    "kernelspec": {
      "name": "python3",
      "display_name": "Python 3"
    },
    "language_info": {
      "name": "python"
    }
  },
  "cells": [
    {
      "cell_type": "code",
      "execution_count": null,
      "metadata": {
        "id": "angsJ4tUJWp1"
      },
      "outputs": [],
      "source": [
        "import pandas as pd\n",
        "import numpy as np\n",
        "\n",
        "import matplotlib.pyplot as plt\n",
        "import seaborn as sns\n",
        "from IPython.core.pylabtools import figsize\n",
        "import random"
      ]
    },
    {
      "cell_type": "code",
      "source": [
        "df = pd.read_csv('/content/Trafic.csv')"
      ],
      "metadata": {
        "id": "u2LgSMbQJ-F3"
      },
      "execution_count": null,
      "outputs": []
    },
    {
      "cell_type": "code",
      "source": [
        "df.head(5)\n",
        "df = df.sample(frac=1)"
      ],
      "metadata": {
        "id": "9hJScc7dJ9_N"
      },
      "execution_count": null,
      "outputs": []
    },
    {
      "cell_type": "code",
      "source": [
        "df.info()"
      ],
      "metadata": {
        "colab": {
          "base_uri": "https://localhost:8080/"
        },
        "id": "IvrNvkxGJ94c",
        "outputId": "cd754859-a0dd-47ce-9df2-71a712359c8f"
      },
      "execution_count": null,
      "outputs": [
        {
          "output_type": "stream",
          "name": "stdout",
          "text": [
            "<class 'pandas.core.frame.DataFrame'>\n",
            "Int64Index: 16468 entries, 543 to 15583\n",
            "Data columns (total 78 columns):\n",
            " #   Column             Non-Null Count  Dtype  \n",
            "---  ------             --------------  -----  \n",
            " 0   src_ip             16468 non-null  object \n",
            " 1   dst_ip             16468 non-null  object \n",
            " 2   src_port           16468 non-null  int64  \n",
            " 3   dst_port           16468 non-null  int64  \n",
            " 4   src_mac            16468 non-null  object \n",
            " 5   dst_mac            16468 non-null  object \n",
            " 6   protocol           16468 non-null  int64  \n",
            " 7   timestamp          16468 non-null  object \n",
            " 8   flow_duration      16468 non-null  float64\n",
            " 9   flow_byts_s        16468 non-null  float64\n",
            " 10  flow_pkts_s        16468 non-null  float64\n",
            " 11  fwd_pkts_s         16468 non-null  float64\n",
            " 12  bwd_pkts_s         16468 non-null  float64\n",
            " 13  tot_fwd_pkts       16468 non-null  int64  \n",
            " 14  tot_bwd_pkts       16468 non-null  int64  \n",
            " 15  totlen_fwd_pkts    16468 non-null  int64  \n",
            " 16  totlen_bwd_pkts    16468 non-null  int64  \n",
            " 17  fwd_pkt_len_max    16468 non-null  float64\n",
            " 18  fwd_pkt_len_min    16468 non-null  float64\n",
            " 19  fwd_pkt_len_mean   16468 non-null  float64\n",
            " 20  fwd_pkt_len_std    16468 non-null  float64\n",
            " 21  bwd_pkt_len_max    16468 non-null  float64\n",
            " 22  bwd_pkt_len_min    16468 non-null  float64\n",
            " 23  bwd_pkt_len_mean   16468 non-null  float64\n",
            " 24  bwd_pkt_len_std    16468 non-null  float64\n",
            " 25  pkt_len_max        16468 non-null  int64  \n",
            " 26  pkt_len_min        16468 non-null  int64  \n",
            " 27  pkt_len_mean       16468 non-null  float64\n",
            " 28  pkt_len_std        16468 non-null  float64\n",
            " 29  pkt_len_var        16468 non-null  float64\n",
            " 30  fwd_header_len     16468 non-null  int64  \n",
            " 31  bwd_header_len     16468 non-null  int64  \n",
            " 32  fwd_seg_size_min   16468 non-null  int64  \n",
            " 33  fwd_act_data_pkts  16468 non-null  int64  \n",
            " 34  flow_iat_mean      16468 non-null  float64\n",
            " 35  flow_iat_max       16468 non-null  float64\n",
            " 36  flow_iat_min       16468 non-null  float64\n",
            " 37  flow_iat_std       16468 non-null  float64\n",
            " 38  fwd_iat_tot        16468 non-null  float64\n",
            " 39  fwd_iat_max        16468 non-null  float64\n",
            " 40  fwd_iat_min        16468 non-null  float64\n",
            " 41  fwd_iat_mean       16468 non-null  float64\n",
            " 42  fwd_iat_std        16468 non-null  float64\n",
            " 43  bwd_iat_tot        16468 non-null  float64\n",
            " 44  bwd_iat_max        16468 non-null  float64\n",
            " 45  bwd_iat_min        16468 non-null  float64\n",
            " 46  bwd_iat_mean       16468 non-null  float64\n",
            " 47  bwd_iat_std        16468 non-null  float64\n",
            " 48  fwd_psh_flags      16468 non-null  int64  \n",
            " 49  bwd_psh_flags      16468 non-null  int64  \n",
            " 50  fwd_urg_flags      16468 non-null  int64  \n",
            " 51  bwd_urg_flags      16468 non-null  int64  \n",
            " 52  fin_flag_cnt       16468 non-null  int64  \n",
            " 53  syn_flag_cnt       16468 non-null  int64  \n",
            " 54  rst_flag_cnt       16468 non-null  int64  \n",
            " 55  psh_flag_cnt       16468 non-null  int64  \n",
            " 56  ack_flag_cnt       16468 non-null  int64  \n",
            " 57  urg_flag_cnt       16468 non-null  int64  \n",
            " 58  ece_flag_cnt       16468 non-null  int64  \n",
            " 59  down_up_ratio      16468 non-null  float64\n",
            " 60  pkt_size_avg       16468 non-null  float64\n",
            " 61  init_fwd_win_byts  16468 non-null  int64  \n",
            " 62  init_bwd_win_byts  16468 non-null  int64  \n",
            " 63  active_max         16468 non-null  float64\n",
            " 64  active_min         16468 non-null  float64\n",
            " 65  active_mean        16468 non-null  float64\n",
            " 66  active_std         16468 non-null  float64\n",
            " 67  idle_max           16468 non-null  float64\n",
            " 68  idle_min           16468 non-null  float64\n",
            " 69  idle_mean          16468 non-null  float64\n",
            " 70  idle_std           16468 non-null  float64\n",
            " 71  fwd_byts_b_avg     16468 non-null  float64\n",
            " 72  fwd_pkts_b_avg     16468 non-null  float64\n",
            " 73  bwd_byts_b_avg     16468 non-null  float64\n",
            " 74  bwd_pkts_b_avg     16468 non-null  float64\n",
            " 75  fwd_blk_rate_avg   16468 non-null  float64\n",
            " 76  bwd_blk_rate_avg   16468 non-null  float64\n",
            " 77  label              16468 non-null  object \n",
            "dtypes: float64(46), int64(26), object(6)\n",
            "memory usage: 9.9+ MB\n"
          ]
        }
      ]
    },
    {
      "cell_type": "code",
      "source": [
        "columns=df.columns.to_list"
      ],
      "metadata": {
        "id": "pobnhBRpJ9yV"
      },
      "execution_count": null,
      "outputs": []
    },
    {
      "cell_type": "code",
      "source": [
        "columns \n"
      ],
      "metadata": {
        "colab": {
          "base_uri": "https://localhost:8080/"
        },
        "id": "-W3lV13OMv0M",
        "outputId": "46616cb3-e469-4471-8e58-6c521d90c0a6"
      },
      "execution_count": null,
      "outputs": [
        {
          "output_type": "execute_result",
          "data": {
            "text/plain": [
              "<bound method IndexOpsMixin.tolist of Index(['src_ip', 'dst_ip', 'src_port', 'dst_port', 'src_mac', 'dst_mac',\n",
              "       'protocol', 'timestamp', 'flow_duration', 'flow_byts_s', 'flow_pkts_s',\n",
              "       'fwd_pkts_s', 'bwd_pkts_s', 'tot_fwd_pkts', 'tot_bwd_pkts',\n",
              "       'totlen_fwd_pkts', 'totlen_bwd_pkts', 'fwd_pkt_len_max',\n",
              "       'fwd_pkt_len_min', 'fwd_pkt_len_mean', 'fwd_pkt_len_std',\n",
              "       'bwd_pkt_len_max', 'bwd_pkt_len_min', 'bwd_pkt_len_mean',\n",
              "       'bwd_pkt_len_std', 'pkt_len_max', 'pkt_len_min', 'pkt_len_mean',\n",
              "       'pkt_len_std', 'pkt_len_var', 'fwd_header_len', 'bwd_header_len',\n",
              "       'fwd_seg_size_min', 'fwd_act_data_pkts', 'flow_iat_mean',\n",
              "       'flow_iat_max', 'flow_iat_min', 'flow_iat_std', 'fwd_iat_tot',\n",
              "       'fwd_iat_max', 'fwd_iat_min', 'fwd_iat_mean', 'fwd_iat_std',\n",
              "       'bwd_iat_tot', 'bwd_iat_max', 'bwd_iat_min', 'bwd_iat_mean',\n",
              "       'bwd_iat_std', 'fwd_psh_flags', 'bwd_psh_flags', 'fwd_urg_flags',\n",
              "       'bwd_urg_flags', 'fin_flag_cnt', 'syn_flag_cnt', 'rst_flag_cnt',\n",
              "       'psh_flag_cnt', 'ack_flag_cnt', 'urg_flag_cnt', 'ece_flag_cnt',\n",
              "       'down_up_ratio', 'pkt_size_avg', 'init_fwd_win_byts',\n",
              "       'init_bwd_win_byts', 'active_max', 'active_min', 'active_mean',\n",
              "       'active_std', 'idle_max', 'idle_min', 'idle_mean', 'idle_std',\n",
              "       'fwd_byts_b_avg', 'fwd_pkts_b_avg', 'bwd_byts_b_avg', 'bwd_pkts_b_avg',\n",
              "       'fwd_blk_rate_avg', 'bwd_blk_rate_avg', 'label'],\n",
              "      dtype='object')>"
            ]
          },
          "metadata": {},
          "execution_count": 134
        }
      ]
    },
    {
      "cell_type": "code",
      "source": [
        "df['label'].value_counts()"
      ],
      "metadata": {
        "colab": {
          "base_uri": "https://localhost:8080/"
        },
        "id": "CtmTZHXzKUpX",
        "outputId": "edc53bf0-955d-453b-f4cc-04c0e7f812cd"
      },
      "execution_count": null,
      "outputs": [
        {
          "output_type": "execute_result",
          "data": {
            "text/plain": [
              "BRUTE      13403\n",
              "BENING      1772\n",
              "XSSREFL     1293\n",
              "Name: label, dtype: int64"
            ]
          },
          "metadata": {},
          "execution_count": 135
        }
      ]
    },
    {
      "cell_type": "code",
      "source": [
        "excluded = ['src_ip','dst_ip', 'src_port', 'dst_port', 'src_mac', 'dst_mac','protocol', 'timestamp']\n",
        "df = df.drop(columns=excluded, errors='ignore')\n",
        "\n",
        "df.columns"
      ],
      "metadata": {
        "colab": {
          "base_uri": "https://localhost:8080/"
        },
        "id": "NGs_qJeYKUnp",
        "outputId": "7a1943e2-90c3-4aa8-e841-66726f3fbcb5"
      },
      "execution_count": null,
      "outputs": [
        {
          "output_type": "execute_result",
          "data": {
            "text/plain": [
              "Index(['flow_duration', 'flow_byts_s', 'flow_pkts_s', 'fwd_pkts_s',\n",
              "       'bwd_pkts_s', 'tot_fwd_pkts', 'tot_bwd_pkts', 'totlen_fwd_pkts',\n",
              "       'totlen_bwd_pkts', 'fwd_pkt_len_max', 'fwd_pkt_len_min',\n",
              "       'fwd_pkt_len_mean', 'fwd_pkt_len_std', 'bwd_pkt_len_max',\n",
              "       'bwd_pkt_len_min', 'bwd_pkt_len_mean', 'bwd_pkt_len_std', 'pkt_len_max',\n",
              "       'pkt_len_min', 'pkt_len_mean', 'pkt_len_std', 'pkt_len_var',\n",
              "       'fwd_header_len', 'bwd_header_len', 'fwd_seg_size_min',\n",
              "       'fwd_act_data_pkts', 'flow_iat_mean', 'flow_iat_max', 'flow_iat_min',\n",
              "       'flow_iat_std', 'fwd_iat_tot', 'fwd_iat_max', 'fwd_iat_min',\n",
              "       'fwd_iat_mean', 'fwd_iat_std', 'bwd_iat_tot', 'bwd_iat_max',\n",
              "       'bwd_iat_min', 'bwd_iat_mean', 'bwd_iat_std', 'fwd_psh_flags',\n",
              "       'bwd_psh_flags', 'fwd_urg_flags', 'bwd_urg_flags', 'fin_flag_cnt',\n",
              "       'syn_flag_cnt', 'rst_flag_cnt', 'psh_flag_cnt', 'ack_flag_cnt',\n",
              "       'urg_flag_cnt', 'ece_flag_cnt', 'down_up_ratio', 'pkt_size_avg',\n",
              "       'init_fwd_win_byts', 'init_bwd_win_byts', 'active_max', 'active_min',\n",
              "       'active_mean', 'active_std', 'idle_max', 'idle_min', 'idle_mean',\n",
              "       'idle_std', 'fwd_byts_b_avg', 'fwd_pkts_b_avg', 'bwd_byts_b_avg',\n",
              "       'bwd_pkts_b_avg', 'fwd_blk_rate_avg', 'bwd_blk_rate_avg', 'label'],\n",
              "      dtype='object')"
            ]
          },
          "metadata": {},
          "execution_count": 136
        }
      ]
    },
    {
      "cell_type": "code",
      "source": [
        "benign_total = len(df[df['label'] != \"BENING\"])\n",
        "benign_total"
      ],
      "metadata": {
        "colab": {
          "base_uri": "https://localhost:8080/"
        },
        "id": "HIcgkr4qKUlr",
        "outputId": "3a6a4630-63a3-482f-d492-ac15419fc1b2"
      },
      "execution_count": null,
      "outputs": [
        {
          "output_type": "execute_result",
          "data": {
            "text/plain": [
              "14696"
            ]
          },
          "metadata": {},
          "execution_count": 137
        }
      ]
    },
    {
      "cell_type": "code",
      "source": [
        "attack_total = len(df[df['label'] == \"BENING\"])\n",
        "attack_total"
      ],
      "metadata": {
        "colab": {
          "base_uri": "https://localhost:8080/"
        },
        "id": "_4M-NQs4KUkP",
        "outputId": "57172e42-e656-41d6-b001-16f7c18af96a"
      },
      "execution_count": null,
      "outputs": [
        {
          "output_type": "execute_result",
          "data": {
            "text/plain": [
              "1772"
            ]
          },
          "metadata": {},
          "execution_count": 138
        }
      ]
    },
    {
      "cell_type": "code",
      "source": [
        "enlargement = 1.1\n",
        "benign_included_max = attack_total / 30 * 70\n",
        "benign_inc_probability = (benign_included_max / benign_total) * enlargement\n",
        "print(benign_included_max, benign_inc_probability)"
      ],
      "metadata": {
        "colab": {
          "base_uri": "https://localhost:8080/"
        },
        "id": "8lKeNnKvKUii",
        "outputId": "3a402ba8-57cc-4a9b-d5b4-66938761ae63"
      },
      "execution_count": null,
      "outputs": [
        {
          "output_type": "stream",
          "name": "stdout",
          "text": [
            "4134.666666666667 0.30948103792415177\n"
          ]
        }
      ]
    },
    {
      "cell_type": "code",
      "source": [
        "import random\n",
        "indexes = []\n",
        "benign_included_count = 0\n",
        "for index, row in df.iterrows():\n",
        "    if (row['label'] == \"BENING\"):\n",
        "        indexes.append(index)\n",
        "    else:\n",
        "        # Copying with benign_inc_probability\n",
        "        if random.random() > benign_inc_probability: continue\n",
        "        # Have we achieved 70% (5087 records)?\n",
        "        if benign_included_count > benign_included_max: continue\n",
        "        benign_included_count += 1\n",
        "        indexes.append(index)\n",
        "df = df.loc[indexes]"
      ],
      "metadata": {
        "id": "M_V4-yfRKUfy"
      },
      "execution_count": null,
      "outputs": []
    },
    {
      "cell_type": "code",
      "source": [
        "df['label'].value_counts()"
      ],
      "metadata": {
        "colab": {
          "base_uri": "https://localhost:8080/"
        },
        "id": "9VasBYd4KiZn",
        "outputId": "2df35895-0061-4d33-cef9-5e3e45173d1e"
      },
      "execution_count": null,
      "outputs": [
        {
          "output_type": "execute_result",
          "data": {
            "text/plain": [
              "BRUTE      3768\n",
              "BENING     1772\n",
              "XSSREFL     367\n",
              "Name: label, dtype: int64"
            ]
          },
          "metadata": {},
          "execution_count": 141
        }
      ]
    },
    {
      "cell_type": "code",
      "source": [
        "df = df.replace('BENING',0)\n",
        "df = df.replace('XSSREFL',1)\n",
        "df = df.replace('BRUTE',1)\n"
      ],
      "metadata": {
        "id": "gaIspNtjKiXA"
      },
      "execution_count": null,
      "outputs": []
    },
    {
      "cell_type": "code",
      "source": [
        "y = df['label'].values\n",
        "X = df.drop(columns=['label'])\n",
        "print(X.shape, y.shape)"
      ],
      "metadata": {
        "colab": {
          "base_uri": "https://localhost:8080/"
        },
        "id": "IAByGaBtNvN1",
        "outputId": "f0d4e021-d8e2-47d2-bf23-5aefed03df30"
      },
      "execution_count": null,
      "outputs": [
        {
          "output_type": "stream",
          "name": "stdout",
          "text": [
            "(5907, 69) (5907,)\n"
          ]
        }
      ]
    },
    {
      "cell_type": "code",
      "source": [
        "from sklearn.model_selection import train_test_split\n",
        "X_train, X_test, y_train, y_test = train_test_split(X, y, test_size=0.3, random_state=42)\n",
        "\n",
        "unique, counts = np.unique(y_train, return_counts=True)\n",
        "dict(zip(unique, counts))"
      ],
      "metadata": {
        "colab": {
          "base_uri": "https://localhost:8080/"
        },
        "id": "79FhJOcRNvMH",
        "outputId": "6539272c-8cd3-4bae-a5ee-d12b5feae633"
      },
      "execution_count": null,
      "outputs": [
        {
          "output_type": "execute_result",
          "data": {
            "text/plain": [
              "{0: 1267, 1: 2867}"
            ]
          },
          "metadata": {},
          "execution_count": 144
        }
      ]
    },
    {
      "cell_type": "code",
      "source": [
        "from sklearn.model_selection import cross_val_score\n",
        "from sklearn.tree import DecisionTreeClassifier\n",
        "decision_tree = DecisionTreeClassifier(max_leaf_nodes=5, random_state=0)\n",
        "decision_tree = decision_tree.fit(X_train, y_train)\n",
        "cross_val_score(decision_tree, X_train, y_train, cv=10)"
      ],
      "metadata": {
        "colab": {
          "base_uri": "https://localhost:8080/"
        },
        "id": "mNAPlAzDNvEr",
        "outputId": "550e8672-1f96-4ef8-a9c8-f2ba1db806b4"
      },
      "execution_count": null,
      "outputs": [
        {
          "output_type": "execute_result",
          "data": {
            "text/plain": [
              "array([1., 1., 1., 1., 1., 1., 1., 1., 1., 1.])"
            ]
          },
          "metadata": {},
          "execution_count": 145
        }
      ]
    },
    {
      "cell_type": "code",
      "source": [
        "from sklearn.tree import export_text\n",
        "r = export_text(decision_tree, feature_names=X_train.columns.to_list())\n",
        "print(r)"
      ],
      "metadata": {
        "colab": {
          "base_uri": "https://localhost:8080/"
        },
        "id": "V3H9gCMWNvDR",
        "outputId": "c499dc20-51cf-43fc-8162-5fcabee0e723"
      },
      "execution_count": null,
      "outputs": [
        {
          "output_type": "stream",
          "name": "stdout",
          "text": [
            "|--- fwd_act_data_pkts <= 1.50\n",
            "|   |--- flow_duration <= 3935303.50\n",
            "|   |   |--- fwd_header_len <= 90.00\n",
            "|   |   |   |--- class: 0\n",
            "|   |   |--- fwd_header_len >  90.00\n",
            "|   |   |   |--- class: 1\n",
            "|   |--- flow_duration >  3935303.50\n",
            "|   |   |--- class: 0\n",
            "|--- fwd_act_data_pkts >  1.50\n",
            "|   |--- class: 0\n",
            "\n"
          ]
        }
      ]
    },
    {
      "cell_type": "code",
      "source": [
        "from graphviz import Source\n",
        "from sklearn import tree\n",
        "Source(tree.export_graphviz(decision_tree, out_file=None, feature_names=X.columns))"
      ],
      "metadata": {
        "colab": {
          "base_uri": "https://localhost:8080/",
          "height": 519
        },
        "id": "XhN1ujVANvBW",
        "outputId": "977afbbc-1e6d-4f06-ae3f-8d55efd7c417"
      },
      "execution_count": null,
      "outputs": [
        {
          "output_type": "execute_result",
          "data": {
            "text/plain": [
              "<graphviz.files.Source at 0x7fc80b18fa90>"
            ],
            "image/svg+xml": "<?xml version=\"1.0\" encoding=\"UTF-8\" standalone=\"no\"?>\n<!DOCTYPE svg PUBLIC \"-//W3C//DTD SVG 1.1//EN\"\n \"http://www.w3.org/Graphics/SVG/1.1/DTD/svg11.dtd\">\n<!-- Generated by graphviz version 2.40.1 (20161225.0304)\n -->\n<!-- Title: Tree Pages: 1 -->\n<svg width=\"441pt\" height=\"373pt\"\n viewBox=\"0.00 0.00 440.50 373.00\" xmlns=\"http://www.w3.org/2000/svg\" xmlns:xlink=\"http://www.w3.org/1999/xlink\">\n<g id=\"graph0\" class=\"graph\" transform=\"scale(1 1) rotate(0) translate(4 369)\">\n<title>Tree</title>\n<polygon fill=\"#ffffff\" stroke=\"transparent\" points=\"-4,4 -4,-369 436.5,-369 436.5,4 -4,4\"/>\n<!-- 0 -->\n<g id=\"node1\" class=\"node\">\n<title>0</title>\n<polygon fill=\"none\" stroke=\"#000000\" points=\"372,-365 189,-365 189,-297 372,-297 372,-365\"/>\n<text text-anchor=\"middle\" x=\"280.5\" y=\"-349.8\" font-family=\"Helvetica,sans-Serif\" font-size=\"14.00\" fill=\"#000000\">fwd_act_data_pkts &lt;= 1.5</text>\n<text text-anchor=\"middle\" x=\"280.5\" y=\"-334.8\" font-family=\"Helvetica,sans-Serif\" font-size=\"14.00\" fill=\"#000000\">gini = 0.425</text>\n<text text-anchor=\"middle\" x=\"280.5\" y=\"-319.8\" font-family=\"Helvetica,sans-Serif\" font-size=\"14.00\" fill=\"#000000\">samples = 4134</text>\n<text text-anchor=\"middle\" x=\"280.5\" y=\"-304.8\" font-family=\"Helvetica,sans-Serif\" font-size=\"14.00\" fill=\"#000000\">value = [1267, 2867]</text>\n</g>\n<!-- 1 -->\n<g id=\"node2\" class=\"node\">\n<title>1</title>\n<polygon fill=\"none\" stroke=\"#000000\" points=\"290,-261 93,-261 93,-193 290,-193 290,-261\"/>\n<text text-anchor=\"middle\" x=\"191.5\" y=\"-245.8\" font-family=\"Helvetica,sans-Serif\" font-size=\"14.00\" fill=\"#000000\">flow_duration &lt;= 3935303.5</text>\n<text text-anchor=\"middle\" x=\"191.5\" y=\"-230.8\" font-family=\"Helvetica,sans-Serif\" font-size=\"14.00\" fill=\"#000000\">gini = 0.009</text>\n<text text-anchor=\"middle\" x=\"191.5\" y=\"-215.8\" font-family=\"Helvetica,sans-Serif\" font-size=\"14.00\" fill=\"#000000\">samples = 2880</text>\n<text text-anchor=\"middle\" x=\"191.5\" y=\"-200.8\" font-family=\"Helvetica,sans-Serif\" font-size=\"14.00\" fill=\"#000000\">value = [13, 2867]</text>\n</g>\n<!-- 0&#45;&gt;1 -->\n<g id=\"edge1\" class=\"edge\">\n<title>0&#45;&gt;1</title>\n<path fill=\"none\" stroke=\"#000000\" d=\"M251.3581,-296.9465C243.6745,-287.968 235.2947,-278.1758 227.3041,-268.8385\"/>\n<polygon fill=\"#000000\" stroke=\"#000000\" points=\"229.8685,-266.4521 220.7074,-261.13 224.5501,-271.0034 229.8685,-266.4521\"/>\n<text text-anchor=\"middle\" x=\"218.7702\" y=\"-282.3548\" font-family=\"Helvetica,sans-Serif\" font-size=\"14.00\" fill=\"#000000\">True</text>\n</g>\n<!-- 2 -->\n<g id=\"node7\" class=\"node\">\n<title>2</title>\n<polygon fill=\"none\" stroke=\"#000000\" points=\"432.5,-253.5 308.5,-253.5 308.5,-200.5 432.5,-200.5 432.5,-253.5\"/>\n<text text-anchor=\"middle\" x=\"370.5\" y=\"-238.3\" font-family=\"Helvetica,sans-Serif\" font-size=\"14.00\" fill=\"#000000\">gini = 0.0</text>\n<text text-anchor=\"middle\" x=\"370.5\" y=\"-223.3\" font-family=\"Helvetica,sans-Serif\" font-size=\"14.00\" fill=\"#000000\">samples = 1254</text>\n<text text-anchor=\"middle\" x=\"370.5\" y=\"-208.3\" font-family=\"Helvetica,sans-Serif\" font-size=\"14.00\" fill=\"#000000\">value = [1254, 0]</text>\n</g>\n<!-- 0&#45;&gt;2 -->\n<g id=\"edge6\" class=\"edge\">\n<title>0&#45;&gt;2</title>\n<path fill=\"none\" stroke=\"#000000\" d=\"M309.9694,-296.9465C319.8828,-285.491 330.9424,-272.711 340.8682,-261.2412\"/>\n<polygon fill=\"#000000\" stroke=\"#000000\" points=\"343.6336,-263.3942 347.5308,-253.5422 338.3404,-258.8135 343.6336,-263.3942\"/>\n<text text-anchor=\"middle\" x=\"349.3303\" y=\"-274.7773\" font-family=\"Helvetica,sans-Serif\" font-size=\"14.00\" fill=\"#000000\">False</text>\n</g>\n<!-- 3 -->\n<g id=\"node3\" class=\"node\">\n<title>3</title>\n<polygon fill=\"none\" stroke=\"#000000\" points=\"201,-157 28,-157 28,-89 201,-89 201,-157\"/>\n<text text-anchor=\"middle\" x=\"114.5\" y=\"-141.8\" font-family=\"Helvetica,sans-Serif\" font-size=\"14.00\" fill=\"#000000\">fwd_header_len &lt;= 90.0</text>\n<text text-anchor=\"middle\" x=\"114.5\" y=\"-126.8\" font-family=\"Helvetica,sans-Serif\" font-size=\"14.00\" fill=\"#000000\">gini = 0.003</text>\n<text text-anchor=\"middle\" x=\"114.5\" y=\"-111.8\" font-family=\"Helvetica,sans-Serif\" font-size=\"14.00\" fill=\"#000000\">samples = 2872</text>\n<text text-anchor=\"middle\" x=\"114.5\" y=\"-96.8\" font-family=\"Helvetica,sans-Serif\" font-size=\"14.00\" fill=\"#000000\">value = [5, 2867]</text>\n</g>\n<!-- 1&#45;&gt;3 -->\n<g id=\"edge2\" class=\"edge\">\n<title>1&#45;&gt;3</title>\n<path fill=\"none\" stroke=\"#000000\" d=\"M166.2873,-192.9465C159.7727,-184.1475 152.6795,-174.5672 145.8918,-165.3993\"/>\n<polygon fill=\"#000000\" stroke=\"#000000\" points=\"148.5327,-163.0843 139.7693,-157.13 142.9069,-167.2496 148.5327,-163.0843\"/>\n</g>\n<!-- 4 -->\n<g id=\"node6\" class=\"node\">\n<title>4</title>\n<polygon fill=\"none\" stroke=\"#000000\" points=\"318,-149.5 219,-149.5 219,-96.5 318,-96.5 318,-149.5\"/>\n<text text-anchor=\"middle\" x=\"268.5\" y=\"-134.3\" font-family=\"Helvetica,sans-Serif\" font-size=\"14.00\" fill=\"#000000\">gini = 0.0</text>\n<text text-anchor=\"middle\" x=\"268.5\" y=\"-119.3\" font-family=\"Helvetica,sans-Serif\" font-size=\"14.00\" fill=\"#000000\">samples = 8</text>\n<text text-anchor=\"middle\" x=\"268.5\" y=\"-104.3\" font-family=\"Helvetica,sans-Serif\" font-size=\"14.00\" fill=\"#000000\">value = [8, 0]</text>\n</g>\n<!-- 1&#45;&gt;4 -->\n<g id=\"edge5\" class=\"edge\">\n<title>1&#45;&gt;4</title>\n<path fill=\"none\" stroke=\"#000000\" d=\"M216.7127,-192.9465C225.0311,-181.7113 234.2927,-169.2021 242.6574,-157.9043\"/>\n<polygon fill=\"#000000\" stroke=\"#000000\" points=\"245.7111,-159.6618 248.8486,-149.5422 240.0852,-155.4965 245.7111,-159.6618\"/>\n</g>\n<!-- 5 -->\n<g id=\"node4\" class=\"node\">\n<title>5</title>\n<polygon fill=\"none\" stroke=\"#000000\" points=\"99,-53 0,-53 0,0 99,0 99,-53\"/>\n<text text-anchor=\"middle\" x=\"49.5\" y=\"-37.8\" font-family=\"Helvetica,sans-Serif\" font-size=\"14.00\" fill=\"#000000\">gini = 0.0</text>\n<text text-anchor=\"middle\" x=\"49.5\" y=\"-22.8\" font-family=\"Helvetica,sans-Serif\" font-size=\"14.00\" fill=\"#000000\">samples = 5</text>\n<text text-anchor=\"middle\" x=\"49.5\" y=\"-7.8\" font-family=\"Helvetica,sans-Serif\" font-size=\"14.00\" fill=\"#000000\">value = [5, 0]</text>\n</g>\n<!-- 3&#45;&gt;5 -->\n<g id=\"edge3\" class=\"edge\">\n<title>3&#45;&gt;5</title>\n<path fill=\"none\" stroke=\"#000000\" d=\"M91.5834,-88.9777C85.6006,-80.0954 79.1418,-70.5067 73.123,-61.5711\"/>\n<polygon fill=\"#000000\" stroke=\"#000000\" points=\"76.0067,-59.5871 67.5171,-53.2485 70.2009,-63.4978 76.0067,-59.5871\"/>\n</g>\n<!-- 6 -->\n<g id=\"node5\" class=\"node\">\n<title>6</title>\n<polygon fill=\"none\" stroke=\"#000000\" points=\"241.5,-53 117.5,-53 117.5,0 241.5,0 241.5,-53\"/>\n<text text-anchor=\"middle\" x=\"179.5\" y=\"-37.8\" font-family=\"Helvetica,sans-Serif\" font-size=\"14.00\" fill=\"#000000\">gini = 0.0</text>\n<text text-anchor=\"middle\" x=\"179.5\" y=\"-22.8\" font-family=\"Helvetica,sans-Serif\" font-size=\"14.00\" fill=\"#000000\">samples = 2867</text>\n<text text-anchor=\"middle\" x=\"179.5\" y=\"-7.8\" font-family=\"Helvetica,sans-Serif\" font-size=\"14.00\" fill=\"#000000\">value = [0, 2867]</text>\n</g>\n<!-- 3&#45;&gt;6 -->\n<g id=\"edge4\" class=\"edge\">\n<title>3&#45;&gt;6</title>\n<path fill=\"none\" stroke=\"#000000\" d=\"M137.4166,-88.9777C143.3994,-80.0954 149.8582,-70.5067 155.877,-61.5711\"/>\n<polygon fill=\"#000000\" stroke=\"#000000\" points=\"158.7991,-63.4978 161.4829,-53.2485 152.9933,-59.5871 158.7991,-63.4978\"/>\n</g>\n</g>\n</svg>\n"
          },
          "metadata": {},
          "execution_count": 147
        }
      ]
    },
    {
      "cell_type": "code",
      "source": [
        "unique, counts = np.unique(y_test, return_counts=True)\n",
        "dict(zip(unique, counts))"
      ],
      "metadata": {
        "colab": {
          "base_uri": "https://localhost:8080/"
        },
        "id": "uPiTknRJNu_R",
        "outputId": "90a6eee9-d3ea-4742-b1e1-b77b278c9136"
      },
      "execution_count": null,
      "outputs": [
        {
          "output_type": "execute_result",
          "data": {
            "text/plain": [
              "{0: 505, 1: 1268}"
            ]
          },
          "metadata": {},
          "execution_count": 148
        }
      ]
    },
    {
      "cell_type": "code",
      "source": [
        "from sklearn.metrics import confusion_matrix\n",
        "y_pred = decision_tree.predict(X_test)\n",
        "confusion_matrix(y_test, y_pred)"
      ],
      "metadata": {
        "colab": {
          "base_uri": "https://localhost:8080/"
        },
        "id": "TmMew4WBNu9U",
        "outputId": "f74e79da-08a5-46cb-ba22-eb93baf1d445"
      },
      "execution_count": null,
      "outputs": [
        {
          "output_type": "execute_result",
          "data": {
            "text/plain": [
              "array([[ 505,    0],\n",
              "       [   0, 1268]])"
            ]
          },
          "metadata": {},
          "execution_count": 149
        }
      ]
    },
    {
      "cell_type": "code",
      "source": [
        "from sklearn.feature_selection import SelectFromModel\n",
        "sfm = SelectFromModel(estimator=decision_tree).fit(X_train, y_train)\n",
        "sfm.estimator_.feature_importances_"
      ],
      "metadata": {
        "colab": {
          "base_uri": "https://localhost:8080/"
        },
        "id": "QB5xq0mMNu7o",
        "outputId": "a25d3356-82d2-49da-f17b-7290708311cf"
      },
      "execution_count": null,
      "outputs": [
        {
          "output_type": "execute_result",
          "data": {
            "text/plain": [
              "array([0.00904763, 0.        , 0.        , 0.        , 0.        ,\n",
              "       0.        , 0.        , 0.        , 0.        , 0.        ,\n",
              "       0.        , 0.        , 0.        , 0.        , 0.        ,\n",
              "       0.        , 0.        , 0.        , 0.        , 0.        ,\n",
              "       0.        , 0.        , 0.00568041, 0.        , 0.        ,\n",
              "       0.98527197, 0.        , 0.        , 0.        , 0.        ,\n",
              "       0.        , 0.        , 0.        , 0.        , 0.        ,\n",
              "       0.        , 0.        , 0.        , 0.        , 0.        ,\n",
              "       0.        , 0.        , 0.        , 0.        , 0.        ,\n",
              "       0.        , 0.        , 0.        , 0.        , 0.        ,\n",
              "       0.        , 0.        , 0.        , 0.        , 0.        ,\n",
              "       0.        , 0.        , 0.        , 0.        , 0.        ,\n",
              "       0.        , 0.        , 0.        , 0.        , 0.        ,\n",
              "       0.        , 0.        , 0.        , 0.        ])"
            ]
          },
          "metadata": {},
          "execution_count": 150
        }
      ]
    },
    {
      "cell_type": "code",
      "source": [
        "X_train_new = sfm.transform(X_train)\n",
        "print(\"Original num features: {}, selected num features: {}\"\n",
        "      .format(X_train.shape[1], X_train_new.shape[1]))"
      ],
      "metadata": {
        "colab": {
          "base_uri": "https://localhost:8080/"
        },
        "id": "1rRF9YoGNu5j",
        "outputId": "12ea94f4-ff08-4dbb-d62b-415a9ab5e7d1"
      },
      "execution_count": null,
      "outputs": [
        {
          "output_type": "stream",
          "name": "stdout",
          "text": [
            "Original num features: 69, selected num features: 1\n"
          ]
        }
      ]
    },
    {
      "cell_type": "code",
      "source": [],
      "metadata": {
        "id": "HXS4lA-pN8hJ"
      },
      "execution_count": null,
      "outputs": []
    },
    {
      "cell_type": "code",
      "source": [
        "indices = np.argsort(decision_tree.feature_importances_)[::-1]\n",
        "for idx, i in enumerate(indices[:10]):\n",
        "    print(\"{}.\\t{} - {}\".format(idx, X_train.columns[i], decision_tree.feature_importances_[i]))"
      ],
      "metadata": {
        "colab": {
          "base_uri": "https://localhost:8080/"
        },
        "id": "p1aFMLKuNu3P",
        "outputId": "a73d8561-2064-4ece-f338-d9a262598642"
      },
      "execution_count": null,
      "outputs": [
        {
          "output_type": "stream",
          "name": "stdout",
          "text": [
            "0.\tfwd_act_data_pkts - 0.9852719679031834\n",
            "1.\tflow_duration - 0.009047625459947176\n",
            "2.\tfwd_header_len - 0.005680406636869472\n",
            "3.\tfwd_iat_max - 0.0\n",
            "4.\tfwd_iat_tot - 0.0\n",
            "5.\tflow_iat_std - 0.0\n",
            "6.\tflow_iat_min - 0.0\n",
            "7.\tflow_iat_max - 0.0\n",
            "8.\tflow_iat_mean - 0.0\n",
            "9.\tfwd_iat_mean - 0.0\n"
          ]
        }
      ]
    },
    {
      "cell_type": "code",
      "source": [
        "from sklearn.ensemble import RandomForestClassifier\n",
        "\n",
        "rf = RandomForestClassifier(n_estimators=250, random_state=42, oob_score=True)\n",
        "rf.fit(X_train, y_train)\n",
        "# Score = mean accuracy on the given test data and labels\n",
        "print('R^2 Training Score: {:.2f} \\nR^2 Validation Score: {:.2f} \\nOut-of-bag Score: {:.2f}'\n",
        "      .format(rf.score(X_train, y_train), rf.score(X_test, y_test), rf.oob_score_))"
      ],
      "metadata": {
        "colab": {
          "base_uri": "https://localhost:8080/"
        },
        "id": "fj_Y3zBXNu1C",
        "outputId": "04ec5ce8-bcb5-4aff-a753-60592709c3a1"
      },
      "execution_count": null,
      "outputs": [
        {
          "output_type": "stream",
          "name": "stdout",
          "text": [
            "R^2 Training Score: 1.00 \n",
            "R^2 Validation Score: 1.00 \n",
            "Out-of-bag Score: 1.00\n"
          ]
        }
      ]
    },
    {
      "cell_type": "code",
      "source": [
        "features = X.columns\n",
        "importances = rf.feature_importances_\n",
        "indices = np.argsort(importances)[::-1]\n",
        "webattack_features = []\n",
        "\n",
        "for index, i in enumerate(indices[:20]):\n",
        "    webattack_features.append(features[i])\n",
        "    print('{}.\\t#{}\\t{:.3f}\\t{}'.format(index + 1, i, importances[i], features[i]))"
      ],
      "metadata": {
        "colab": {
          "base_uri": "https://localhost:8080/"
        },
        "id": "Z2_8-2KIN-Ix",
        "outputId": "1e8e6f56-0445-44e3-df7d-fb0682a7b286"
      },
      "execution_count": null,
      "outputs": [
        {
          "output_type": "stream",
          "name": "stdout",
          "text": [
            "1.\t#25\t0.124\tfwd_act_data_pkts\n",
            "2.\t#7\t0.118\ttotlen_fwd_pkts\n",
            "3.\t#22\t0.117\tfwd_header_len\n",
            "4.\t#20\t0.070\tpkt_len_std\n",
            "5.\t#5\t0.065\ttot_fwd_pkts\n",
            "6.\t#12\t0.062\tfwd_pkt_len_std\n",
            "7.\t#17\t0.060\tpkt_len_max\n",
            "8.\t#21\t0.057\tpkt_len_var\n",
            "9.\t#19\t0.054\tpkt_len_mean\n",
            "10.\t#9\t0.052\tfwd_pkt_len_max\n",
            "11.\t#11\t0.038\tfwd_pkt_len_mean\n",
            "12.\t#52\t0.030\tpkt_size_avg\n",
            "13.\t#0\t0.024\tflow_duration\n",
            "14.\t#34\t0.019\tfwd_iat_std\n",
            "15.\t#31\t0.017\tfwd_iat_max\n",
            "16.\t#27\t0.014\tflow_iat_max\n",
            "17.\t#29\t0.011\tflow_iat_std\n",
            "18.\t#26\t0.010\tflow_iat_mean\n",
            "19.\t#3\t0.010\tfwd_pkts_s\n",
            "20.\t#30\t0.008\tfwd_iat_tot\n"
          ]
        }
      ]
    },
    {
      "cell_type": "code",
      "source": [
        "indices = np.argsort(importances)[-20:]\n",
        "plt.rcParams['figure.figsize'] = (10, 6)\n",
        "plt.title('Feature Importances')\n",
        "plt.barh(range(len(indices)), importances[indices], color='#cccccc', align='center')\n",
        "plt.yticks(range(len(indices)), [features[i] for i in indices])\n",
        "plt.xlabel('Relative Importance')\n",
        "plt.grid()\n",
        "plt.savefig('feature_importances.png', dpi=300, bbox_inches='tight')\n",
        "plt.show()"
      ],
      "metadata": {
        "colab": {
          "base_uri": "https://localhost:8080/",
          "height": 404
        },
        "id": "1uheO9wcN-G7",
        "outputId": "53f37c95-3a73-42c4-9418-8aaa17322992"
      },
      "execution_count": null,
      "outputs": [
        {
          "output_type": "display_data",
          "data": {
            "text/plain": [
              "<Figure size 720x432 with 1 Axes>"
            ],
            "image/png": "[encoded data removed]"
          },
          "metadata": {
            "needs_background": "light"
          }
        }
      ]
    },
    {
      "cell_type": "code",
      "source": [
        "y_pred = rf.predict(X_test)\n",
        "confusion_matrix(y_test, y_pred)"
      ],
      "metadata": {
        "colab": {
          "base_uri": "https://localhost:8080/"
        },
        "id": "NYgYCJm6N-Fb",
        "outputId": "5252d46a-8658-49cc-f922-6f301d169eb4"
      },
      "execution_count": null,
      "outputs": [
        {
          "output_type": "execute_result",
          "data": {
            "text/plain": [
              "array([[ 505,    0],\n",
              "       [   0, 1268]])"
            ]
          },
          "metadata": {},
          "execution_count": 156
        }
      ]
    },
    {
      "cell_type": "code",
      "source": [
        "df['label'].value_counts()"
      ],
      "metadata": {
        "colab": {
          "base_uri": "https://localhost:8080/"
        },
        "id": "6-eLFtX_KiTw",
        "outputId": "51e9c8da-5369-4bff-d50d-4184d2110bea"
      },
      "execution_count": null,
      "outputs": [
        {
          "output_type": "execute_result",
          "data": {
            "text/plain": [
              "1    4135\n",
              "0    1772\n",
              "Name: label, dtype: int64"
            ]
          },
          "metadata": {},
          "execution_count": 157
        }
      ]
    },
    {
      "cell_type": "code",
      "source": [],
      "metadata": {
        "id": "h3AQx8YmKUbv"
      },
      "execution_count": null,
      "outputs": []
    },
    {
      "cell_type": "code",
      "source": [
        "max_features = 20\n",
        "webattack_features = webattack_features[:max_features]\n",
        "webattack_features"
      ],
      "metadata": {
        "colab": {
          "base_uri": "https://localhost:8080/"
        },
        "id": "NZ3VbyppKUZK",
        "outputId": "7e3140a8-a656-490c-f8d0-7fe402ebe739"
      },
      "execution_count": null,
      "outputs": [
        {
          "output_type": "execute_result",
          "data": {
            "text/plain": [
              "['fwd_act_data_pkts',\n",
              " 'totlen_fwd_pkts',\n",
              " 'fwd_header_len',\n",
              " 'pkt_len_std',\n",
              " 'tot_fwd_pkts',\n",
              " 'fwd_pkt_len_std',\n",
              " 'pkt_len_max',\n",
              " 'pkt_len_var',\n",
              " 'pkt_len_mean',\n",
              " 'fwd_pkt_len_max',\n",
              " 'fwd_pkt_len_mean',\n",
              " 'pkt_size_avg',\n",
              " 'flow_duration',\n",
              " 'fwd_iat_std',\n",
              " 'fwd_iat_max',\n",
              " 'flow_iat_max',\n",
              " 'flow_iat_std',\n",
              " 'flow_iat_mean',\n",
              " 'fwd_pkts_s',\n",
              " 'fwd_iat_tot']"
            ]
          },
          "metadata": {},
          "execution_count": 158
        }
      ]
    },
    {
      "cell_type": "code",
      "source": [
        "to_be_removed = {'flow_iat_std', 'fwd_iat_max', 'fwd_iat_std', \n",
        "                 'flow_pkts_s', 'totlen_fwd_pkts', 'fwd_iat_tot', 'fwd_header_len', 'fwd_act_data_pkts' , 'fwd_iat_mean', 'fwd_pkt_len_mean', 'pkt_len_mean', 'pkt_len_var', 'pkt_len_std', 'fwd_pkt_len_mean', 'fwd_pkt_len_max'}\n",
        "webattack_features = [item for item in webattack_features if item not in to_be_removed]\n",
        "webattack_features = webattack_features[:10]\n",
        "webattack_features.append('label')\n",
        "webattack_features"
      ],
      "metadata": {
        "colab": {
          "base_uri": "https://localhost:8080/"
        },
        "id": "8vzkZra-K1tc",
        "outputId": "d628f35c-dfc9-43a0-b09a-6f9044dfc6dd"
      },
      "execution_count": null,
      "outputs": [
        {
          "output_type": "execute_result",
          "data": {
            "text/plain": [
              "['tot_fwd_pkts',\n",
              " 'fwd_pkt_len_std',\n",
              " 'pkt_len_max',\n",
              " 'pkt_size_avg',\n",
              " 'flow_duration',\n",
              " 'flow_iat_max',\n",
              " 'flow_iat_mean',\n",
              " 'fwd_pkts_s',\n",
              " 'label']"
            ]
          },
          "metadata": {},
          "execution_count": 159
        }
      ]
    },
    {
      "cell_type": "code",
      "source": [
        "df[webattack_features].to_csv('Traffci2.csv')"
      ],
      "metadata": {
        "id": "w2IngHBTK1rH"
      },
      "execution_count": null,
      "outputs": []
    }
  ]
}