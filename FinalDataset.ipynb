{
  "cells": [
    {
      "cell_type": "code",
      "execution_count": null,
      "metadata": {
        "colab": {
          "base_uri": "https://localhost:8080/",
          "height": 1000
        },
        "id": "-_bVOR_ciy4S",
        "outputId": "18565653-2c48-4fa7-a2c7-e1ac88f28317"
      },
      "outputs": [
        {
          "output_type": "stream",
          "name": "stdout",
          "text": [
            "Looking in indexes: https://pypi.org/simple, https://us-python.pkg.dev/colab-wheels/public/simple/\n",
            "Collecting https://github.com/pandas-profiling/pandas-profiling/archive/master.zip\n",
            "  Downloading https://github.com/pandas-profiling/pandas-profiling/archive/master.zip (21.8 MB)\n",
            "\u001b[K     |████████████████████████████████| 21.8 MB 53.0 MB/s \n",
            "\u001b[?25hRequirement already satisfied: joblib~=1.1.0 in /usr/local/lib/python3.7/dist-packages (from pandas-profiling==3.2.0) (1.1.0)\n",
            "Requirement already satisfied: scipy>=1.4.1 in /usr/local/lib/python3.7/dist-packages (from pandas-profiling==3.2.0) (1.4.1)\n",
            "Requirement already satisfied: pandas!=1.0.0,!=1.0.1,!=1.0.2,!=1.1.0,>=0.25.3 in /usr/local/lib/python3.7/dist-packages (from pandas-profiling==3.2.0) (1.3.5)\n",
            "Requirement already satisfied: matplotlib>=3.2.0 in /usr/local/lib/python3.7/dist-packages (from pandas-profiling==3.2.0) (3.2.2)\n",
            "Collecting pydantic>=1.8.1\n",
            "  Downloading pydantic-1.9.1-cp37-cp37m-manylinux_2_17_x86_64.manylinux2014_x86_64.whl (11.1 MB)\n",
            "\u001b[K     |████████████████████████████████| 11.1 MB 5.6 MB/s \n",
            "\u001b[?25hCollecting PyYAML>=5.0.0\n",
            "  Downloading PyYAML-6.0-cp37-cp37m-manylinux_2_5_x86_64.manylinux1_x86_64.manylinux_2_12_x86_64.manylinux2010_x86_64.whl (596 kB)\n",
            "\u001b[K     |████████████████████████████████| 596 kB 57.5 MB/s \n",
            "\u001b[?25hRequirement already satisfied: jinja2>=2.11.1 in /usr/local/lib/python3.7/dist-packages (from pandas-profiling==3.2.0) (2.11.3)\n",
            "Collecting visions[type_image_path]==0.7.5\n",
            "  Downloading visions-0.7.5-py3-none-any.whl (102 kB)\n",
            "\u001b[K     |████████████████████████████████| 102 kB 68.3 MB/s \n",
            "\u001b[?25hRequirement already satisfied: numpy>=1.16.0 in /usr/local/lib/python3.7/dist-packages (from pandas-profiling==3.2.0) (1.21.6)\n",
            "Collecting htmlmin>=0.1.12\n",
            "  Downloading htmlmin-0.1.12.tar.gz (19 kB)\n",
            "Requirement already satisfied: missingno>=0.4.2 in /usr/local/lib/python3.7/dist-packages (from pandas-profiling==3.2.0) (0.5.1)\n",
            "Collecting phik>=0.11.1\n",
            "  Downloading phik-0.12.2-cp37-cp37m-manylinux_2_17_x86_64.manylinux2014_x86_64.whl (690 kB)\n",
            "\u001b[K     |████████████████████████████████| 690 kB 44.1 MB/s \n",
            "\u001b[?25hCollecting tangled-up-in-unicode==0.2.0\n",
            "  Downloading tangled_up_in_unicode-0.2.0-py3-none-any.whl (4.7 MB)\n",
            "\u001b[K     |████████████████████████████████| 4.7 MB 42.1 MB/s \n",
            "\u001b[?25hCollecting requests>=2.24.0\n",
            "  Downloading requests-2.27.1-py2.py3-none-any.whl (63 kB)\n",
            "\u001b[K     |████████████████████████████████| 63 kB 1.8 MB/s \n",
            "\u001b[?25hRequirement already satisfied: tqdm>=4.48.2 in /usr/local/lib/python3.7/dist-packages (from pandas-profiling==3.2.0) (4.64.0)\n",
            "Requirement already satisfied: seaborn>=0.10.1 in /usr/local/lib/python3.7/dist-packages (from pandas-profiling==3.2.0) (0.11.2)\n",
            "Collecting multimethod>=1.4\n",
            "  Downloading multimethod-1.8-py3-none-any.whl (9.8 kB)\n",
            "Requirement already satisfied: networkx>=2.4 in /usr/local/lib/python3.7/dist-packages (from visions[type_image_path]==0.7.5->pandas-profiling==3.2.0) (2.6.3)\n",
            "Requirement already satisfied: attrs>=19.3.0 in /usr/local/lib/python3.7/dist-packages (from visions[type_image_path]==0.7.5->pandas-profiling==3.2.0) (21.4.0)\n",
            "Requirement already satisfied: Pillow in /usr/local/lib/python3.7/dist-packages (from visions[type_image_path]==0.7.5->pandas-profiling==3.2.0) (7.1.2)\n",
            "Collecting imagehash\n",
            "  Downloading ImageHash-4.2.1.tar.gz (812 kB)\n",
            "\u001b[K     |████████████████████████████████| 812 kB 47.6 MB/s \n",
            "\u001b[?25hRequirement already satisfied: MarkupSafe>=0.23 in /usr/local/lib/python3.7/dist-packages (from jinja2>=2.11.1->pandas-profiling==3.2.0) (2.0.1)\n",
            "Requirement already satisfied: kiwisolver>=1.0.1 in /usr/local/lib/python3.7/dist-packages (from matplotlib>=3.2.0->pandas-profiling==3.2.0) (1.4.2)\n",
            "Requirement already satisfied: cycler>=0.10 in /usr/local/lib/python3.7/dist-packages (from matplotlib>=3.2.0->pandas-profiling==3.2.0) (0.11.0)\n",
            "Requirement already satisfied: pyparsing!=2.0.4,!=2.1.2,!=2.1.6,>=2.0.1 in /usr/local/lib/python3.7/dist-packages (from matplotlib>=3.2.0->pandas-profiling==3.2.0) (3.0.9)\n",
            "Requirement already satisfied: python-dateutil>=2.1 in /usr/local/lib/python3.7/dist-packages (from matplotlib>=3.2.0->pandas-profiling==3.2.0) (2.8.2)\n",
            "Requirement already satisfied: typing-extensions in /usr/local/lib/python3.7/dist-packages (from kiwisolver>=1.0.1->matplotlib>=3.2.0->pandas-profiling==3.2.0) (4.2.0)\n",
            "Requirement already satisfied: pytz>=2017.3 in /usr/local/lib/python3.7/dist-packages (from pandas!=1.0.0,!=1.0.1,!=1.0.2,!=1.1.0,>=0.25.3->pandas-profiling==3.2.0) (2022.1)\n",
            "Collecting scipy>=1.4.1\n",
            "  Downloading scipy-1.7.3-cp37-cp37m-manylinux_2_12_x86_64.manylinux2010_x86_64.whl (38.1 MB)\n",
            "\u001b[K     |████████████████████████████████| 38.1 MB 196 kB/s \n",
            "\u001b[?25hRequirement already satisfied: six>=1.5 in /usr/local/lib/python3.7/dist-packages (from python-dateutil>=2.1->matplotlib>=3.2.0->pandas-profiling==3.2.0) (1.15.0)\n",
            "Requirement already satisfied: urllib3<1.27,>=1.21.1 in /usr/local/lib/python3.7/dist-packages (from requests>=2.24.0->pandas-profiling==3.2.0) (1.24.3)\n",
            "Requirement already satisfied: charset-normalizer~=2.0.0 in /usr/local/lib/python3.7/dist-packages (from requests>=2.24.0->pandas-profiling==3.2.0) (2.0.12)\n",
            "Requirement already satisfied: certifi>=2017.4.17 in /usr/local/lib/python3.7/dist-packages (from requests>=2.24.0->pandas-profiling==3.2.0) (2022.5.18.1)\n",
            "Requirement already satisfied: idna<4,>=2.5 in /usr/local/lib/python3.7/dist-packages (from requests>=2.24.0->pandas-profiling==3.2.0) (2.10)\n",
            "Requirement already satisfied: PyWavelets in /usr/local/lib/python3.7/dist-packages (from imagehash->visions[type_image_path]==0.7.5->pandas-profiling==3.2.0) (1.3.0)\n",
            "Building wheels for collected packages: pandas-profiling, htmlmin, imagehash\n",
            "  Building wheel for pandas-profiling (setup.py) ... \u001b[?25l\u001b[?25hdone\n",
            "  Created wheel for pandas-profiling: filename=pandas_profiling-3.2.0-py2.py3-none-any.whl size=262599 sha256=67b27d36259aecf7831717f09efe49f08c0d4882f52cd0bd871f8f00d7e4cad8\n",
            "  Stored in directory: /tmp/pip-ephem-wheel-cache-1qfrcqz8/wheels/cc/d5/09/083fb07c9363a2f45854b0e3a7de7d7c560f07da74b9e9769d\n",
            "  Building wheel for htmlmin (setup.py) ... \u001b[?25l\u001b[?25hdone\n",
            "  Created wheel for htmlmin: filename=htmlmin-0.1.12-py3-none-any.whl size=27098 sha256=4b7558c224e9ef591f461b9c93ab9ad502ff463f38c9df3e6792214f3d4842ae\n",
            "  Stored in directory: /root/.cache/pip/wheels/70/e1/52/5b14d250ba868768823940c3229e9950d201a26d0bd3ee8655\n",
            "  Building wheel for imagehash (setup.py) ... \u001b[?25l\u001b[?25hdone\n",
            "  Created wheel for imagehash: filename=ImageHash-4.2.1-py2.py3-none-any.whl size=295206 sha256=eb199643ba6f40294e6ea6dac58f75f9eed78ea3ac2e5aee0ff30622180485d0\n",
            "  Stored in directory: /root/.cache/pip/wheels/4c/d5/59/5e3e297533ddb09407769762985d134135064c6831e29a914e\n",
            "Successfully built pandas-profiling htmlmin imagehash\n",
            "Installing collected packages: tangled-up-in-unicode, scipy, multimethod, visions, imagehash, requests, PyYAML, pydantic, phik, htmlmin, pandas-profiling\n",
            "  Attempting uninstall: scipy\n",
            "    Found existing installation: scipy 1.4.1\n",
            "    Uninstalling scipy-1.4.1:\n",
            "      Successfully uninstalled scipy-1.4.1\n",
            "  Attempting uninstall: requests\n",
            "    Found existing installation: requests 2.23.0\n",
            "    Uninstalling requests-2.23.0:\n",
            "      Successfully uninstalled requests-2.23.0\n",
            "  Attempting uninstall: PyYAML\n",
            "    Found existing installation: PyYAML 3.13\n",
            "    Uninstalling PyYAML-3.13:\n",
            "      Successfully uninstalled PyYAML-3.13\n",
            "  Attempting uninstall: pandas-profiling\n",
            "    Found existing installation: pandas-profiling 1.4.1\n",
            "    Uninstalling pandas-profiling-1.4.1:\n",
            "      Successfully uninstalled pandas-profiling-1.4.1\n",
            "\u001b[31mERROR: pip's dependency resolver does not currently take into account all the packages that are installed. This behaviour is the source of the following dependency conflicts.\n",
            "google-colab 1.0.0 requires requests~=2.23.0, but you have requests 2.27.1 which is incompatible.\n",
            "datascience 0.10.6 requires folium==0.2.1, but you have folium 0.8.3 which is incompatible.\n",
            "albumentations 0.1.12 requires imgaug<0.2.7,>=0.2.5, but you have imgaug 0.2.9 which is incompatible.\u001b[0m\n",
            "Successfully installed PyYAML-6.0 htmlmin-0.1.12 imagehash-4.2.1 multimethod-1.8 pandas-profiling-3.2.0 phik-0.12.2 pydantic-1.9.1 requests-2.27.1 scipy-1.7.3 tangled-up-in-unicode-0.2.0 visions-0.7.5\n"
          ]
        },
        {
          "output_type": "display_data",
          "data": {
            "application/vnd.colab-display-data+json": {
              "pip_warning": {
                "packages": [
                  "scipy"
                ]
              }
            }
          },
          "metadata": {}
        }
      ],
      "source": [
        "!pip install https://github.com/pandas-profiling/pandas-profiling/archive/master.zip"
      ]
    },
    {
      "cell_type": "code",
      "execution_count": null,
      "metadata": {
        "id": "zYa_TpcT-1a1"
      },
      "outputs": [],
      "source": [
        "\n",
        "\n",
        "from pandas_profiling import ProfileReport\n",
        "import pandas as pd\n",
        "import numpy as np\n",
        "\n",
        "import matplotlib.pyplot as plt\n",
        "import seaborn as sns\n",
        "from IPython.core.pylabtools import figsize\n",
        "import random\n",
        "from sklearn.ensemble import RandomForestClassifier\n",
        "from sklearn.model_selection import train_test_split\n",
        "from sklearn.metrics import confusion_matrix\n",
        "from sklearn.cluster import KMeans\n",
        "from sklearn.metrics import accuracy_score\n",
        "from sklearn.metrics import precision_score\n",
        "from sklearn.metrics import recall_score\n",
        "from sklearn.metrics import f1_score"
      ]
    },
    {
      "cell_type": "code",
      "execution_count": null,
      "metadata": {
        "id": "56nSOuh5_IgF"
      },
      "outputs": [],
      "source": [
        "df_train = pd.read_csv('/content/drive/MyDrive/Dataset/Trafic.csv')\n",
        "df_test = pd.read_csv('/content/drive/MyDrive/Dataset/Test/TrafficTest.csv')\n",
        "df_trainkdd = pd.read_csv('/content/drive/MyDrive/KDD/KDDTrain+.csv')\n",
        "df_testkdd = pd.read_csv('/content/drive/MyDrive/KDD/KDDTest+.csv')"
      ]
    },
    {
      "cell_type": "code",
      "execution_count": null,
      "metadata": {
        "id": "Ki5N4qzwhgk3"
      },
      "outputs": [],
      "source": [
        ""
      ]
    },
    {
      "cell_type": "code",
      "execution_count": null,
      "metadata": {
        "id": "3c4G_kwn2-d6"
      },
      "outputs": [],
      "source": [
        ""
      ]
    },
    {
      "cell_type": "code",
      "execution_count": null,
      "metadata": {
        "id": "HDQV8Pj82_A_"
      },
      "outputs": [],
      "source": [
        ""
      ]
    },
    {
      "cell_type": "code",
      "execution_count": null,
      "metadata": {
        "id": "hGO_4CvHcPER"
      },
      "outputs": [],
      "source": [
        "df_train.info()"
      ]
    },
    {
      "cell_type": "markdown",
      "metadata": {
        "id": "WPp3SPPlP0Tb"
      },
      "source": [
        "# Dataset оптимизация"
      ]
    },
    {
      "cell_type": "code",
      "execution_count": null,
      "metadata": {
        "id": "freuXKsy4H1N"
      },
      "outputs": [],
      "source": [
        ""
      ]
    },
    {
      "cell_type": "code",
      "execution_count": null,
      "metadata": {
        "id": "NJY9n5wEdODD"
      },
      "outputs": [],
      "source": [
        ""
      ]
    },
    {
      "cell_type": "code",
      "execution_count": null,
      "metadata": {
        "id": "hYYQ-VquE_9P"
      },
      "outputs": [],
      "source": [
        "df_trainkdd.columns"
      ]
    },
    {
      "cell_type": "code",
      "execution_count": null,
      "metadata": {
        "id": "ednQm4Ql_IeN",
        "colab": {
          "base_uri": "https://localhost:8080/"
        },
        "outputId": "d8891655-68bf-4c27-9aa2-5e527c13764e"
      },
      "outputs": [
        {
          "output_type": "stream",
          "name": "stdout",
          "text": [
            "<class 'pandas.core.frame.DataFrame'>\n",
            "RangeIndex: 31673 entries, 0 to 31672\n",
            "Data columns (total 78 columns):\n",
            " #   Column             Non-Null Count  Dtype  \n",
            "---  ------             --------------  -----  \n",
            " 0   src_ip             31673 non-null  object \n",
            " 1   dst_ip             31673 non-null  object \n",
            " 2   src_port           31673 non-null  int64  \n",
            " 3   dst_port           31673 non-null  int64  \n",
            " 4   src_mac            31673 non-null  object \n",
            " 5   dst_mac            31673 non-null  object \n",
            " 6   protocol           31673 non-null  int64  \n",
            " 7   timestamp          31673 non-null  object \n",
            " 8   flow_duration      31673 non-null  float64\n",
            " 9   flow_byts_s        31673 non-null  float64\n",
            " 10  flow_pkts_s        31673 non-null  float64\n",
            " 11  fwd_pkts_s         31673 non-null  float64\n",
            " 12  bwd_pkts_s         31673 non-null  float64\n",
            " 13  tot_fwd_pkts       31673 non-null  int64  \n",
            " 14  tot_bwd_pkts       31673 non-null  int64  \n",
            " 15  totlen_fwd_pkts    31673 non-null  int64  \n",
            " 16  totlen_bwd_pkts    31673 non-null  int64  \n",
            " 17  fwd_pkt_len_max    31673 non-null  float64\n",
            " 18  fwd_pkt_len_min    31673 non-null  float64\n",
            " 19  fwd_pkt_len_mean   31673 non-null  float64\n",
            " 20  fwd_pkt_len_std    31673 non-null  float64\n",
            " 21  bwd_pkt_len_max    31673 non-null  float64\n",
            " 22  bwd_pkt_len_min    31673 non-null  float64\n",
            " 23  bwd_pkt_len_mean   31673 non-null  float64\n",
            " 24  bwd_pkt_len_std    31673 non-null  float64\n",
            " 25  pkt_len_max        31673 non-null  int64  \n",
            " 26  pkt_len_min        31673 non-null  int64  \n",
            " 27  pkt_len_mean       31673 non-null  float64\n",
            " 28  pkt_len_std        31673 non-null  float64\n",
            " 29  pkt_len_var        31673 non-null  float64\n",
            " 30  fwd_header_len     31673 non-null  int64  \n",
            " 31  bwd_header_len     31673 non-null  int64  \n",
            " 32  fwd_seg_size_min   31673 non-null  int64  \n",
            " 33  fwd_act_data_pkts  31673 non-null  int64  \n",
            " 34  flow_iat_mean      31673 non-null  float64\n",
            " 35  flow_iat_max       31673 non-null  float64\n",
            " 36  flow_iat_min       31673 non-null  float64\n",
            " 37  flow_iat_std       31673 non-null  float64\n",
            " 38  fwd_iat_tot        31673 non-null  float64\n",
            " 39  fwd_iat_max        31673 non-null  float64\n",
            " 40  fwd_iat_min        31673 non-null  float64\n",
            " 41  fwd_iat_mean       31673 non-null  float64\n",
            " 42  fwd_iat_std        31673 non-null  float64\n",
            " 43  bwd_iat_tot        31673 non-null  float64\n",
            " 44  bwd_iat_max        31673 non-null  float64\n",
            " 45  bwd_iat_min        31673 non-null  float64\n",
            " 46  bwd_iat_mean       31673 non-null  float64\n",
            " 47  bwd_iat_std        31673 non-null  float64\n",
            " 48  fwd_psh_flags      31673 non-null  int64  \n",
            " 49  bwd_psh_flags      31673 non-null  int64  \n",
            " 50  fwd_urg_flags      31673 non-null  int64  \n",
            " 51  bwd_urg_flags      31673 non-null  int64  \n",
            " 52  fin_flag_cnt       31673 non-null  int64  \n",
            " 53  syn_flag_cnt       31673 non-null  int64  \n",
            " 54  rst_flag_cnt       31673 non-null  int64  \n",
            " 55  psh_flag_cnt       31673 non-null  int64  \n",
            " 56  ack_flag_cnt       31673 non-null  int64  \n",
            " 57  urg_flag_cnt       31673 non-null  int64  \n",
            " 58  ece_flag_cnt       31673 non-null  int64  \n",
            " 59  down_up_ratio      31673 non-null  float64\n",
            " 60  pkt_size_avg       31673 non-null  float64\n",
            " 61  init_fwd_win_byts  31673 non-null  int64  \n",
            " 62  init_bwd_win_byts  31673 non-null  int64  \n",
            " 63  active_max         31673 non-null  float64\n",
            " 64  active_min         31673 non-null  float64\n",
            " 65  active_mean        31673 non-null  float64\n",
            " 66  active_std         31673 non-null  float64\n",
            " 67  idle_max           31673 non-null  float64\n",
            " 68  idle_min           31673 non-null  float64\n",
            " 69  idle_mean          31673 non-null  float64\n",
            " 70  idle_std           31673 non-null  float64\n",
            " 71  fwd_byts_b_avg     31673 non-null  float64\n",
            " 72  fwd_pkts_b_avg     31673 non-null  float64\n",
            " 73  bwd_byts_b_avg     31673 non-null  float64\n",
            " 74  bwd_pkts_b_avg     31673 non-null  float64\n",
            " 75  fwd_blk_rate_avg   31673 non-null  float64\n",
            " 76  bwd_blk_rate_avg   31673 non-null  float64\n",
            " 77  label              31673 non-null  object \n",
            "dtypes: float64(46), int64(26), object(6)\n",
            "memory usage: 18.8+ MB\n"
          ]
        }
      ],
      "source": [
        "df_train.info()"
      ]
    },
    {
      "cell_type": "code",
      "execution_count": null,
      "metadata": {
        "id": "fI_a0eGN__H2"
      },
      "outputs": [],
      "source": [
        "df_train.columns "
      ]
    },
    {
      "cell_type": "code",
      "execution_count": null,
      "metadata": {
        "colab": {
          "base_uri": "https://localhost:8080/"
        },
        "id": "LyWyQIpZByWZ",
        "outputId": "74dec9e9-6654-46ef-b6ee-8b52c49feb9d"
      },
      "outputs": [
        {
          "output_type": "execute_result",
          "data": {
            "text/plain": [
              "SAFE      15532\n",
              "XSS        8458\n",
              "BRUTE      3873\n",
              "SQLINJ     3810\n",
              "Name: label, dtype: int64"
            ]
          },
          "metadata": {},
          "execution_count": 102
        }
      ],
      "source": [
        "df_train['label'].value_counts()\n"
      ]
    },
    {
      "cell_type": "code",
      "execution_count": null,
      "metadata": {
        "colab": {
          "base_uri": "https://localhost:8080/"
        },
        "id": "ikadlAbgcLyd",
        "outputId": "299d578e-a0de-4b68-840e-7d26a93a0d09"
      },
      "outputs": [
        {
          "output_type": "execute_result",
          "data": {
            "text/plain": [
              "SQLINJ    1683\n",
              "XSS       1293\n",
              "BRUTE     1253\n",
              "SAFE       460\n",
              "Name: label, dtype: int64"
            ]
          },
          "metadata": {},
          "execution_count": 23
        }
      ],
      "source": [
        "df_test['label'].value_counts()"
      ]
    },
    {
      "cell_type": "code",
      "execution_count": null,
      "metadata": {
        "id": "wmxXSlTR_IYh"
      },
      "outputs": [],
      "source": [
        "dropFeatures = ['src_ip','dst_ip', 'src_port', 'dst_port', 'src_mac', 'dst_mac', 'protocol', 'timestamp','fwd_blk_rate_avg']\n"
      ]
    },
    {
      "cell_type": "code",
      "source": [
        "#fwd_byts_b_avg, fwd_pkts_b_avg\n",
        "#idle_std,idle_mean, idle_min, idle_max\n",
        "#fwd_iat_std, fwd_iat_mean, fwd_iat_max, flow_iat_mean, flow_iat_max, fwd_iat_max\n",
        "#totlen_fwd_pkts,flow_duration, tot_fwd_pkts, fwd_act_data_pkts, fwd_iat_tot\n",
        "#flow_byts_s,flow_pkts_s,fwd_pkts_s\n",
        "#pkt_len_std, fwd_prk_len_max,fwd_pkt_len_mean,pkt_len_max,pkt_len_std,pkt_len_var,pkt_size_avg\n",
        "#totlen_fwd_pkts,fwd_header_len\n",
        "#pkt_len_min,fwd_pkt_len_min\n",
        "#fwd_pkt_len_mean,pkt_len_mean\n",
        "#flow_iat_min,fwd_iat_min\n",
        "#active_std,active_max\n",
        "drop = ['fwd_pkts_b_avg','idle_std','idle_mean', 'idle_min',\n",
        "        'fwd_iat_std', 'fwd_iat_mean','flow_iat_mean', \n",
        "        'flow_iat_max', 'fwd_iat_max','flow_duration',\n",
        "        'tot_fwd_pkts', 'fwd_act_data_pkts','fwd_iat_tot',\n",
        "        'flow_byts_s','flow_pkts_s','pkt_len_max','pkt_len_std','pkt_len_var','pkt_size_avg',\n",
        "        'pkt_len_std', 'fwd_pkt_len_max','totlen_fwd_pkts','pkt_len_min','fwd_pkt_len_mean','fwd_iat_min','active_std','init_fwd_win_byts']"
      ],
      "metadata": {
        "id": "ZY1Vp74rKofD"
      },
      "execution_count": null,
      "outputs": []
    },
    {
      "cell_type": "code",
      "execution_count": null,
      "metadata": {
        "id": "29UzdVbWAiTX"
      },
      "outputs": [],
      "source": [
        "df_train = df_train.drop(columns=dropFeatures)\n",
        "df_test = df_test.drop(columns=dropFeatures)\n"
      ]
    },
    {
      "cell_type": "code",
      "source": [
        "df_train = df_train.drop(columns=drop)\n",
        "df_test = df_test.drop(columns=drop)"
      ],
      "metadata": {
        "id": "Iyc2Q2_kNpzC"
      },
      "execution_count": null,
      "outputs": []
    },
    {
      "cell_type": "code",
      "execution_count": null,
      "metadata": {
        "id": "Fppw6H2L_IUL"
      },
      "outputs": [],
      "source": [
        "df_train.replace([np.inf, -np.inf, np.nan], -1, inplace=True)"
      ]
    },
    {
      "cell_type": "code",
      "execution_count": null,
      "metadata": {
        "id": "r-u4YaeB_IRs"
      },
      "outputs": [],
      "source": [
        ""
      ]
    },
    {
      "cell_type": "code",
      "execution_count": null,
      "metadata": {
        "id": "cN7-jEAlC56m"
      },
      "outputs": [],
      "source": [
        ""
      ]
    },
    {
      "cell_type": "code",
      "execution_count": null,
      "metadata": {
        "colab": {
          "base_uri": "https://localhost:8080/"
        },
        "id": "HEztx4G3tWQs",
        "outputId": "729409cd-7193-4fa2-e9f8-34608c8447a7"
      },
      "outputs": [
        {
          "output_type": "execute_result",
          "data": {
            "text/plain": [
              "1"
            ]
          },
          "metadata": {},
          "execution_count": 177
        }
      ],
      "source": [
        "len(df_train['bwd_pkts_s'].value_counts())"
      ]
    },
    {
      "cell_type": "code",
      "execution_count": null,
      "metadata": {
        "id": "tjyu-ZZhtLZq"
      },
      "outputs": [],
      "source": [
        "for i in df_train.columns:\n",
        "  if (len(df_train['{0}'.format(i)].value_counts()) == 1):\n",
        "    df_train = df_train.drop(columns= ['{0}'.format(i)] , axis=1) \n",
        "    df_test = df_test.drop(columns= ['{0}'.format(i)] , axis=1) "
      ]
    },
    {
      "cell_type": "code",
      "execution_count": null,
      "metadata": {
        "id": "8O6SeYkAt7Xb",
        "colab": {
          "base_uri": "https://localhost:8080/"
        },
        "outputId": "2cbe6ee2-4c6f-4038-fd16-909af2d9deae"
      },
      "outputs": [
        {
          "output_type": "stream",
          "name": "stdout",
          "text": [
            "<class 'pandas.core.frame.DataFrame'>\n",
            "RangeIndex: 31673 entries, 0 to 31672\n",
            "Data columns (total 26 columns):\n",
            " #   Column             Non-Null Count  Dtype  \n",
            "---  ------             --------------  -----  \n",
            " 0   flow_byts_s        31673 non-null  float64\n",
            " 1   flow_pkts_s        31673 non-null  float64\n",
            " 2   fwd_pkts_s         31673 non-null  float64\n",
            " 3   totlen_fwd_pkts    31673 non-null  int64  \n",
            " 4   fwd_pkt_len_max    31673 non-null  float64\n",
            " 5   fwd_pkt_len_min    31673 non-null  float64\n",
            " 6   fwd_pkt_len_mean   31673 non-null  float64\n",
            " 7   fwd_pkt_len_std    31673 non-null  float64\n",
            " 8   pkt_len_max        31673 non-null  int64  \n",
            " 9   pkt_len_min        31673 non-null  int64  \n",
            " 10  pkt_len_mean       31673 non-null  float64\n",
            " 11  pkt_len_std        31673 non-null  float64\n",
            " 12  pkt_len_var        31673 non-null  float64\n",
            " 13  fwd_header_len     31673 non-null  int64  \n",
            " 14  flow_iat_min       31673 non-null  float64\n",
            " 15  flow_iat_std       31673 non-null  float64\n",
            " 16  fwd_iat_min        31673 non-null  float64\n",
            " 17  pkt_size_avg       31673 non-null  float64\n",
            " 18  init_fwd_win_byts  31673 non-null  int64  \n",
            " 19  active_max         31673 non-null  float64\n",
            " 20  active_min         31673 non-null  float64\n",
            " 21  active_mean        31673 non-null  float64\n",
            " 22  active_std         31673 non-null  float64\n",
            " 23  idle_max           31673 non-null  float64\n",
            " 24  fwd_byts_b_avg     31673 non-null  float64\n",
            " 25  label              31673 non-null  object \n",
            "dtypes: float64(20), int64(5), object(1)\n",
            "memory usage: 6.3+ MB\n"
          ]
        }
      ],
      "source": [
        "df_train.info()"
      ]
    },
    {
      "cell_type": "code",
      "execution_count": null,
      "metadata": {
        "id": "7MhQL5Di3_Fc"
      },
      "outputs": [],
      "source": [
        ""
      ]
    },
    {
      "cell_type": "code",
      "execution_count": null,
      "metadata": {
        "id": "imL_d6jF3YCq"
      },
      "outputs": [],
      "source": [
        "\n",
        " "
      ]
    },
    {
      "cell_type": "code",
      "execution_count": null,
      "metadata": {
        "id": "Arpaq6NO303c"
      },
      "outputs": [],
      "source": [
        ""
      ]
    },
    {
      "cell_type": "code",
      "execution_count": null,
      "metadata": {
        "id": "wMDB5pSx30zf"
      },
      "outputs": [],
      "source": [
        "\n",
        "\n",
        " "
      ]
    },
    {
      "cell_type": "code",
      "execution_count": null,
      "metadata": {
        "id": "ZzKlaQxJb1SU"
      },
      "outputs": [],
      "source": [
        "df_train.to_csv('df_train.csv',index=False)"
      ]
    },
    {
      "cell_type": "code",
      "execution_count": null,
      "metadata": {
        "id": "Fl2ZtyRXb-TK"
      },
      "outputs": [],
      "source": [
        "df_test.to_csv('df_test.csv')"
      ]
    },
    {
      "cell_type": "code",
      "execution_count": null,
      "metadata": {
        "id": "eXbKhFNj3qjy"
      },
      "outputs": [],
      "source": [
        ""
      ]
    },
    {
      "cell_type": "code",
      "execution_count": null,
      "metadata": {
        "id": "4mLViLPob0mm"
      },
      "outputs": [],
      "source": [
        ""
      ]
    },
    {
      "cell_type": "code",
      "execution_count": null,
      "metadata": {
        "id": "PJs68_7cfBRC"
      },
      "outputs": [],
      "source": [
        "profile = df_train.profile_report(title='Pandas Profiling Report',minimal=True, progress_bar=True, correlations={\"pearson\": {\"calculate\": True}})"
      ]
    },
    {
      "cell_type": "code",
      "execution_count": null,
      "metadata": {
        "colab": {
          "base_uri": "https://localhost:8080/",
          "height": 145,
          "referenced_widgets": [
            "4062bbe67ad641c78b681c2c6b355716",
            "0730f7db05bc493786cacf82f6667338",
            "60e3bbbb45db43d4b3792c8e437e42d6",
            "eed99f4259b54f29bfabbb98a2ff6f5b",
            "bd578f6e90ef491c8af22c24b2b40553",
            "142f4968ade648d1bca2ada9c9273944",
            "bc7cd32d275d4926a695ea564e0f50c3",
            "3cf3c851c0864dfd805dbd66ff2b8608",
            "e3f7fec3e87f4778b651573c2127b97d",
            "a11d07ab909e4e27aab369939ddb0944",
            "24c4ef0c50b84e3b958deddee5d1043a",
            "c921e10fe6e44fc3b27b67292cced532",
            "d9ae314bbdbd4c5282f97698915a3f78",
            "8e88d210353a44ffb10b5bb04decd459",
            "5f68e5f32f954c26aeeab96059920106",
            "8dade6aa4af5401aaae361db4e89d607",
            "7fa9233f9448430786ad8323e8943832",
            "07f54e789e4d4a98a49f417fd744c56c",
            "057d433a51d348efa6fd2cf9b5f34c3b",
            "5069e9ec3f1c4f458872fcdf807414d1",
            "26262ab157fc4329bd5793150e798464",
            "7e5bec1cae29402984c1a4823562d373",
            "e12b20de2ee24e58a36224bf6d72ebea",
            "36f50dc78fd24ad88917af40cbe737a8",
            "199194b66ff744a08d5b636167de6b70",
            "edcf1b4f4e7b455fb75cc82ea2d7b27a",
            "0e66f413a4b94165a3770d59885bfe3b",
            "b0a7159c9f0b4404a9219ee44c6bec12",
            "a062057847624a00ba05166372b1f349",
            "eada7c31cad7468999a870e26c98dca9",
            "9ceab90ba5564ae285c839a7472e5fb5",
            "93bcd2e3738840d9996fd12454aa3c7e",
            "c4e37ba4f1b045b4b4a4329805c00395",
            "d5588998a19c40c88bc1469c9c89cd68",
            "7bac8298b5db44a1b84c169b05a2098b",
            "5de6acda3a4e46a8b29083bcb0d3f784",
            "8a691c5436f04094b5f1f4169829c251",
            "b289a5c2e28241d9bcf2d98bc746615a",
            "1bb611fbbcfc4807a44d88c69c386e71",
            "080172af21d94ec58f4ac0f60400d43e",
            "2d0b6b1bf5654868a6154f9b6c741cca",
            "6d52b7b812dc42d586cc8149b2a823a9",
            "5daf91e4d9fb44d7a10bb92389badd0e",
            "665ef5cde9aa4cea9e1b0d1de286f9dc"
          ]
        },
        "id": "r5U-2V6SfEYP",
        "outputId": "546dc4d5-23de-40af-ca10-43fd97cb7ae7"
      },
      "outputs": [
        {
          "output_type": "display_data",
          "data": {
            "text/plain": [
              "Summarize dataset:   0%|          | 0/5 [00:00<?, ?it/s]"
            ],
            "application/vnd.jupyter.widget-view+json": {
              "version_major": 2,
              "version_minor": 0,
              "model_id": "4062bbe67ad641c78b681c2c6b355716"
            }
          },
          "metadata": {}
        },
        {
          "output_type": "display_data",
          "data": {
            "text/plain": [
              "Generate report structure:   0%|          | 0/1 [00:00<?, ?it/s]"
            ],
            "application/vnd.jupyter.widget-view+json": {
              "version_major": 2,
              "version_minor": 0,
              "model_id": "c921e10fe6e44fc3b27b67292cced532"
            }
          },
          "metadata": {}
        },
        {
          "output_type": "display_data",
          "data": {
            "text/plain": [
              "Render HTML:   0%|          | 0/1 [00:00<?, ?it/s]"
            ],
            "application/vnd.jupyter.widget-view+json": {
              "version_major": 2,
              "version_minor": 0,
              "model_id": "e12b20de2ee24e58a36224bf6d72ebea"
            }
          },
          "metadata": {}
        },
        {
          "output_type": "display_data",
          "data": {
            "text/plain": [
              "Export report to file:   0%|          | 0/1 [00:00<?, ?it/s]"
            ],
            "application/vnd.jupyter.widget-view+json": {
              "version_major": 2,
              "version_minor": 0,
              "model_id": "d5588998a19c40c88bc1469c9c89cd68"
            }
          },
          "metadata": {}
        }
      ],
      "source": [
        "profile.to_file(\"your_report.html\")"
      ]
    },
    {
      "cell_type": "code",
      "execution_count": null,
      "metadata": {
        "id": "wjWQRH1Mgtm4"
      },
      "outputs": [],
      "source": [
        "df_test.info()"
      ]
    },
    {
      "cell_type": "code",
      "execution_count": null,
      "metadata": {
        "id": "WJqFaojK_IQH"
      },
      "outputs": [],
      "source": [
        "x_train = df_train.drop(columns='label')\n",
        "y_train = df_train['label']\n",
        "x_test = df_test.drop(columns='label')\n",
        "y_test = df_test['label']\n",
        "x_trainkdd = df_trainkdd.drop(columns='class')\n",
        "y_trainkdd = df_trainkdd['class']\n",
        "x_testkdd = df_testkdd.drop(columns='class')\n",
        "y_testkdd = df_testkdd['class']\n",
        "y_train = y_train.apply(lambda x: 0 if x == 'SAFE' else 1)\n",
        "y_test = y_test.apply(lambda x: 0 if x == 'SAFE' else 1)"
      ]
    },
    {
      "cell_type": "code",
      "source": [
        "import seaborn as sns\n",
        "corr_matrix = df_train.corr()\n",
        "plt.rcParams['figure.figsize'] = (16, 5)\n",
        "g = sns.heatmap(corr_matrix, annot=True, fmt='.1g', cmap='Greys')\n",
        "g.set_xticklabels(g.get_xticklabels(), verticalalignment='top', horizontalalignment='right', rotation=30);\n",
        "plt.savefig('corr_heatmap.png', dpi=300, bbox_inches='tight')"
      ],
      "metadata": {
        "colab": {
          "base_uri": "https://localhost:8080/",
          "height": 365
        },
        "id": "pK-IICMVKz5H",
        "outputId": "1c96b32f-f3d7-4ee9-cfe3-5760fc469071"
      },
      "execution_count": null,
      "outputs": [
        {
          "output_type": "display_data",
          "data": {
            "text/plain": [
              "<Figure size 1152x360 with 2 Axes>"
            ],
            "image/png": "[encoded data removed]"
          },
          "metadata": {
            "needs_background": "light"
          }
        }
      ]
    },
    {
      "cell_type": "code",
      "source": [
        "from sklearn.model_selection import GridSearchCV"
      ],
      "metadata": {
        "id": "jnRLzTkNC9gw"
      },
      "execution_count": null,
      "outputs": []
    },
    {
      "cell_type": "code",
      "source": [
        "parametrs = { 'n_estimators': range (1, 61, 10),\n",
        "              'max_depth': range (1, 21, 4),\n",
        "              'min_samples_leaf': range (1, 11, 1),\n",
        "              'min_samples_split': range (2, 11, 2)}"
      ],
      "metadata": {
        "id": "ZvpxuYciC3IL"
      },
      "execution_count": null,
      "outputs": []
    },
    {
      "cell_type": "code",
      "source": [
        "df_train.info()"
      ],
      "metadata": {
        "id": "cRusZ7DnElQv"
      },
      "execution_count": null,
      "outputs": []
    },
    {
      "cell_type": "code",
      "source": [
        "modelRF = RandomForestClassifier()"
      ],
      "metadata": {
        "id": "kNJJNY1RC6AD"
      },
      "execution_count": null,
      "outputs": []
    },
    {
      "cell_type": "code",
      "source": [
        "modelRF.fit(x_train, y_train)"
      ],
      "metadata": {
        "colab": {
          "base_uri": "https://localhost:8080/"
        },
        "id": "cw0vlW8KIl1O",
        "outputId": "10d4f665-4808-44c4-d04f-60cd1470f578"
      },
      "execution_count": null,
      "outputs": [
        {
          "output_type": "execute_result",
          "data": {
            "text/plain": [
              "RandomForestClassifier()"
            ]
          },
          "metadata": {},
          "execution_count": 184
        }
      ]
    },
    {
      "cell_type": "code",
      "source": [
        ""
      ],
      "metadata": {
        "id": "0Xn2J4rbIXmY"
      },
      "execution_count": null,
      "outputs": []
    },
    {
      "cell_type": "code",
      "source": [
        "featuresImportance = modelRF.feature_importances_"
      ],
      "metadata": {
        "id": "wkzd6cc8KK8Z"
      },
      "execution_count": null,
      "outputs": []
    },
    {
      "cell_type": "code",
      "source": [
        "sorted_idx = np.flip(featuresImportance.argsort())"
      ],
      "metadata": {
        "id": "54MF7fP2IlX9"
      },
      "execution_count": null,
      "outputs": []
    },
    {
      "cell_type": "code",
      "source": [
        "for i in sorted_idx[0:40]:\n",
        "    print('{} - {}'.format(featuresImportance[i], x_train.columns[i]))\n",
        "    #active_std,active_max"
      ],
      "metadata": {
        "colab": {
          "base_uri": "https://localhost:8080/"
        },
        "id": "M7kkl5SAKPau",
        "outputId": "7f2cd65f-9585-4638-e8ab-c5fcc1f296bd"
      },
      "execution_count": null,
      "outputs": [
        {
          "output_type": "stream",
          "name": "stdout",
          "text": [
            "0.22391924747822325 - fwd_header_len\n",
            "0.21470461490769707 - fwd_pkts_s\n",
            "0.2021885504471468 - pkt_len_mean\n",
            "0.19478257729243162 - flow_iat_std\n",
            "0.10242859126364275 - idle_max\n",
            "0.03907054721027356 - fwd_pkt_len_std\n",
            "0.009387583867614444 - flow_iat_min\n",
            "0.007641703307272805 - init_fwd_win_byts\n",
            "0.0015446283658745058 - active_min\n",
            "0.0015429096118418607 - active_mean\n",
            "0.0013589615599617169 - fwd_pkt_len_min\n",
            "0.0007780584889332962 - active_max\n",
            "0.0006520261990863288 - fwd_byts_b_avg\n"
          ]
        }
      ]
    },
    {
      "cell_type": "code",
      "source": [
        "kf = model_selection.KFold(n_splits=5, shuffle=True, random_state=24)"
      ],
      "metadata": {
        "id": "GqFS_jh_WnHk"
      },
      "execution_count": null,
      "outputs": []
    },
    {
      "cell_type": "code",
      "source": [
        "grid = GridSearchCV(modelRF, parametrs, cv = 5 , return_train_score=True)\n",
        "grid.fit(x_train, y_train)"
      ],
      "metadata": {
        "colab": {
          "base_uri": "https://localhost:8080/"
        },
        "id": "F7a8QmxCCtpQ",
        "outputId": "aa6a6ba8-4d4f-4ed6-ad66-35258e5fa1f4"
      },
      "execution_count": null,
      "outputs": [
        {
          "output_type": "execute_result",
          "data": {
            "text/plain": [
              "GridSearchCV(cv=5, estimator=RandomForestClassifier(),\n",
              "             param_grid={'max_depth': range(1, 21, 4),\n",
              "                         'min_samples_leaf': range(1, 11),\n",
              "                         'min_samples_split': range(2, 11, 2),\n",
              "                         'n_estimators': range(1, 61, 10)},\n",
              "             return_train_score=True)"
            ]
          },
          "metadata": {},
          "execution_count": 212
        }
      ]
    },
    {
      "cell_type": "code",
      "source": [
        "grid.best_params_"
      ],
      "metadata": {
        "colab": {
          "base_uri": "https://localhost:8080/"
        },
        "id": "dhL7fsUwgpAw",
        "outputId": "f1a5bb01-af23-4190-f1c2-e59dd77d3d83"
      },
      "execution_count": null,
      "outputs": [
        {
          "output_type": "execute_result",
          "data": {
            "text/plain": [
              "{'max_depth': 9,\n",
              " 'min_samples_leaf': 4,\n",
              " 'min_samples_split': 10,\n",
              " 'n_estimators': 1}"
            ]
          },
          "metadata": {},
          "execution_count": 213
        }
      ]
    },
    {
      "cell_type": "code",
      "execution_count": null,
      "metadata": {
        "colab": {
          "base_uri": "https://localhost:8080/"
        },
        "id": "LogRr_Vodjdk",
        "outputId": "c0766cee-daab-442e-c9a3-106422e1b180"
      },
      "outputs": [
        {
          "data": {
            "text/plain": [
              "SQLINJ    1683\n",
              "XSS       1293\n",
              "BRUTE     1253\n",
              "SAFE       460\n",
              "Name: label, dtype: int64"
            ]
          },
          "execution_count": 81,
          "metadata": {},
          "output_type": "execute_result"
        }
      ],
      "source": [
        "df_test['label'].value_counts()"
      ]
    },
    {
      "cell_type": "code",
      "execution_count": null,
      "metadata": {
        "id": "gnjzXTBDZ1-J"
      },
      "outputs": [],
      "source": [
        "features_x = x_train.columns"
      ]
    },
    {
      "cell_type": "code",
      "execution_count": null,
      "metadata": {
        "id": "DLLLASAh_IOz"
      },
      "outputs": [],
      "source": [
        "x_train.info()"
      ]
    },
    {
      "cell_type": "code",
      "execution_count": null,
      "metadata": {
        "colab": {
          "base_uri": "https://localhost:8080/"
        },
        "id": "E22HAOP__INJ",
        "outputId": "fee5db3e-fad2-4d94-8483-7801672ce500"
      },
      "outputs": [
        {
          "data": {
            "text/plain": [
              "0        SAFE\n",
              "1        SAFE\n",
              "2        SAFE\n",
              "3        SAFE\n",
              "4        SAFE\n",
              "         ... \n",
              "31668     XSS\n",
              "31669     XSS\n",
              "31670     XSS\n",
              "31671     XSS\n",
              "31672     XSS\n",
              "Name: label, Length: 31673, dtype: object"
            ]
          },
          "execution_count": 84,
          "metadata": {},
          "output_type": "execute_result"
        }
      ],
      "source": [
        "y_train"
      ]
    },
    {
      "cell_type": "code",
      "execution_count": null,
      "metadata": {
        "id": "StY6t_FZ3Mfb"
      },
      "outputs": [],
      "source": [
        ""
      ]
    },
    {
      "cell_type": "markdown",
      "metadata": {
        "id": "kxRMjE4hGP0S"
      },
      "source": [
        "K-Means\n"
      ]
    },
    {
      "cell_type": "markdown",
      "metadata": {
        "id": "AsRneXpD-LOV"
      },
      "source": [
        "# K-means\n"
      ]
    },
    {
      "cell_type": "code",
      "execution_count": null,
      "metadata": {
        "id": "1p2cKtbR_ILX"
      },
      "outputs": [],
      "source": [
        "#model = KMeans(n_clusters=4)"
      ]
    },
    {
      "cell_type": "code",
      "execution_count": null,
      "metadata": {
        "id": "f-F1-tOB_IJ5"
      },
      "outputs": [],
      "source": [
        "#model.fit(x_train)"
      ]
    },
    {
      "cell_type": "code",
      "execution_count": null,
      "metadata": {
        "id": "F7flc8lMFcQH"
      },
      "outputs": [],
      "source": [
        "#a = pd.read_csv(\"/content/Test.csv\")"
      ]
    },
    {
      "cell_type": "code",
      "execution_count": null,
      "metadata": {
        "id": "ITKo2aeE_IIl"
      },
      "outputs": [],
      "source": [
        "#predicted_label = model.predict(a)"
      ]
    },
    {
      "cell_type": "code",
      "execution_count": null,
      "metadata": {
        "id": "QDSmWv8D_IHO"
      },
      "outputs": [],
      "source": [
        "#predicted_label"
      ]
    },
    {
      "cell_type": "code",
      "execution_count": null,
      "metadata": {
        "id": "74-r9Q-fGlCP"
      },
      "outputs": [],
      "source": [
        "#from sklearn.manifold import TSNE"
      ]
    },
    {
      "cell_type": "code",
      "execution_count": null,
      "metadata": {
        "id": "As7v85E1_IFv"
      },
      "outputs": [],
      "source": [
        "#model = TSNE(learning_rate=100)"
      ]
    },
    {
      "cell_type": "code",
      "execution_count": null,
      "metadata": {
        "id": "g1Mr7uOA_IER"
      },
      "outputs": [],
      "source": [
        "#transformed = model.fit_transform(x_train)"
      ]
    },
    {
      "cell_type": "code",
      "execution_count": null,
      "metadata": {
        "id": "TNaj7aNN_IBv"
      },
      "outputs": [],
      "source": [
        "#x_axis = transformed[:, 0]\n",
        "#y_axis = transformed[:, 1]"
      ]
    },
    {
      "cell_type": "code",
      "execution_count": null,
      "metadata": {
        "id": "sgsmzBb0RTdp"
      },
      "outputs": [],
      "source": [
        "#y_train"
      ]
    },
    {
      "cell_type": "code",
      "execution_count": null,
      "metadata": {
        "id": "FqdJzsHVKeII"
      },
      "outputs": [],
      "source": [
        "#y_number = y_train.copy()"
      ]
    },
    {
      "cell_type": "code",
      "execution_count": null,
      "metadata": {
        "id": "jk9eehS1WTks"
      },
      "outputs": [],
      "source": [
        "#y_number = y_number.replace('SAFE',0)\n",
        "#y_number = y_number.replace('XSS',1)\n",
        "\n",
        "#y_number = y_number.replace('SQLINJ',2)\n",
        "\n",
        "#y_number = y_number.replace('BRUTE',3)\n",
        "\n",
        "#y_number"
      ]
    },
    {
      "cell_type": "code",
      "execution_count": null,
      "metadata": {
        "id": "luGmOcToIPvr"
      },
      "outputs": [],
      "source": [
        ""
      ]
    },
    {
      "cell_type": "code",
      "execution_count": null,
      "metadata": {
        "id": "S7-JAgb3JGeo"
      },
      "outputs": [],
      "source": [
        ""
      ]
    },
    {
      "cell_type": "code",
      "execution_count": null,
      "metadata": {
        "id": "_D2rZgg3_H_j"
      },
      "outputs": [],
      "source": [
        "#plt.scatter(x_axis, y_axis, c=y_number)\n",
        "#plt.show()"
      ]
    },
    {
      "cell_type": "code",
      "execution_count": null,
      "metadata": {
        "id": "ox_5sBQT_H-I"
      },
      "outputs": [],
      "source": [
        ""
      ]
    },
    {
      "cell_type": "markdown",
      "metadata": {
        "id": "YWN2eflnW94a"
      },
      "source": [
        "# Классификация"
      ]
    },
    {
      "cell_type": "code",
      "execution_count": null,
      "metadata": {
        "id": "_T2V3XUQXqb3"
      },
      "outputs": [],
      "source": [
        "#DecisionTree, RandomForest, catboost, light-gbm, XGboost."
      ]
    },
    {
      "cell_type": "code",
      "execution_count": null,
      "metadata": {
        "id": "msV-uPdB_H7P"
      },
      "outputs": [],
      "source": [
        ""
      ]
    },
    {
      "cell_type": "markdown",
      "metadata": {
        "id": "NNxUa2Q_Z8ZA"
      },
      "source": [
        "## RandomForestClassifier important features CIC"
      ]
    },
    {
      "cell_type": "code",
      "execution_count": null,
      "metadata": {
        "colab": {
          "base_uri": "https://localhost:8080/"
        },
        "id": "_FYOLPKMaDc6",
        "outputId": "3b7b089e-c8da-421d-8da8-1c8c3835150a"
      },
      "outputs": [
        {
          "output_type": "stream",
          "name": "stderr",
          "text": [
            "/usr/local/lib/python3.7/dist-packages/IPython/core/interactiveshell.py:2882: DtypeWarning: Columns (0,1,3,6,84) have mixed types.Specify dtype option on import or set low_memory=False.\n",
            "  exec(code_obj, self.user_global_ns, self.user_ns)\n"
          ]
        }
      ],
      "source": [
        "df_cic = pd.read_csv('/content/drive/MyDrive/Thursday-WorkingHours-Morning-WebAttacks.pcap_ISCX.csv',encoding='cp1252')"
      ]
    },
    {
      "cell_type": "code",
      "execution_count": null,
      "metadata": {
        "colab": {
          "base_uri": "https://localhost:8080/"
        },
        "id": "RXI1J-VPaDal",
        "outputId": "811f56b3-6750-4fe0-a7f3-63f01a5debeb"
      },
      "outputs": [
        {
          "output_type": "stream",
          "name": "stdout",
          "text": [
            "<class 'pandas.core.frame.DataFrame'>\n",
            "RangeIndex: 458968 entries, 0 to 458967\n",
            "Data columns (total 85 columns):\n",
            " #   Column                Non-Null Count   Dtype  \n",
            "---  ------                --------------   -----  \n",
            " 0   flow_id               170366 non-null  object \n",
            " 1   src_ip                170366 non-null  object \n",
            " 2   dst_ip                170366 non-null  float64\n",
            " 3   src_port              170366 non-null  object \n",
            " 4   dst_port              170366 non-null  float64\n",
            " 5   protocol              170366 non-null  float64\n",
            " 6   timestamp             170366 non-null  object \n",
            " 7   flow_duration         170366 non-null  float64\n",
            " 8   tot_fwd_pkts          170366 non-null  float64\n",
            " 9   tot_bwd_pkts          170366 non-null  float64\n",
            " 10  totlen_fwd_pkts       170366 non-null  float64\n",
            " 11  totlen_bwd_pkts       170366 non-null  float64\n",
            " 12  fwd_pkt_len_max       170366 non-null  float64\n",
            " 13  fwd_pkt_len_min       170366 non-null  float64\n",
            " 14  fwd_pkt_len_mean      170366 non-null  float64\n",
            " 15  fwd_pkt_len_std       170366 non-null  float64\n",
            " 16  bwd_pkt_len_max       170366 non-null  float64\n",
            " 17  bwd_pkt_len_min       170366 non-null  float64\n",
            " 18  bwd_pkt_len_mean      170366 non-null  float64\n",
            " 19  bwd_pkt_len_std       170366 non-null  float64\n",
            " 20  flow_byts_s           170346 non-null  float64\n",
            " 21  flow_pkts_s           170366 non-null  float64\n",
            " 22  flow_iat_mean         170366 non-null  float64\n",
            " 23  flow_iat_std          170366 non-null  float64\n",
            " 24  flow_iat_max          170366 non-null  float64\n",
            " 25  flow_iat_min          170366 non-null  float64\n",
            " 26  fwd_iat_tot           170366 non-null  float64\n",
            " 27  fwd_iat_mean          170366 non-null  float64\n",
            " 28  fwd_iat_std           170366 non-null  float64\n",
            " 29  fwd_iat_max           170366 non-null  float64\n",
            " 30  fwd_iat_min           170366 non-null  float64\n",
            " 31  bwd_iat_tot           170366 non-null  float64\n",
            " 32  bwd_iat_mean          170366 non-null  float64\n",
            " 33  bwd_iat_std           170366 non-null  float64\n",
            " 34  bwd_iat_max           170366 non-null  float64\n",
            " 35  bwd_iat_min           170366 non-null  float64\n",
            " 36  fwd_psh_flags         170366 non-null  float64\n",
            " 37  bwd_psh_flags         170366 non-null  float64\n",
            " 38  fwd_urg_flags         170366 non-null  float64\n",
            " 39  bwd_urg_flags         170366 non-null  float64\n",
            " 40  fwd_header_len        170366 non-null  float64\n",
            " 41  bwd_header_len        170366 non-null  float64\n",
            " 42  fwd_pkts_s            170366 non-null  float64\n",
            " 43  bwd_pkts_s            170366 non-null  float64\n",
            " 44  pkt_len_min           170366 non-null  float64\n",
            " 45  pkt_len_max           170366 non-null  float64\n",
            " 46  pkt_len_mean          170366 non-null  float64\n",
            " 47  pkt_len_std           170366 non-null  float64\n",
            " 48  pkt_len_var           170366 non-null  float64\n",
            " 49  fin_flag_cnt          170366 non-null  float64\n",
            " 50  syn_flag_cnt          170366 non-null  float64\n",
            " 51  rst_flag_cnt          170366 non-null  float64\n",
            " 52  psh_flag_cnt          170366 non-null  float64\n",
            " 53  ack_flag_cnt          170366 non-null  float64\n",
            " 54  urg_flag_cnt          170366 non-null  float64\n",
            " 55  CWE Flag Count        170366 non-null  float64\n",
            " 56  ece_flag_cnt          170366 non-null  float64\n",
            " 57  down_up_ratio         170366 non-null  float64\n",
            " 58  pkt_size_avg          170366 non-null  float64\n",
            " 59  Average Packet Size   170366 non-null  float64\n",
            " 60  Avg Bwd Segment Size  170366 non-null  float64\n",
            " 61  Fwd Header Length     170366 non-null  float64\n",
            " 62  fwd_byts_b_avg        170366 non-null  float64\n",
            " 63  fwd_pkts_b_avg        170366 non-null  float64\n",
            " 64  fwd_blk_rate_avg      170366 non-null  float64\n",
            " 65  bwd_byts_b_avg        170366 non-null  float64\n",
            " 66  bwd_pkts_b_avg        170366 non-null  float64\n",
            " 67  bwd_blk_rate_avg      170366 non-null  float64\n",
            " 68  fwd_act_data_pkts     170366 non-null  float64\n",
            " 69  Subflow Fwd Bytes     170366 non-null  float64\n",
            " 70  Subflow Bwd Packets   170366 non-null  float64\n",
            " 71  Subflow Bwd Bytes     170366 non-null  float64\n",
            " 72  init_fwd_win_byts     170366 non-null  float64\n",
            " 73  init_bwd_win_byts     170366 non-null  float64\n",
            " 74  act_data_pkt_fwd      170366 non-null  float64\n",
            " 75  fwd_seg_size_min      170366 non-null  float64\n",
            " 76  active_mean           170366 non-null  float64\n",
            " 77  active_std            170366 non-null  float64\n",
            " 78  active_max            170366 non-null  float64\n",
            " 79  active_min            170366 non-null  float64\n",
            " 80  idle_mean             170366 non-null  float64\n",
            " 81  idle_std              170366 non-null  float64\n",
            " 82  idle_max              170366 non-null  float64\n",
            " 83  idle_min              170366 non-null  float64\n",
            " 84  label                 170366 non-null  object \n",
            "dtypes: float64(80), object(5)\n",
            "memory usage: 297.6+ MB\n"
          ]
        }
      ],
      "source": [
        "df_cic.info()"
      ]
    },
    {
      "cell_type": "code",
      "execution_count": null,
      "metadata": {
        "id": "rqACGNRLaDWx"
      },
      "outputs": [],
      "source": [
        "df_cic = df_cic.drop(df_cic[pd.isnull(df_cic['src_ip'])].index)"
      ]
    },
    {
      "cell_type": "code",
      "execution_count": null,
      "metadata": {
        "colab": {
          "base_uri": "https://localhost:8080/",
          "height": 456
        },
        "id": "ta50JsgXaDUh",
        "outputId": "7092f8c3-14f1-408b-84f0-15950873f824"
      },
      "outputs": [
        {
          "output_type": "execute_result",
          "data": {
            "text/plain": [
              "                                  flow_id         src_ip   dst_ip  \\\n",
              "0  192.168.10.3-192.168.10.50-389-33898-6  192.168.10.50  33898.0   \n",
              "1  192.168.10.3-192.168.10.50-389-33904-6  192.168.10.50  33904.0   \n",
              "2                   8.0.6.4-8.6.0.1-0-0-0        8.6.0.1      0.0   \n",
              "3  192.168.10.14-65.55.44.109-59135-443-6  192.168.10.14  59135.0   \n",
              "4  192.168.10.3-192.168.10.14-53-59555-17  192.168.10.14  59555.0   \n",
              "\n",
              "       src_port  dst_port  protocol      timestamp  flow_duration  \\\n",
              "0  192.168.10.3     389.0       6.0  6/7/2017 8:59    113095465.0   \n",
              "1  192.168.10.3     389.0       6.0  6/7/2017 8:59    113473706.0   \n",
              "2       8.0.6.4       0.0       0.0  6/7/2017 8:59    119945515.0   \n",
              "3  65.55.44.109     443.0       6.0  6/7/2017 8:59     60261928.0   \n",
              "4  192.168.10.3      53.0      17.0  6/7/2017 8:59          269.0   \n",
              "\n",
              "   tot_fwd_pkts  tot_bwd_pkts  ...  fwd_seg_size_min  active_mean  \\\n",
              "0          48.0          24.0  ...              32.0   203985.500   \n",
              "1          68.0          40.0  ...              32.0   178326.875   \n",
              "2         150.0           0.0  ...               0.0  6909777.333   \n",
              "3           9.0           7.0  ...              20.0        0.000   \n",
              "4           2.0           2.0  ...              32.0        0.000   \n",
              "\n",
              "     active_std  active_max  active_min   idle_mean      idle_std    idle_max  \\\n",
              "0  5.758373e+05   1629110.0       379.0  13800000.0  4.277541e+06  16500000.0   \n",
              "1  5.034269e+05   1424245.0       325.0  13800000.0  4.229413e+06  16500000.0   \n",
              "2  1.170000e+07  20400000.0         6.0  24400000.0  2.430000e+07  60100000.0   \n",
              "3  0.000000e+00         0.0         0.0         0.0  0.000000e+00         0.0   \n",
              "4  0.000000e+00         0.0         0.0         0.0  0.000000e+00         0.0   \n",
              "\n",
              "    idle_min   label  \n",
              "0  6737603.0  BENIGN  \n",
              "1  6945512.0  BENIGN  \n",
              "2  5702188.0  BENIGN  \n",
              "3        0.0  BENIGN  \n",
              "4        0.0  BENIGN  \n",
              "\n",
              "[5 rows x 85 columns]"
            ],
            "text/html": [
              "\n",
              "  <div id=\"df-d179126f-afe2-49ee-817a-afd6baa48560\">\n",
              "    <div class=\"colab-df-container\">\n",
              "      <div>\n",
              "<style scoped>\n",
              "    .dataframe tbody tr th:only-of-type {\n",
              "        vertical-align: middle;\n",
              "    }\n",
              "\n",
              "    .dataframe tbody tr th {\n",
              "        vertical-align: top;\n",
              "    }\n",
              "\n",
              "    .dataframe thead th {\n",
              "        text-align: right;\n",
              "    }\n",
              "</style>\n",
              "<table border=\"1\" class=\"dataframe\">\n",
              "  <thead>\n",
              "    <tr style=\"text-align: right;\">\n",
              "      <th></th>\n",
              "      <th>flow_id</th>\n",
              "      <th>src_ip</th>\n",
              "      <th>dst_ip</th>\n",
              "      <th>src_port</th>\n",
              "      <th>dst_port</th>\n",
              "      <th>protocol</th>\n",
              "      <th>timestamp</th>\n",
              "      <th>flow_duration</th>\n",
              "      <th>tot_fwd_pkts</th>\n",
              "      <th>tot_bwd_pkts</th>\n",
              "      <th>...</th>\n",
              "      <th>fwd_seg_size_min</th>\n",
              "      <th>active_mean</th>\n",
              "      <th>active_std</th>\n",
              "      <th>active_max</th>\n",
              "      <th>active_min</th>\n",
              "      <th>idle_mean</th>\n",
              "      <th>idle_std</th>\n",
              "      <th>idle_max</th>\n",
              "      <th>idle_min</th>\n",
              "      <th>label</th>\n",
              "    </tr>\n",
              "  </thead>\n",
              "  <tbody>\n",
              "    <tr>\n",
              "      <th>0</th>\n",
              "      <td>192.168.10.3-192.168.10.50-389-33898-6</td>\n",
              "      <td>192.168.10.50</td>\n",
              "      <td>33898.0</td>\n",
              "      <td>192.168.10.3</td>\n",
              "      <td>389.0</td>\n",
              "      <td>6.0</td>\n",
              "      <td>6/7/2017 8:59</td>\n",
              "      <td>113095465.0</td>\n",
              "      <td>48.0</td>\n",
              "      <td>24.0</td>\n",
              "      <td>...</td>\n",
              "      <td>32.0</td>\n",
              "      <td>203985.500</td>\n",
              "      <td>5.758373e+05</td>\n",
              "      <td>1629110.0</td>\n",
              "      <td>379.0</td>\n",
              "      <td>13800000.0</td>\n",
              "      <td>4.277541e+06</td>\n",
              "      <td>16500000.0</td>\n",
              "      <td>6737603.0</td>\n",
              "      <td>BENIGN</td>\n",
              "    </tr>\n",
              "    <tr>\n",
              "      <th>1</th>\n",
              "      <td>192.168.10.3-192.168.10.50-389-33904-6</td>\n",
              "      <td>192.168.10.50</td>\n",
              "      <td>33904.0</td>\n",
              "      <td>192.168.10.3</td>\n",
              "      <td>389.0</td>\n",
              "      <td>6.0</td>\n",
              "      <td>6/7/2017 8:59</td>\n",
              "      <td>113473706.0</td>\n",
              "      <td>68.0</td>\n",
              "      <td>40.0</td>\n",
              "      <td>...</td>\n",
              "      <td>32.0</td>\n",
              "      <td>178326.875</td>\n",
              "      <td>5.034269e+05</td>\n",
              "      <td>1424245.0</td>\n",
              "      <td>325.0</td>\n",
              "      <td>13800000.0</td>\n",
              "      <td>4.229413e+06</td>\n",
              "      <td>16500000.0</td>\n",
              "      <td>6945512.0</td>\n",
              "      <td>BENIGN</td>\n",
              "    </tr>\n",
              "    <tr>\n",
              "      <th>2</th>\n",
              "      <td>8.0.6.4-8.6.0.1-0-0-0</td>\n",
              "      <td>8.6.0.1</td>\n",
              "      <td>0.0</td>\n",
              "      <td>8.0.6.4</td>\n",
              "      <td>0.0</td>\n",
              "      <td>0.0</td>\n",
              "      <td>6/7/2017 8:59</td>\n",
              "      <td>119945515.0</td>\n",
              "      <td>150.0</td>\n",
              "      <td>0.0</td>\n",
              "      <td>...</td>\n",
              "      <td>0.0</td>\n",
              "      <td>6909777.333</td>\n",
              "      <td>1.170000e+07</td>\n",
              "      <td>20400000.0</td>\n",
              "      <td>6.0</td>\n",
              "      <td>24400000.0</td>\n",
              "      <td>2.430000e+07</td>\n",
              "      <td>60100000.0</td>\n",
              "      <td>5702188.0</td>\n",
              "      <td>BENIGN</td>\n",
              "    </tr>\n",
              "    <tr>\n",
              "      <th>3</th>\n",
              "      <td>192.168.10.14-65.55.44.109-59135-443-6</td>\n",
              "      <td>192.168.10.14</td>\n",
              "      <td>59135.0</td>\n",
              "      <td>65.55.44.109</td>\n",
              "      <td>443.0</td>\n",
              "      <td>6.0</td>\n",
              "      <td>6/7/2017 8:59</td>\n",
              "      <td>60261928.0</td>\n",
              "      <td>9.0</td>\n",
              "      <td>7.0</td>\n",
              "      <td>...</td>\n",
              "      <td>20.0</td>\n",
              "      <td>0.000</td>\n",
              "      <td>0.000000e+00</td>\n",
              "      <td>0.0</td>\n",
              "      <td>0.0</td>\n",
              "      <td>0.0</td>\n",
              "      <td>0.000000e+00</td>\n",
              "      <td>0.0</td>\n",
              "      <td>0.0</td>\n",
              "      <td>BENIGN</td>\n",
              "    </tr>\n",
              "    <tr>\n",
              "      <th>4</th>\n",
              "      <td>192.168.10.3-192.168.10.14-53-59555-17</td>\n",
              "      <td>192.168.10.14</td>\n",
              "      <td>59555.0</td>\n",
              "      <td>192.168.10.3</td>\n",
              "      <td>53.0</td>\n",
              "      <td>17.0</td>\n",
              "      <td>6/7/2017 8:59</td>\n",
              "      <td>269.0</td>\n",
              "      <td>2.0</td>\n",
              "      <td>2.0</td>\n",
              "      <td>...</td>\n",
              "      <td>32.0</td>\n",
              "      <td>0.000</td>\n",
              "      <td>0.000000e+00</td>\n",
              "      <td>0.0</td>\n",
              "      <td>0.0</td>\n",
              "      <td>0.0</td>\n",
              "      <td>0.000000e+00</td>\n",
              "      <td>0.0</td>\n",
              "      <td>0.0</td>\n",
              "      <td>BENIGN</td>\n",
              "    </tr>\n",
              "  </tbody>\n",
              "</table>\n",
              "<p>5 rows × 85 columns</p>\n",
              "</div>\n",
              "      <button class=\"colab-df-convert\" onclick=\"convertToInteractive('df-d179126f-afe2-49ee-817a-afd6baa48560')\"\n",
              "              title=\"Convert this dataframe to an interactive table.\"\n",
              "              style=\"display:none;\">\n",
              "        \n",
              "  <svg xmlns=\"http://www.w3.org/2000/svg\" height=\"24px\"viewBox=\"0 0 24 24\"\n",
              "       width=\"24px\">\n",
              "    <path d=\"M0 0h24v24H0V0z\" fill=\"none\"/>\n",
              "    <path d=\"M18.56 5.44l.94 2.06.94-2.06 2.06-.94-2.06-.94-.94-2.06-.94 2.06-2.06.94zm-11 1L8.5 8.5l.94-2.06 2.06-.94-2.06-.94L8.5 2.5l-.94 2.06-2.06.94zm10 10l.94 2.06.94-2.06 2.06-.94-2.06-.94-.94-2.06-.94 2.06-2.06.94z\"/><path d=\"M17.41 7.96l-1.37-1.37c-.4-.4-.92-.59-1.43-.59-.52 0-1.04.2-1.43.59L10.3 9.45l-7.72 7.72c-.78.78-.78 2.05 0 2.83L4 21.41c.39.39.9.59 1.41.59.51 0 1.02-.2 1.41-.59l7.78-7.78 2.81-2.81c.8-.78.8-2.07 0-2.86zM5.41 20L4 18.59l7.72-7.72 1.47 1.35L5.41 20z\"/>\n",
              "  </svg>\n",
              "      </button>\n",
              "      \n",
              "  <style>\n",
              "    .colab-df-container {\n",
              "      display:flex;\n",
              "      flex-wrap:wrap;\n",
              "      gap: 12px;\n",
              "    }\n",
              "\n",
              "    .colab-df-convert {\n",
              "      background-color: #E8F0FE;\n",
              "      border: none;\n",
              "      border-radius: 50%;\n",
              "      cursor: pointer;\n",
              "      display: none;\n",
              "      fill: #1967D2;\n",
              "      height: 32px;\n",
              "      padding: 0 0 0 0;\n",
              "      width: 32px;\n",
              "    }\n",
              "\n",
              "    .colab-df-convert:hover {\n",
              "      background-color: #E2EBFA;\n",
              "      box-shadow: 0px 1px 2px rgba(60, 64, 67, 0.3), 0px 1px 3px 1px rgba(60, 64, 67, 0.15);\n",
              "      fill: #174EA6;\n",
              "    }\n",
              "\n",
              "    [theme=dark] .colab-df-convert {\n",
              "      background-color: #3B4455;\n",
              "      fill: #D2E3FC;\n",
              "    }\n",
              "\n",
              "    [theme=dark] .colab-df-convert:hover {\n",
              "      background-color: #434B5C;\n",
              "      box-shadow: 0px 1px 3px 1px rgba(0, 0, 0, 0.15);\n",
              "      filter: drop-shadow(0px 1px 2px rgba(0, 0, 0, 0.3));\n",
              "      fill: #FFFFFF;\n",
              "    }\n",
              "  </style>\n",
              "\n",
              "      <script>\n",
              "        const buttonEl =\n",
              "          document.querySelector('#df-d179126f-afe2-49ee-817a-afd6baa48560 button.colab-df-convert');\n",
              "        buttonEl.style.display =\n",
              "          google.colab.kernel.accessAllowed ? 'block' : 'none';\n",
              "\n",
              "        async function convertToInteractive(key) {\n",
              "          const element = document.querySelector('#df-d179126f-afe2-49ee-817a-afd6baa48560');\n",
              "          const dataTable =\n",
              "            await google.colab.kernel.invokeFunction('convertToInteractive',\n",
              "                                                     [key], {});\n",
              "          if (!dataTable) return;\n",
              "\n",
              "          const docLinkHtml = 'Like what you see? Visit the ' +\n",
              "            '<a target=\"_blank\" href=https://colab.research.google.com/notebooks/data_table.ipynb>data table notebook</a>'\n",
              "            + ' to learn more about interactive tables.';\n",
              "          element.innerHTML = '';\n",
              "          dataTable['output_type'] = 'display_data';\n",
              "          await google.colab.output.renderOutput(dataTable, element);\n",
              "          const docLink = document.createElement('div');\n",
              "          docLink.innerHTML = docLinkHtml;\n",
              "          element.appendChild(docLink);\n",
              "        }\n",
              "      </script>\n",
              "    </div>\n",
              "  </div>\n",
              "  "
            ]
          },
          "metadata": {},
          "execution_count": 6
        }
      ],
      "source": [
        "df_cic.head()"
      ]
    },
    {
      "cell_type": "code",
      "execution_count": null,
      "metadata": {
        "id": "HEMUJFk_aR8l"
      },
      "outputs": [],
      "source": [
        ""
      ]
    },
    {
      "cell_type": "code",
      "execution_count": null,
      "metadata": {
        "id": "U8soRzWMaR6m"
      },
      "outputs": [],
      "source": [
        "df_cic.replace([np.inf, -np.inf, np.nan], -1, inplace=True)"
      ]
    },
    {
      "cell_type": "code",
      "execution_count": null,
      "metadata": {
        "colab": {
          "base_uri": "https://localhost:8080/"
        },
        "id": "SGWSDvYDaR4l",
        "outputId": "2551140f-3ab5-4f87-bad3-3812ce1c76c4"
      },
      "outputs": [
        {
          "output_type": "execute_result",
          "data": {
            "text/plain": [
              "168186"
            ]
          },
          "metadata": {},
          "execution_count": 8
        }
      ],
      "source": [
        "benign_total = len(df_cic[df_cic['label'] == \"BENIGN\"])\n",
        "benign_total"
      ]
    },
    {
      "cell_type": "code",
      "execution_count": null,
      "metadata": {
        "colab": {
          "base_uri": "https://localhost:8080/"
        },
        "id": "7fSn_fYlaR2g",
        "outputId": "c7024f4a-4d39-4af7-d029-0697c854c39c"
      },
      "outputs": [
        {
          "output_type": "execute_result",
          "data": {
            "text/plain": [
              "2180"
            ]
          },
          "metadata": {},
          "execution_count": 9
        }
      ],
      "source": [
        "attack_total = len(df_cic[df_cic['label'] != \"BENIGN\"])\n",
        "attack_total"
      ]
    },
    {
      "cell_type": "code",
      "execution_count": null,
      "metadata": {
        "colab": {
          "base_uri": "https://localhost:8080/"
        },
        "id": "gOd5YwFsaR0l",
        "outputId": "75cb1c15-3fbe-44ea-d813-52b67d53f187"
      },
      "outputs": [
        {
          "output_type": "stream",
          "name": "stdout",
          "text": [
            "5086.666666666667 0.03326872232726466\n"
          ]
        }
      ],
      "source": [
        "enlargement = 1.1\n",
        "benign_included_max = attack_total / 30 * 70\n",
        "benign_inc_probability = (benign_included_max / benign_total) * enlargement\n",
        "print(benign_included_max, benign_inc_probability)"
      ]
    },
    {
      "cell_type": "code",
      "execution_count": null,
      "metadata": {
        "id": "vpi_2YXJaRye"
      },
      "outputs": [],
      "source": [
        "import random\n",
        "indexes = []\n",
        "benign_included_count = 0\n",
        "for index, row in df_cic.iterrows():\n",
        "    if (row['label'] != \"BENIGN\"):\n",
        "        indexes.append(index)\n",
        "    else:\n",
        "        # Copying with benign_inc_probability\n",
        "        if random.random() > benign_inc_probability: continue\n",
        "        # Have we achieved 70% (5087 records)?\n",
        "        if benign_included_count > benign_included_max: continue\n",
        "        benign_included_count += 1\n",
        "        indexes.append(index)\n",
        "df_cic = df_cic.loc[indexes]"
      ]
    },
    {
      "cell_type": "code",
      "execution_count": null,
      "metadata": {
        "colab": {
          "base_uri": "https://localhost:8080/"
        },
        "id": "mHpHh5ZwaRvh",
        "outputId": "da9bfcc3-f964-4d6c-9920-51ad01f4c496"
      },
      "outputs": [
        {
          "output_type": "execute_result",
          "data": {
            "text/plain": [
              "BENIGN                        5087\n",
              "Web Attack – Brute Force      1507\n",
              "Web Attack – XSS               652\n",
              "Web Attack – Sql Injection      21\n",
              "Name: label, dtype: int64"
            ]
          },
          "metadata": {},
          "execution_count": 12
        }
      ],
      "source": [
        "df_cic['label'].value_counts()"
      ]
    },
    {
      "cell_type": "code",
      "execution_count": null,
      "metadata": {
        "id": "vlN90cQMakv5"
      },
      "outputs": [],
      "source": [
        "df_cic['label'] = df_cic['label'].apply(lambda x: 0 if x == 'BENIGN' else 1)"
      ]
    },
    {
      "cell_type": "code",
      "execution_count": null,
      "metadata": {
        "id": "4pUnPxiXakuC"
      },
      "outputs": [],
      "source": [
        "excluded = ['flow_id', 'src_ip', 'dst_ip', 'src_port', 'dst_port', 'protocol', 'timestamp',\"CWE Flag Count\",\"Subflow Fwd Bytes\",\"Subflow Bwd Packets\",\"Subflow Bwd Bytes\",\"Avg Bwd Segment Size\",\"Average Packet Size\",\"Fwd Header Length\",\"act_data_pkt_fwd\"]\n",
        "df_cic = df_cic.drop(columns=excluded)"
      ]
    },
    {
      "cell_type": "code",
      "execution_count": null,
      "metadata": {
        "colab": {
          "base_uri": "https://localhost:8080/"
        },
        "id": "M1zmcYGsAMem",
        "outputId": "279d09be-ca7c-47db-92e3-e6ca512a662a"
      },
      "outputs": [
        {
          "output_type": "stream",
          "name": "stdout",
          "text": [
            "<class 'pandas.core.frame.DataFrame'>\n",
            "Int64Index: 7267 entries, 100 to 156412\n",
            "Data columns (total 70 columns):\n",
            " #   Column             Non-Null Count  Dtype  \n",
            "---  ------             --------------  -----  \n",
            " 0   flow_duration      7267 non-null   float64\n",
            " 1   tot_fwd_pkts       7267 non-null   float64\n",
            " 2   tot_bwd_pkts       7267 non-null   float64\n",
            " 3   totlen_fwd_pkts    7267 non-null   float64\n",
            " 4   totlen_bwd_pkts    7267 non-null   float64\n",
            " 5   fwd_pkt_len_max    7267 non-null   float64\n",
            " 6   fwd_pkt_len_min    7267 non-null   float64\n",
            " 7   fwd_pkt_len_mean   7267 non-null   float64\n",
            " 8   fwd_pkt_len_std    7267 non-null   float64\n",
            " 9   bwd_pkt_len_max    7267 non-null   float64\n",
            " 10  bwd_pkt_len_min    7267 non-null   float64\n",
            " 11  bwd_pkt_len_mean   7267 non-null   float64\n",
            " 12  bwd_pkt_len_std    7267 non-null   float64\n",
            " 13  flow_byts_s        7267 non-null   float64\n",
            " 14  flow_pkts_s        7267 non-null   float64\n",
            " 15  flow_iat_mean      7267 non-null   float64\n",
            " 16  flow_iat_std       7267 non-null   float64\n",
            " 17  flow_iat_max       7267 non-null   float64\n",
            " 18  flow_iat_min       7267 non-null   float64\n",
            " 19  fwd_iat_tot        7267 non-null   float64\n",
            " 20  fwd_iat_mean       7267 non-null   float64\n",
            " 21  fwd_iat_std        7267 non-null   float64\n",
            " 22  fwd_iat_max        7267 non-null   float64\n",
            " 23  fwd_iat_min        7267 non-null   float64\n",
            " 24  bwd_iat_tot        7267 non-null   float64\n",
            " 25  bwd_iat_mean       7267 non-null   float64\n",
            " 26  bwd_iat_std        7267 non-null   float64\n",
            " 27  bwd_iat_max        7267 non-null   float64\n",
            " 28  bwd_iat_min        7267 non-null   float64\n",
            " 29  fwd_psh_flags      7267 non-null   float64\n",
            " 30  bwd_psh_flags      7267 non-null   float64\n",
            " 31  fwd_urg_flags      7267 non-null   float64\n",
            " 32  bwd_urg_flags      7267 non-null   float64\n",
            " 33  fwd_header_len     7267 non-null   float64\n",
            " 34  bwd_header_len     7267 non-null   float64\n",
            " 35  fwd_pkts_s         7267 non-null   float64\n",
            " 36  bwd_pkts_s         7267 non-null   float64\n",
            " 37  pkt_len_min        7267 non-null   float64\n",
            " 38  pkt_len_max        7267 non-null   float64\n",
            " 39  pkt_len_mean       7267 non-null   float64\n",
            " 40  pkt_len_std        7267 non-null   float64\n",
            " 41  pkt_len_var        7267 non-null   float64\n",
            " 42  fin_flag_cnt       7267 non-null   float64\n",
            " 43  syn_flag_cnt       7267 non-null   float64\n",
            " 44  rst_flag_cnt       7267 non-null   float64\n",
            " 45  psh_flag_cnt       7267 non-null   float64\n",
            " 46  ack_flag_cnt       7267 non-null   float64\n",
            " 47  urg_flag_cnt       7267 non-null   float64\n",
            " 48  ece_flag_cnt       7267 non-null   float64\n",
            " 49  down_up_ratio      7267 non-null   float64\n",
            " 50  pkt_size_avg       7267 non-null   float64\n",
            " 51  fwd_byts_b_avg     7267 non-null   float64\n",
            " 52  fwd_pkts_b_avg     7267 non-null   float64\n",
            " 53  fwd_blk_rate_avg   7267 non-null   float64\n",
            " 54  bwd_byts_b_avg     7267 non-null   float64\n",
            " 55  bwd_pkts_b_avg     7267 non-null   float64\n",
            " 56  bwd_blk_rate_avg   7267 non-null   float64\n",
            " 57  fwd_act_data_pkts  7267 non-null   float64\n",
            " 58  init_fwd_win_byts  7267 non-null   float64\n",
            " 59  init_bwd_win_byts  7267 non-null   float64\n",
            " 60  fwd_seg_size_min   7267 non-null   float64\n",
            " 61  active_mean        7267 non-null   float64\n",
            " 62  active_std         7267 non-null   float64\n",
            " 63  active_max         7267 non-null   float64\n",
            " 64  active_min         7267 non-null   float64\n",
            " 65  idle_mean          7267 non-null   float64\n",
            " 66  idle_std           7267 non-null   float64\n",
            " 67  idle_max           7267 non-null   float64\n",
            " 68  idle_min           7267 non-null   float64\n",
            " 69  label              7267 non-null   int64  \n",
            "dtypes: float64(69), int64(1)\n",
            "memory usage: 3.9 MB\n"
          ]
        }
      ],
      "source": [
        "df_cic.info()"
      ]
    },
    {
      "cell_type": "code",
      "execution_count": null,
      "metadata": {
        "id": "xgwjgx0jVQem"
      },
      "outputs": [],
      "source": [
        "excluded = ['bwd_psh_flags', 'fwd_urg_flags', 'bwd_urg_flags',\n",
        "            'fwd_byts_b_avg', 'fwd_pkts_b_avg', 'fwd_blk_rate_avg',\n",
        "            'bwd_byts_b_avg','bwd_pkts_b_avg','bwd_blk_rate_avg','tot_bwd_pkts',\n",
        "            'totlen_bwd_pkts', 'fwd_header_len', 'bwd_header_len', 'fwd_act_data_pkts',\n",
        "            'fwd_pkt_len_std', 'bwd_pkt_len_std', 'bwd_pkt_len_max', 'pkt_len_std',\n",
        "            'totlen_fwd_pkts','init_bwd_win_byts','init_fwd_win_byts',\n",
        "            'idle_min', 'idle_max', 'idle_mean',\n",
        "            'pkt_len_var', 'pkt_len_mean','active_mean']\n",
        "df_cic = df_cic.drop(columns=excluded)\n"
      ]
    },
    {
      "cell_type": "code",
      "execution_count": null,
      "metadata": {
        "colab": {
          "base_uri": "https://localhost:8080/"
        },
        "id": "g5QzGL71UzoR",
        "outputId": "64d3f6c0-2c06-41d4-dd93-e9ac2469bd11"
      },
      "outputs": [
        {
          "name": "stdout",
          "output_type": "stream",
          "text": [
            "<class 'pandas.core.frame.DataFrame'>\n",
            "Int64Index: 7267 entries, 7 to 154196\n",
            "Data columns (total 43 columns):\n",
            " #   Column            Non-Null Count  Dtype  \n",
            "---  ------            --------------  -----  \n",
            " 0   flow_duration     7267 non-null   float64\n",
            " 1   tot_fwd_pkts      7267 non-null   float64\n",
            " 2   fwd_pkt_len_max   7267 non-null   float64\n",
            " 3   fwd_pkt_len_min   7267 non-null   float64\n",
            " 4   fwd_pkt_len_mean  7267 non-null   float64\n",
            " 5   bwd_pkt_len_min   7267 non-null   float64\n",
            " 6   bwd_pkt_len_mean  7267 non-null   float64\n",
            " 7   flow_byts_s       7267 non-null   float64\n",
            " 8   flow_pkts_s       7267 non-null   float64\n",
            " 9   flow_iat_mean     7267 non-null   float64\n",
            " 10  flow_iat_std      7267 non-null   float64\n",
            " 11  flow_iat_max      7267 non-null   float64\n",
            " 12  flow_iat_min      7267 non-null   float64\n",
            " 13  fwd_iat_tot       7267 non-null   float64\n",
            " 14  fwd_iat_mean      7267 non-null   float64\n",
            " 15  fwd_iat_std       7267 non-null   float64\n",
            " 16  fwd_iat_max       7267 non-null   float64\n",
            " 17  fwd_iat_min       7267 non-null   float64\n",
            " 18  bwd_iat_tot       7267 non-null   float64\n",
            " 19  bwd_iat_mean      7267 non-null   float64\n",
            " 20  bwd_iat_std       7267 non-null   float64\n",
            " 21  bwd_iat_max       7267 non-null   float64\n",
            " 22  bwd_iat_min       7267 non-null   float64\n",
            " 23  fwd_psh_flags     7267 non-null   float64\n",
            " 24  fwd_pkts_s        7267 non-null   float64\n",
            " 25  bwd_pkts_s        7267 non-null   float64\n",
            " 26  pkt_len_min       7267 non-null   float64\n",
            " 27  pkt_len_max       7267 non-null   float64\n",
            " 28  fin_flag_cnt      7267 non-null   float64\n",
            " 29  syn_flag_cnt      7267 non-null   float64\n",
            " 30  rst_flag_cnt      7267 non-null   float64\n",
            " 31  psh_flag_cnt      7267 non-null   float64\n",
            " 32  ack_flag_cnt      7267 non-null   float64\n",
            " 33  urg_flag_cnt      7267 non-null   float64\n",
            " 34  ece_flag_cnt      7267 non-null   float64\n",
            " 35  down_up_ratio     7267 non-null   float64\n",
            " 36  pkt_size_avg      7267 non-null   float64\n",
            " 37  fwd_seg_size_min  7267 non-null   float64\n",
            " 38  active_std        7267 non-null   float64\n",
            " 39  active_max        7267 non-null   float64\n",
            " 40  active_min        7267 non-null   float64\n",
            " 41  idle_std          7267 non-null   float64\n",
            " 42  label             7267 non-null   int64  \n",
            "dtypes: float64(42), int64(1)\n",
            "memory usage: 2.4 MB\n"
          ]
        }
      ],
      "source": [
        "df_cic.info()"
      ]
    },
    {
      "cell_type": "code",
      "execution_count": null,
      "metadata": {
        "colab": {
          "base_uri": "https://localhost:8080/",
          "height": 287
        },
        "id": "1d55cT8X0fFG",
        "outputId": "26fa23ee-ddbf-44b3-b782-d300cc21e31e"
      },
      "outputs": [
        {
          "ename": "AttributeError",
          "evalue": "ignored",
          "output_type": "error",
          "traceback": [
            "\u001b[0;31m---------------------------------------------------------------------------\u001b[0m",
            "\u001b[0;31mAttributeError\u001b[0m                            Traceback (most recent call last)",
            "\u001b[0;32m<ipython-input-19-a21cf2bd8ff8>\u001b[0m in \u001b[0;36m<module>\u001b[0;34m()\u001b[0m\n\u001b[0;32m----> 1\u001b[0;31m \u001b[0mprofile\u001b[0m \u001b[0;34m=\u001b[0m \u001b[0mdf_cic\u001b[0m\u001b[0;34m.\u001b[0m\u001b[0mprofile_report\u001b[0m\u001b[0;34m(\u001b[0m\u001b[0mtitle\u001b[0m\u001b[0;34m=\u001b[0m\u001b[0;34m'Pandas Profiling Report'\u001b[0m\u001b[0;34m,\u001b[0m\u001b[0mminimal\u001b[0m\u001b[0;34m=\u001b[0m\u001b[0;32mTrue\u001b[0m\u001b[0;34m,\u001b[0m \u001b[0mprogress_bar\u001b[0m\u001b[0;34m=\u001b[0m\u001b[0;32mTrue\u001b[0m\u001b[0;34m,\u001b[0m \u001b[0mcorrelations\u001b[0m\u001b[0;34m=\u001b[0m\u001b[0;34m{\u001b[0m\u001b[0;34m\"pearson\"\u001b[0m\u001b[0;34m:\u001b[0m \u001b[0;34m{\u001b[0m\u001b[0;34m\"calculate\"\u001b[0m\u001b[0;34m:\u001b[0m \u001b[0;32mTrue\u001b[0m\u001b[0;34m}\u001b[0m\u001b[0;34m}\u001b[0m\u001b[0;34m)\u001b[0m\u001b[0;34m\u001b[0m\u001b[0;34m\u001b[0m\u001b[0m\n\u001b[0m",
            "\u001b[0;32m/usr/local/lib/python3.7/dist-packages/pandas/core/generic.py\u001b[0m in \u001b[0;36m__getattr__\u001b[0;34m(self, name)\u001b[0m\n\u001b[1;32m   5485\u001b[0m         ):\n\u001b[1;32m   5486\u001b[0m             \u001b[0;32mreturn\u001b[0m \u001b[0mself\u001b[0m\u001b[0;34m[\u001b[0m\u001b[0mname\u001b[0m\u001b[0;34m]\u001b[0m\u001b[0;34m\u001b[0m\u001b[0;34m\u001b[0m\u001b[0m\n\u001b[0;32m-> 5487\u001b[0;31m         \u001b[0;32mreturn\u001b[0m \u001b[0mobject\u001b[0m\u001b[0;34m.\u001b[0m\u001b[0m__getattribute__\u001b[0m\u001b[0;34m(\u001b[0m\u001b[0mself\u001b[0m\u001b[0;34m,\u001b[0m \u001b[0mname\u001b[0m\u001b[0;34m)\u001b[0m\u001b[0;34m\u001b[0m\u001b[0;34m\u001b[0m\u001b[0m\n\u001b[0m\u001b[1;32m   5488\u001b[0m \u001b[0;34m\u001b[0m\u001b[0m\n\u001b[1;32m   5489\u001b[0m     \u001b[0;32mdef\u001b[0m \u001b[0m__setattr__\u001b[0m\u001b[0;34m(\u001b[0m\u001b[0mself\u001b[0m\u001b[0;34m,\u001b[0m \u001b[0mname\u001b[0m\u001b[0;34m:\u001b[0m \u001b[0mstr\u001b[0m\u001b[0;34m,\u001b[0m \u001b[0mvalue\u001b[0m\u001b[0;34m)\u001b[0m \u001b[0;34m->\u001b[0m \u001b[0;32mNone\u001b[0m\u001b[0;34m:\u001b[0m\u001b[0;34m\u001b[0m\u001b[0;34m\u001b[0m\u001b[0m\n",
            "\u001b[0;31mAttributeError\u001b[0m: 'DataFrame' object has no attribute 'profile_report'"
          ]
        }
      ],
      "source": [
        "#profile = df_cic.profile_report(title='Pandas Profiling Report',minimal=True, progress_bar=True, correlations={\"pearson\": {\"calculate\": True}})"
      ]
    },
    {
      "cell_type": "code",
      "execution_count": null,
      "metadata": {
        "id": "Jn26wbvo0j-z"
      },
      "outputs": [],
      "source": [
        "#profile.to_file(\"your_report.html\")"
      ]
    },
    {
      "cell_type": "code",
      "execution_count": null,
      "metadata": {
        "id": "aPMMEVd6ZiSo"
      },
      "outputs": [],
      "source": [
        "features = df_cic.columns"
      ]
    },
    {
      "cell_type": "code",
      "execution_count": null,
      "metadata": {
        "id": "Us3DK0xrcXNs",
        "colab": {
          "base_uri": "https://localhost:8080/"
        },
        "outputId": "cadf3273-d6cb-4219-80ed-10580128d0c8"
      },
      "outputs": [
        {
          "output_type": "stream",
          "name": "stdout",
          "text": [
            "<class 'pandas.core.frame.DataFrame'>\n",
            "Int64Index: 7267 entries, 100 to 156412\n",
            "Data columns (total 43 columns):\n",
            " #   Column            Non-Null Count  Dtype  \n",
            "---  ------            --------------  -----  \n",
            " 0   flow_duration     7267 non-null   float64\n",
            " 1   tot_fwd_pkts      7267 non-null   float64\n",
            " 2   fwd_pkt_len_max   7267 non-null   float64\n",
            " 3   fwd_pkt_len_min   7267 non-null   float64\n",
            " 4   fwd_pkt_len_mean  7267 non-null   float64\n",
            " 5   bwd_pkt_len_min   7267 non-null   float64\n",
            " 6   bwd_pkt_len_mean  7267 non-null   float64\n",
            " 7   flow_byts_s       7267 non-null   float64\n",
            " 8   flow_pkts_s       7267 non-null   float64\n",
            " 9   flow_iat_mean     7267 non-null   float64\n",
            " 10  flow_iat_std      7267 non-null   float64\n",
            " 11  flow_iat_max      7267 non-null   float64\n",
            " 12  flow_iat_min      7267 non-null   float64\n",
            " 13  fwd_iat_tot       7267 non-null   float64\n",
            " 14  fwd_iat_mean      7267 non-null   float64\n",
            " 15  fwd_iat_std       7267 non-null   float64\n",
            " 16  fwd_iat_max       7267 non-null   float64\n",
            " 17  fwd_iat_min       7267 non-null   float64\n",
            " 18  bwd_iat_tot       7267 non-null   float64\n",
            " 19  bwd_iat_mean      7267 non-null   float64\n",
            " 20  bwd_iat_std       7267 non-null   float64\n",
            " 21  bwd_iat_max       7267 non-null   float64\n",
            " 22  bwd_iat_min       7267 non-null   float64\n",
            " 23  fwd_psh_flags     7267 non-null   float64\n",
            " 24  fwd_pkts_s        7267 non-null   float64\n",
            " 25  bwd_pkts_s        7267 non-null   float64\n",
            " 26  pkt_len_min       7267 non-null   float64\n",
            " 27  pkt_len_max       7267 non-null   float64\n",
            " 28  fin_flag_cnt      7267 non-null   float64\n",
            " 29  syn_flag_cnt      7267 non-null   float64\n",
            " 30  rst_flag_cnt      7267 non-null   float64\n",
            " 31  psh_flag_cnt      7267 non-null   float64\n",
            " 32  ack_flag_cnt      7267 non-null   float64\n",
            " 33  urg_flag_cnt      7267 non-null   float64\n",
            " 34  ece_flag_cnt      7267 non-null   float64\n",
            " 35  down_up_ratio     7267 non-null   float64\n",
            " 36  pkt_size_avg      7267 non-null   float64\n",
            " 37  fwd_seg_size_min  7267 non-null   float64\n",
            " 38  active_std        7267 non-null   float64\n",
            " 39  active_max        7267 non-null   float64\n",
            " 40  active_min        7267 non-null   float64\n",
            " 41  idle_std          7267 non-null   float64\n",
            " 42  label             7267 non-null   int64  \n",
            "dtypes: float64(42), int64(1)\n",
            "memory usage: 2.7 MB\n"
          ]
        },
        {
          "output_type": "stream",
          "name": "stderr",
          "text": [
            "/usr/local/lib/python3.7/dist-packages/ipykernel_launcher.py:1: FutureWarning: null_counts is deprecated. Use show_counts instead\n",
            "  \"\"\"Entry point for launching an IPython kernel.\n"
          ]
        }
      ],
      "source": [
        "df_cic.info(verbose=True, null_counts=True)"
      ]
    },
    {
      "cell_type": "code",
      "execution_count": null,
      "metadata": {
        "id": "ZjVY7gzdBHSz"
      },
      "outputs": [],
      "source": [
        "df_cic.to_csv('df_traincic.csv')"
      ]
    },
    {
      "cell_type": "code",
      "source": [
        "df_cicMy = df_train[features]"
      ],
      "metadata": {
        "id": "jKDh5CMWBBDy"
      },
      "execution_count": null,
      "outputs": []
    },
    {
      "cell_type": "code",
      "execution_count": null,
      "metadata": {
        "id": "dLj0TMqca8X3"
      },
      "outputs": [],
      "source": [
        "x_cic = df_cic.drop(columns='label')\n",
        "y_cic = df_cic['label']"
      ]
    },
    {
      "cell_type": "code",
      "source": [
        "df_cicMy.info()"
      ],
      "metadata": {
        "colab": {
          "base_uri": "https://localhost:8080/"
        },
        "id": "m9tQYCBiBb4W",
        "outputId": "3e222514-bb8c-4dcd-a0ba-42cc9e3da56d"
      },
      "execution_count": null,
      "outputs": [
        {
          "output_type": "stream",
          "name": "stdout",
          "text": [
            "<class 'pandas.core.frame.DataFrame'>\n",
            "RangeIndex: 31673 entries, 0 to 31672\n",
            "Data columns (total 43 columns):\n",
            " #   Column            Non-Null Count  Dtype  \n",
            "---  ------            --------------  -----  \n",
            " 0   flow_duration     31673 non-null  float64\n",
            " 1   tot_fwd_pkts      31673 non-null  int64  \n",
            " 2   fwd_pkt_len_max   31673 non-null  float64\n",
            " 3   fwd_pkt_len_min   31673 non-null  float64\n",
            " 4   fwd_pkt_len_mean  31673 non-null  float64\n",
            " 5   bwd_pkt_len_min   31673 non-null  float64\n",
            " 6   bwd_pkt_len_mean  31673 non-null  float64\n",
            " 7   flow_byts_s       31673 non-null  float64\n",
            " 8   flow_pkts_s       31673 non-null  float64\n",
            " 9   flow_iat_mean     31673 non-null  float64\n",
            " 10  flow_iat_std      31673 non-null  float64\n",
            " 11  flow_iat_max      31673 non-null  float64\n",
            " 12  flow_iat_min      31673 non-null  float64\n",
            " 13  fwd_iat_tot       31673 non-null  float64\n",
            " 14  fwd_iat_mean      31673 non-null  float64\n",
            " 15  fwd_iat_std       31673 non-null  float64\n",
            " 16  fwd_iat_max       31673 non-null  float64\n",
            " 17  fwd_iat_min       31673 non-null  float64\n",
            " 18  bwd_iat_tot       31673 non-null  float64\n",
            " 19  bwd_iat_mean      31673 non-null  float64\n",
            " 20  bwd_iat_std       31673 non-null  float64\n",
            " 21  bwd_iat_max       31673 non-null  float64\n",
            " 22  bwd_iat_min       31673 non-null  float64\n",
            " 23  fwd_psh_flags     31673 non-null  int64  \n",
            " 24  fwd_pkts_s        31673 non-null  float64\n",
            " 25  bwd_pkts_s        31673 non-null  float64\n",
            " 26  pkt_len_min       31673 non-null  int64  \n",
            " 27  pkt_len_max       31673 non-null  int64  \n",
            " 28  fin_flag_cnt      31673 non-null  int64  \n",
            " 29  syn_flag_cnt      31673 non-null  int64  \n",
            " 30  rst_flag_cnt      31673 non-null  int64  \n",
            " 31  psh_flag_cnt      31673 non-null  int64  \n",
            " 32  ack_flag_cnt      31673 non-null  int64  \n",
            " 33  urg_flag_cnt      31673 non-null  int64  \n",
            " 34  ece_flag_cnt      31673 non-null  int64  \n",
            " 35  down_up_ratio     31673 non-null  float64\n",
            " 36  pkt_size_avg      31673 non-null  float64\n",
            " 37  fwd_seg_size_min  31673 non-null  int64  \n",
            " 38  active_std        31673 non-null  float64\n",
            " 39  active_max        31673 non-null  float64\n",
            " 40  active_min        31673 non-null  float64\n",
            " 41  idle_std          31673 non-null  float64\n",
            " 42  label             31673 non-null  object \n",
            "dtypes: float64(30), int64(12), object(1)\n",
            "memory usage: 10.4+ MB\n"
          ]
        }
      ]
    },
    {
      "cell_type": "code",
      "source": [
        "y_cic.head()"
      ],
      "metadata": {
        "colab": {
          "base_uri": "https://localhost:8080/"
        },
        "id": "ReHe43PaArtT",
        "outputId": "674b0325-ddbf-4969-cbfe-764152fd9884"
      },
      "execution_count": null,
      "outputs": [
        {
          "output_type": "execute_result",
          "data": {
            "text/plain": [
              "100    0\n",
              "112    0\n",
              "121    0\n",
              "147    0\n",
              "214    0\n",
              "Name: label, dtype: int64"
            ]
          },
          "metadata": {},
          "execution_count": 106
        }
      ]
    },
    {
      "cell_type": "code",
      "execution_count": null,
      "metadata": {
        "id": "WP90-7Qfa5Mg"
      },
      "outputs": [],
      "source": [
        "from sklearn.model_selection import train_test_split\n",
        "x_traincic, x_testcic, y_traincic, y_testcic = train_test_split(x_cic, y_cic, test_size=0.3, random_state=42)"
      ]
    },
    {
      "cell_type": "code",
      "execution_count": null,
      "metadata": {
        "id": "u6mY_JBU20Yv"
      },
      "outputs": [],
      "source": [
        "parametrs = { 'n_estimators': range (1, 61, 10),\n",
        "              'max_depth': range (1, 21, 4),\n",
        "              'min_samples_leaf': range (1, 11, 1),\n",
        "              'min_samples_split': range (2, 11, 2)}"
      ]
    },
    {
      "cell_type": "code",
      "execution_count": null,
      "metadata": {
        "id": "QNf-YSlzMMCf"
      },
      "outputs": [],
      "source": [
        "modelRFcic = RandomForestClassifier(min_samples_split=2)"
      ]
    },
    {
      "cell_type": "code",
      "execution_count": null,
      "metadata": {
        "id": "uPBmjv9HMW9d"
      },
      "outputs": [],
      "source": [
        ""
      ]
    },
    {
      "cell_type": "code",
      "execution_count": null,
      "metadata": {
        "colab": {
          "base_uri": "https://localhost:8080/",
          "height": 328
        },
        "id": "2pVB36sEjJPd",
        "outputId": "240ad6d8-25dd-4167-d630-35f23f88f2f1"
      },
      "outputs": [
        {
          "output_type": "error",
          "ename": "KeyboardInterrupt",
          "evalue": "ignored",
          "traceback": [
            "\u001b[0;31m---------------------------------------------------------------------------\u001b[0m",
            "\u001b[0;31mKeyboardInterrupt\u001b[0m                         Traceback (most recent call last)",
            "\u001b[0;32m<ipython-input-40-2888adecfec6>\u001b[0m in \u001b[0;36m<module>\u001b[0;34m()\u001b[0m\n\u001b[1;32m      1\u001b[0m \u001b[0mgrid\u001b[0m \u001b[0;34m=\u001b[0m \u001b[0mGridSearchCV\u001b[0m\u001b[0;34m(\u001b[0m\u001b[0mmodelRFcic\u001b[0m\u001b[0;34m,\u001b[0m \u001b[0mparametrs\u001b[0m\u001b[0;34m,\u001b[0m \u001b[0mcv\u001b[0m \u001b[0;34m=\u001b[0m \u001b[0;36m5\u001b[0m \u001b[0;34m,\u001b[0m \u001b[0mreturn_train_score\u001b[0m\u001b[0;34m=\u001b[0m\u001b[0;32mTrue\u001b[0m\u001b[0;34m)\u001b[0m\u001b[0;34m\u001b[0m\u001b[0;34m\u001b[0m\u001b[0m\n\u001b[0;32m----> 2\u001b[0;31m \u001b[0mgrid\u001b[0m\u001b[0;34m.\u001b[0m\u001b[0mfit\u001b[0m\u001b[0;34m(\u001b[0m\u001b[0mx_cic\u001b[0m\u001b[0;34m,\u001b[0m \u001b[0my_cic\u001b[0m\u001b[0;34m)\u001b[0m\u001b[0;34m\u001b[0m\u001b[0;34m\u001b[0m\u001b[0m\n\u001b[0m",
            "\u001b[0;32m/usr/local/lib/python3.7/dist-packages/sklearn/model_selection/_search.py\u001b[0m in \u001b[0;36mfit\u001b[0;34m(self, X, y, groups, **fit_params)\u001b[0m\n\u001b[1;32m    889\u001b[0m                 \u001b[0;32mreturn\u001b[0m \u001b[0mresults\u001b[0m\u001b[0;34m\u001b[0m\u001b[0;34m\u001b[0m\u001b[0m\n\u001b[1;32m    890\u001b[0m \u001b[0;34m\u001b[0m\u001b[0m\n\u001b[0;32m--> 891\u001b[0;31m             \u001b[0mself\u001b[0m\u001b[0;34m.\u001b[0m\u001b[0m_run_search\u001b[0m\u001b[0;34m(\u001b[0m\u001b[0mevaluate_candidates\u001b[0m\u001b[0;34m)\u001b[0m\u001b[0;34m\u001b[0m\u001b[0;34m\u001b[0m\u001b[0m\n\u001b[0m\u001b[1;32m    892\u001b[0m \u001b[0;34m\u001b[0m\u001b[0m\n\u001b[1;32m    893\u001b[0m             \u001b[0;31m# multimetric is determined here because in the case of a callable\u001b[0m\u001b[0;34m\u001b[0m\u001b[0;34m\u001b[0m\u001b[0;34m\u001b[0m\u001b[0m\n",
            "\u001b[0;32m/usr/local/lib/python3.7/dist-packages/sklearn/model_selection/_search.py\u001b[0m in \u001b[0;36m_run_search\u001b[0;34m(self, evaluate_candidates)\u001b[0m\n\u001b[1;32m   1390\u001b[0m     \u001b[0;32mdef\u001b[0m \u001b[0m_run_search\u001b[0m\u001b[0;34m(\u001b[0m\u001b[0mself\u001b[0m\u001b[0;34m,\u001b[0m \u001b[0mevaluate_candidates\u001b[0m\u001b[0;34m)\u001b[0m\u001b[0;34m:\u001b[0m\u001b[0;34m\u001b[0m\u001b[0;34m\u001b[0m\u001b[0m\n\u001b[1;32m   1391\u001b[0m         \u001b[0;34m\"\"\"Search all candidates in param_grid\"\"\"\u001b[0m\u001b[0;34m\u001b[0m\u001b[0;34m\u001b[0m\u001b[0m\n\u001b[0;32m-> 1392\u001b[0;31m         \u001b[0mevaluate_candidates\u001b[0m\u001b[0;34m(\u001b[0m\u001b[0mParameterGrid\u001b[0m\u001b[0;34m(\u001b[0m\u001b[0mself\u001b[0m\u001b[0;34m.\u001b[0m\u001b[0mparam_grid\u001b[0m\u001b[0;34m)\u001b[0m\u001b[0;34m)\u001b[0m\u001b[0;34m\u001b[0m\u001b[0;34m\u001b[0m\u001b[0m\n\u001b[0m\u001b[1;32m   1393\u001b[0m \u001b[0;34m\u001b[0m\u001b[0m\n\u001b[1;32m   1394\u001b[0m \u001b[0;34m\u001b[0m\u001b[0m\n",
            "\u001b[0;32m/usr/local/lib/python3.7/dist-packages/sklearn/model_selection/_search.py\u001b[0m in \u001b[0;36mevaluate_candidates\u001b[0;34m(candidate_params, cv, more_results)\u001b[0m\n\u001b[1;32m    849\u001b[0m                     )\n\u001b[1;32m    850\u001b[0m                     for (cand_idx, parameters), (split_idx, (train, test)) in product(\n\u001b[0;32m--> 851\u001b[0;31m                         \u001b[0menumerate\u001b[0m\u001b[0;34m(\u001b[0m\u001b[0mcandidate_params\u001b[0m\u001b[0;34m)\u001b[0m\u001b[0;34m,\u001b[0m \u001b[0menumerate\u001b[0m\u001b[0;34m(\u001b[0m\u001b[0mcv\u001b[0m\u001b[0;34m.\u001b[0m\u001b[0msplit\u001b[0m\u001b[0;34m(\u001b[0m\u001b[0mX\u001b[0m\u001b[0;34m,\u001b[0m \u001b[0my\u001b[0m\u001b[0;34m,\u001b[0m \u001b[0mgroups\u001b[0m\u001b[0;34m)\u001b[0m\u001b[0;34m)\u001b[0m\u001b[0;34m\u001b[0m\u001b[0;34m\u001b[0m\u001b[0m\n\u001b[0m\u001b[1;32m    852\u001b[0m                     )\n\u001b[1;32m    853\u001b[0m                 )\n",
            "\u001b[0;32m/usr/local/lib/python3.7/dist-packages/joblib/parallel.py\u001b[0m in \u001b[0;36m__call__\u001b[0;34m(self, iterable)\u001b[0m\n\u001b[1;32m   1044\u001b[0m                 \u001b[0mself\u001b[0m\u001b[0;34m.\u001b[0m\u001b[0m_iterating\u001b[0m \u001b[0;34m=\u001b[0m \u001b[0mself\u001b[0m\u001b[0;34m.\u001b[0m\u001b[0m_original_iterator\u001b[0m \u001b[0;32mis\u001b[0m \u001b[0;32mnot\u001b[0m \u001b[0;32mNone\u001b[0m\u001b[0;34m\u001b[0m\u001b[0;34m\u001b[0m\u001b[0m\n\u001b[1;32m   1045\u001b[0m \u001b[0;34m\u001b[0m\u001b[0m\n\u001b[0;32m-> 1046\u001b[0;31m             \u001b[0;32mwhile\u001b[0m \u001b[0mself\u001b[0m\u001b[0;34m.\u001b[0m\u001b[0mdispatch_one_batch\u001b[0m\u001b[0;34m(\u001b[0m\u001b[0miterator\u001b[0m\u001b[0;34m)\u001b[0m\u001b[0;34m:\u001b[0m\u001b[0;34m\u001b[0m\u001b[0;34m\u001b[0m\u001b[0m\n\u001b[0m\u001b[1;32m   1047\u001b[0m                 \u001b[0;32mpass\u001b[0m\u001b[0;34m\u001b[0m\u001b[0;34m\u001b[0m\u001b[0m\n\u001b[1;32m   1048\u001b[0m \u001b[0;34m\u001b[0m\u001b[0m\n",
            "\u001b[0;32m/usr/local/lib/python3.7/dist-packages/joblib/parallel.py\u001b[0m in \u001b[0;36mdispatch_one_batch\u001b[0;34m(self, iterator)\u001b[0m\n\u001b[1;32m    859\u001b[0m                 \u001b[0;32mreturn\u001b[0m \u001b[0;32mFalse\u001b[0m\u001b[0;34m\u001b[0m\u001b[0;34m\u001b[0m\u001b[0m\n\u001b[1;32m    860\u001b[0m             \u001b[0;32melse\u001b[0m\u001b[0;34m:\u001b[0m\u001b[0;34m\u001b[0m\u001b[0;34m\u001b[0m\u001b[0m\n\u001b[0;32m--> 861\u001b[0;31m                 \u001b[0mself\u001b[0m\u001b[0;34m.\u001b[0m\u001b[0m_dispatch\u001b[0m\u001b[0;34m(\u001b[0m\u001b[0mtasks\u001b[0m\u001b[0;34m)\u001b[0m\u001b[0;34m\u001b[0m\u001b[0;34m\u001b[0m\u001b[0m\n\u001b[0m\u001b[1;32m    862\u001b[0m                 \u001b[0;32mreturn\u001b[0m \u001b[0;32mTrue\u001b[0m\u001b[0;34m\u001b[0m\u001b[0;34m\u001b[0m\u001b[0m\n\u001b[1;32m    863\u001b[0m \u001b[0;34m\u001b[0m\u001b[0m\n",
            "\u001b[0;32m/usr/local/lib/python3.7/dist-packages/joblib/parallel.py\u001b[0m in \u001b[0;36m_dispatch\u001b[0;34m(self, batch)\u001b[0m\n\u001b[1;32m    777\u001b[0m         \u001b[0;32mwith\u001b[0m \u001b[0mself\u001b[0m\u001b[0;34m.\u001b[0m\u001b[0m_lock\u001b[0m\u001b[0;34m:\u001b[0m\u001b[0;34m\u001b[0m\u001b[0;34m\u001b[0m\u001b[0m\n\u001b[1;32m    778\u001b[0m             \u001b[0mjob_idx\u001b[0m \u001b[0;34m=\u001b[0m \u001b[0mlen\u001b[0m\u001b[0;34m(\u001b[0m\u001b[0mself\u001b[0m\u001b[0;34m.\u001b[0m\u001b[0m_jobs\u001b[0m\u001b[0;34m)\u001b[0m\u001b[0;34m\u001b[0m\u001b[0;34m\u001b[0m\u001b[0m\n\u001b[0;32m--> 779\u001b[0;31m             \u001b[0mjob\u001b[0m \u001b[0;34m=\u001b[0m \u001b[0mself\u001b[0m\u001b[0;34m.\u001b[0m\u001b[0m_backend\u001b[0m\u001b[0;34m.\u001b[0m\u001b[0mapply_async\u001b[0m\u001b[0;34m(\u001b[0m\u001b[0mbatch\u001b[0m\u001b[0;34m,\u001b[0m \u001b[0mcallback\u001b[0m\u001b[0;34m=\u001b[0m\u001b[0mcb\u001b[0m\u001b[0;34m)\u001b[0m\u001b[0;34m\u001b[0m\u001b[0;34m\u001b[0m\u001b[0m\n\u001b[0m\u001b[1;32m    780\u001b[0m             \u001b[0;31m# A job can complete so quickly than its callback is\u001b[0m\u001b[0;34m\u001b[0m\u001b[0;34m\u001b[0m\u001b[0;34m\u001b[0m\u001b[0m\n\u001b[1;32m    781\u001b[0m             \u001b[0;31m# called before we get here, causing self._jobs to\u001b[0m\u001b[0;34m\u001b[0m\u001b[0;34m\u001b[0m\u001b[0;34m\u001b[0m\u001b[0m\n",
            "\u001b[0;32m/usr/local/lib/python3.7/dist-packages/joblib/_parallel_backends.py\u001b[0m in \u001b[0;36mapply_async\u001b[0;34m(self, func, callback)\u001b[0m\n\u001b[1;32m    206\u001b[0m     \u001b[0;32mdef\u001b[0m \u001b[0mapply_async\u001b[0m\u001b[0;34m(\u001b[0m\u001b[0mself\u001b[0m\u001b[0;34m,\u001b[0m \u001b[0mfunc\u001b[0m\u001b[0;34m,\u001b[0m \u001b[0mcallback\u001b[0m\u001b[0;34m=\u001b[0m\u001b[0;32mNone\u001b[0m\u001b[0;34m)\u001b[0m\u001b[0;34m:\u001b[0m\u001b[0;34m\u001b[0m\u001b[0;34m\u001b[0m\u001b[0m\n\u001b[1;32m    207\u001b[0m         \u001b[0;34m\"\"\"Schedule a func to be run\"\"\"\u001b[0m\u001b[0;34m\u001b[0m\u001b[0;34m\u001b[0m\u001b[0m\n\u001b[0;32m--> 208\u001b[0;31m         \u001b[0mresult\u001b[0m \u001b[0;34m=\u001b[0m \u001b[0mImmediateResult\u001b[0m\u001b[0;34m(\u001b[0m\u001b[0mfunc\u001b[0m\u001b[0;34m)\u001b[0m\u001b[0;34m\u001b[0m\u001b[0;34m\u001b[0m\u001b[0m\n\u001b[0m\u001b[1;32m    209\u001b[0m         \u001b[0;32mif\u001b[0m \u001b[0mcallback\u001b[0m\u001b[0;34m:\u001b[0m\u001b[0;34m\u001b[0m\u001b[0;34m\u001b[0m\u001b[0m\n\u001b[1;32m    210\u001b[0m             \u001b[0mcallback\u001b[0m\u001b[0;34m(\u001b[0m\u001b[0mresult\u001b[0m\u001b[0;34m)\u001b[0m\u001b[0;34m\u001b[0m\u001b[0;34m\u001b[0m\u001b[0m\n",
            "\u001b[0;32m/usr/local/lib/python3.7/dist-packages/joblib/_parallel_backends.py\u001b[0m in \u001b[0;36m__init__\u001b[0;34m(self, batch)\u001b[0m\n\u001b[1;32m    570\u001b[0m         \u001b[0;31m# Don't delay the application, to avoid keeping the input\u001b[0m\u001b[0;34m\u001b[0m\u001b[0;34m\u001b[0m\u001b[0;34m\u001b[0m\u001b[0m\n\u001b[1;32m    571\u001b[0m         \u001b[0;31m# arguments in memory\u001b[0m\u001b[0;34m\u001b[0m\u001b[0;34m\u001b[0m\u001b[0;34m\u001b[0m\u001b[0m\n\u001b[0;32m--> 572\u001b[0;31m         \u001b[0mself\u001b[0m\u001b[0;34m.\u001b[0m\u001b[0mresults\u001b[0m \u001b[0;34m=\u001b[0m \u001b[0mbatch\u001b[0m\u001b[0;34m(\u001b[0m\u001b[0;34m)\u001b[0m\u001b[0;34m\u001b[0m\u001b[0;34m\u001b[0m\u001b[0m\n\u001b[0m\u001b[1;32m    573\u001b[0m \u001b[0;34m\u001b[0m\u001b[0m\n\u001b[1;32m    574\u001b[0m     \u001b[0;32mdef\u001b[0m \u001b[0mget\u001b[0m\u001b[0;34m(\u001b[0m\u001b[0mself\u001b[0m\u001b[0;34m)\u001b[0m\u001b[0;34m:\u001b[0m\u001b[0;34m\u001b[0m\u001b[0;34m\u001b[0m\u001b[0m\n",
            "\u001b[0;32m/usr/local/lib/python3.7/dist-packages/joblib/parallel.py\u001b[0m in \u001b[0;36m__call__\u001b[0;34m(self)\u001b[0m\n\u001b[1;32m    261\u001b[0m         \u001b[0;32mwith\u001b[0m \u001b[0mparallel_backend\u001b[0m\u001b[0;34m(\u001b[0m\u001b[0mself\u001b[0m\u001b[0;34m.\u001b[0m\u001b[0m_backend\u001b[0m\u001b[0;34m,\u001b[0m \u001b[0mn_jobs\u001b[0m\u001b[0;34m=\u001b[0m\u001b[0mself\u001b[0m\u001b[0;34m.\u001b[0m\u001b[0m_n_jobs\u001b[0m\u001b[0;34m)\u001b[0m\u001b[0;34m:\u001b[0m\u001b[0;34m\u001b[0m\u001b[0;34m\u001b[0m\u001b[0m\n\u001b[1;32m    262\u001b[0m             return [func(*args, **kwargs)\n\u001b[0;32m--> 263\u001b[0;31m                     for func, args, kwargs in self.items]\n\u001b[0m\u001b[1;32m    264\u001b[0m \u001b[0;34m\u001b[0m\u001b[0m\n\u001b[1;32m    265\u001b[0m     \u001b[0;32mdef\u001b[0m \u001b[0m__reduce__\u001b[0m\u001b[0;34m(\u001b[0m\u001b[0mself\u001b[0m\u001b[0;34m)\u001b[0m\u001b[0;34m:\u001b[0m\u001b[0;34m\u001b[0m\u001b[0;34m\u001b[0m\u001b[0m\n",
            "\u001b[0;32m/usr/local/lib/python3.7/dist-packages/joblib/parallel.py\u001b[0m in \u001b[0;36m<listcomp>\u001b[0;34m(.0)\u001b[0m\n\u001b[1;32m    261\u001b[0m         \u001b[0;32mwith\u001b[0m \u001b[0mparallel_backend\u001b[0m\u001b[0;34m(\u001b[0m\u001b[0mself\u001b[0m\u001b[0;34m.\u001b[0m\u001b[0m_backend\u001b[0m\u001b[0;34m,\u001b[0m \u001b[0mn_jobs\u001b[0m\u001b[0;34m=\u001b[0m\u001b[0mself\u001b[0m\u001b[0;34m.\u001b[0m\u001b[0m_n_jobs\u001b[0m\u001b[0;34m)\u001b[0m\u001b[0;34m:\u001b[0m\u001b[0;34m\u001b[0m\u001b[0;34m\u001b[0m\u001b[0m\n\u001b[1;32m    262\u001b[0m             return [func(*args, **kwargs)\n\u001b[0;32m--> 263\u001b[0;31m                     for func, args, kwargs in self.items]\n\u001b[0m\u001b[1;32m    264\u001b[0m \u001b[0;34m\u001b[0m\u001b[0m\n\u001b[1;32m    265\u001b[0m     \u001b[0;32mdef\u001b[0m \u001b[0m__reduce__\u001b[0m\u001b[0;34m(\u001b[0m\u001b[0mself\u001b[0m\u001b[0;34m)\u001b[0m\u001b[0;34m:\u001b[0m\u001b[0;34m\u001b[0m\u001b[0;34m\u001b[0m\u001b[0m\n",
            "\u001b[0;32m/usr/local/lib/python3.7/dist-packages/sklearn/utils/fixes.py\u001b[0m in \u001b[0;36m__call__\u001b[0;34m(self, *args, **kwargs)\u001b[0m\n\u001b[1;32m    214\u001b[0m     \u001b[0;32mdef\u001b[0m \u001b[0m__call__\u001b[0m\u001b[0;34m(\u001b[0m\u001b[0mself\u001b[0m\u001b[0;34m,\u001b[0m \u001b[0;34m*\u001b[0m\u001b[0margs\u001b[0m\u001b[0;34m,\u001b[0m \u001b[0;34m**\u001b[0m\u001b[0mkwargs\u001b[0m\u001b[0;34m)\u001b[0m\u001b[0;34m:\u001b[0m\u001b[0;34m\u001b[0m\u001b[0;34m\u001b[0m\u001b[0m\n\u001b[1;32m    215\u001b[0m         \u001b[0;32mwith\u001b[0m \u001b[0mconfig_context\u001b[0m\u001b[0;34m(\u001b[0m\u001b[0;34m**\u001b[0m\u001b[0mself\u001b[0m\u001b[0;34m.\u001b[0m\u001b[0mconfig\u001b[0m\u001b[0;34m)\u001b[0m\u001b[0;34m:\u001b[0m\u001b[0;34m\u001b[0m\u001b[0;34m\u001b[0m\u001b[0m\n\u001b[0;32m--> 216\u001b[0;31m             \u001b[0;32mreturn\u001b[0m \u001b[0mself\u001b[0m\u001b[0;34m.\u001b[0m\u001b[0mfunction\u001b[0m\u001b[0;34m(\u001b[0m\u001b[0;34m*\u001b[0m\u001b[0margs\u001b[0m\u001b[0;34m,\u001b[0m \u001b[0;34m**\u001b[0m\u001b[0mkwargs\u001b[0m\u001b[0;34m)\u001b[0m\u001b[0;34m\u001b[0m\u001b[0;34m\u001b[0m\u001b[0m\n\u001b[0m\u001b[1;32m    217\u001b[0m \u001b[0;34m\u001b[0m\u001b[0m\n\u001b[1;32m    218\u001b[0m \u001b[0;34m\u001b[0m\u001b[0m\n",
            "\u001b[0;32m/usr/local/lib/python3.7/dist-packages/sklearn/model_selection/_validation.py\u001b[0m in \u001b[0;36m_fit_and_score\u001b[0;34m(estimator, X, y, scorer, train, test, verbose, parameters, fit_params, return_train_score, return_parameters, return_n_test_samples, return_times, return_estimator, split_progress, candidate_progress, error_score)\u001b[0m\n\u001b[1;32m    678\u001b[0m             \u001b[0mestimator\u001b[0m\u001b[0;34m.\u001b[0m\u001b[0mfit\u001b[0m\u001b[0;34m(\u001b[0m\u001b[0mX_train\u001b[0m\u001b[0;34m,\u001b[0m \u001b[0;34m**\u001b[0m\u001b[0mfit_params\u001b[0m\u001b[0;34m)\u001b[0m\u001b[0;34m\u001b[0m\u001b[0;34m\u001b[0m\u001b[0m\n\u001b[1;32m    679\u001b[0m         \u001b[0;32melse\u001b[0m\u001b[0;34m:\u001b[0m\u001b[0;34m\u001b[0m\u001b[0;34m\u001b[0m\u001b[0m\n\u001b[0;32m--> 680\u001b[0;31m             \u001b[0mestimator\u001b[0m\u001b[0;34m.\u001b[0m\u001b[0mfit\u001b[0m\u001b[0;34m(\u001b[0m\u001b[0mX_train\u001b[0m\u001b[0;34m,\u001b[0m \u001b[0my_train\u001b[0m\u001b[0;34m,\u001b[0m \u001b[0;34m**\u001b[0m\u001b[0mfit_params\u001b[0m\u001b[0;34m)\u001b[0m\u001b[0;34m\u001b[0m\u001b[0;34m\u001b[0m\u001b[0m\n\u001b[0m\u001b[1;32m    681\u001b[0m \u001b[0;34m\u001b[0m\u001b[0m\n\u001b[1;32m    682\u001b[0m     \u001b[0;32mexcept\u001b[0m \u001b[0mException\u001b[0m\u001b[0;34m:\u001b[0m\u001b[0;34m\u001b[0m\u001b[0;34m\u001b[0m\u001b[0m\n",
            "\u001b[0;32m/usr/local/lib/python3.7/dist-packages/sklearn/ensemble/_forest.py\u001b[0m in \u001b[0;36mfit\u001b[0;34m(self, X, y, sample_weight)\u001b[0m\n\u001b[1;32m    465\u001b[0m                     \u001b[0mn_samples_bootstrap\u001b[0m\u001b[0;34m=\u001b[0m\u001b[0mn_samples_bootstrap\u001b[0m\u001b[0;34m,\u001b[0m\u001b[0;34m\u001b[0m\u001b[0;34m\u001b[0m\u001b[0m\n\u001b[1;32m    466\u001b[0m                 )\n\u001b[0;32m--> 467\u001b[0;31m                 \u001b[0;32mfor\u001b[0m \u001b[0mi\u001b[0m\u001b[0;34m,\u001b[0m \u001b[0mt\u001b[0m \u001b[0;32min\u001b[0m \u001b[0menumerate\u001b[0m\u001b[0;34m(\u001b[0m\u001b[0mtrees\u001b[0m\u001b[0;34m)\u001b[0m\u001b[0;34m\u001b[0m\u001b[0;34m\u001b[0m\u001b[0m\n\u001b[0m\u001b[1;32m    468\u001b[0m             )\n\u001b[1;32m    469\u001b[0m \u001b[0;34m\u001b[0m\u001b[0m\n",
            "\u001b[0;32m/usr/local/lib/python3.7/dist-packages/joblib/parallel.py\u001b[0m in \u001b[0;36m__call__\u001b[0;34m(self, iterable)\u001b[0m\n\u001b[1;32m   1044\u001b[0m                 \u001b[0mself\u001b[0m\u001b[0;34m.\u001b[0m\u001b[0m_iterating\u001b[0m \u001b[0;34m=\u001b[0m \u001b[0mself\u001b[0m\u001b[0;34m.\u001b[0m\u001b[0m_original_iterator\u001b[0m \u001b[0;32mis\u001b[0m \u001b[0;32mnot\u001b[0m \u001b[0;32mNone\u001b[0m\u001b[0;34m\u001b[0m\u001b[0;34m\u001b[0m\u001b[0m\n\u001b[1;32m   1045\u001b[0m \u001b[0;34m\u001b[0m\u001b[0m\n\u001b[0;32m-> 1046\u001b[0;31m             \u001b[0;32mwhile\u001b[0m \u001b[0mself\u001b[0m\u001b[0;34m.\u001b[0m\u001b[0mdispatch_one_batch\u001b[0m\u001b[0;34m(\u001b[0m\u001b[0miterator\u001b[0m\u001b[0;34m)\u001b[0m\u001b[0;34m:\u001b[0m\u001b[0;34m\u001b[0m\u001b[0;34m\u001b[0m\u001b[0m\n\u001b[0m\u001b[1;32m   1047\u001b[0m                 \u001b[0;32mpass\u001b[0m\u001b[0;34m\u001b[0m\u001b[0;34m\u001b[0m\u001b[0m\n\u001b[1;32m   1048\u001b[0m \u001b[0;34m\u001b[0m\u001b[0m\n",
            "\u001b[0;32m/usr/local/lib/python3.7/dist-packages/joblib/parallel.py\u001b[0m in \u001b[0;36mdispatch_one_batch\u001b[0;34m(self, iterator)\u001b[0m\n\u001b[1;32m    859\u001b[0m                 \u001b[0;32mreturn\u001b[0m \u001b[0;32mFalse\u001b[0m\u001b[0;34m\u001b[0m\u001b[0;34m\u001b[0m\u001b[0m\n\u001b[1;32m    860\u001b[0m             \u001b[0;32melse\u001b[0m\u001b[0;34m:\u001b[0m\u001b[0;34m\u001b[0m\u001b[0;34m\u001b[0m\u001b[0m\n\u001b[0;32m--> 861\u001b[0;31m                 \u001b[0mself\u001b[0m\u001b[0;34m.\u001b[0m\u001b[0m_dispatch\u001b[0m\u001b[0;34m(\u001b[0m\u001b[0mtasks\u001b[0m\u001b[0;34m)\u001b[0m\u001b[0;34m\u001b[0m\u001b[0;34m\u001b[0m\u001b[0m\n\u001b[0m\u001b[1;32m    862\u001b[0m                 \u001b[0;32mreturn\u001b[0m \u001b[0;32mTrue\u001b[0m\u001b[0;34m\u001b[0m\u001b[0;34m\u001b[0m\u001b[0m\n\u001b[1;32m    863\u001b[0m \u001b[0;34m\u001b[0m\u001b[0m\n",
            "\u001b[0;32m/usr/local/lib/python3.7/dist-packages/joblib/parallel.py\u001b[0m in \u001b[0;36m_dispatch\u001b[0;34m(self, batch)\u001b[0m\n\u001b[1;32m    777\u001b[0m         \u001b[0;32mwith\u001b[0m \u001b[0mself\u001b[0m\u001b[0;34m.\u001b[0m\u001b[0m_lock\u001b[0m\u001b[0;34m:\u001b[0m\u001b[0;34m\u001b[0m\u001b[0;34m\u001b[0m\u001b[0m\n\u001b[1;32m    778\u001b[0m             \u001b[0mjob_idx\u001b[0m \u001b[0;34m=\u001b[0m \u001b[0mlen\u001b[0m\u001b[0;34m(\u001b[0m\u001b[0mself\u001b[0m\u001b[0;34m.\u001b[0m\u001b[0m_jobs\u001b[0m\u001b[0;34m)\u001b[0m\u001b[0;34m\u001b[0m\u001b[0;34m\u001b[0m\u001b[0m\n\u001b[0;32m--> 779\u001b[0;31m             \u001b[0mjob\u001b[0m \u001b[0;34m=\u001b[0m \u001b[0mself\u001b[0m\u001b[0;34m.\u001b[0m\u001b[0m_backend\u001b[0m\u001b[0;34m.\u001b[0m\u001b[0mapply_async\u001b[0m\u001b[0;34m(\u001b[0m\u001b[0mbatch\u001b[0m\u001b[0;34m,\u001b[0m \u001b[0mcallback\u001b[0m\u001b[0;34m=\u001b[0m\u001b[0mcb\u001b[0m\u001b[0;34m)\u001b[0m\u001b[0;34m\u001b[0m\u001b[0;34m\u001b[0m\u001b[0m\n\u001b[0m\u001b[1;32m    780\u001b[0m             \u001b[0;31m# A job can complete so quickly than its callback is\u001b[0m\u001b[0;34m\u001b[0m\u001b[0;34m\u001b[0m\u001b[0;34m\u001b[0m\u001b[0m\n\u001b[1;32m    781\u001b[0m             \u001b[0;31m# called before we get here, causing self._jobs to\u001b[0m\u001b[0;34m\u001b[0m\u001b[0;34m\u001b[0m\u001b[0;34m\u001b[0m\u001b[0m\n",
            "\u001b[0;32m/usr/local/lib/python3.7/dist-packages/joblib/_parallel_backends.py\u001b[0m in \u001b[0;36mapply_async\u001b[0;34m(self, func, callback)\u001b[0m\n\u001b[1;32m    206\u001b[0m     \u001b[0;32mdef\u001b[0m \u001b[0mapply_async\u001b[0m\u001b[0;34m(\u001b[0m\u001b[0mself\u001b[0m\u001b[0;34m,\u001b[0m \u001b[0mfunc\u001b[0m\u001b[0;34m,\u001b[0m \u001b[0mcallback\u001b[0m\u001b[0;34m=\u001b[0m\u001b[0;32mNone\u001b[0m\u001b[0;34m)\u001b[0m\u001b[0;34m:\u001b[0m\u001b[0;34m\u001b[0m\u001b[0;34m\u001b[0m\u001b[0m\n\u001b[1;32m    207\u001b[0m         \u001b[0;34m\"\"\"Schedule a func to be run\"\"\"\u001b[0m\u001b[0;34m\u001b[0m\u001b[0;34m\u001b[0m\u001b[0m\n\u001b[0;32m--> 208\u001b[0;31m         \u001b[0mresult\u001b[0m \u001b[0;34m=\u001b[0m \u001b[0mImmediateResult\u001b[0m\u001b[0;34m(\u001b[0m\u001b[0mfunc\u001b[0m\u001b[0;34m)\u001b[0m\u001b[0;34m\u001b[0m\u001b[0;34m\u001b[0m\u001b[0m\n\u001b[0m\u001b[1;32m    209\u001b[0m         \u001b[0;32mif\u001b[0m \u001b[0mcallback\u001b[0m\u001b[0;34m:\u001b[0m\u001b[0;34m\u001b[0m\u001b[0;34m\u001b[0m\u001b[0m\n\u001b[1;32m    210\u001b[0m             \u001b[0mcallback\u001b[0m\u001b[0;34m(\u001b[0m\u001b[0mresult\u001b[0m\u001b[0;34m)\u001b[0m\u001b[0;34m\u001b[0m\u001b[0;34m\u001b[0m\u001b[0m\n",
            "\u001b[0;32m/usr/local/lib/python3.7/dist-packages/joblib/_parallel_backends.py\u001b[0m in \u001b[0;36m__init__\u001b[0;34m(self, batch)\u001b[0m\n\u001b[1;32m    570\u001b[0m         \u001b[0;31m# Don't delay the application, to avoid keeping the input\u001b[0m\u001b[0;34m\u001b[0m\u001b[0;34m\u001b[0m\u001b[0;34m\u001b[0m\u001b[0m\n\u001b[1;32m    571\u001b[0m         \u001b[0;31m# arguments in memory\u001b[0m\u001b[0;34m\u001b[0m\u001b[0;34m\u001b[0m\u001b[0;34m\u001b[0m\u001b[0m\n\u001b[0;32m--> 572\u001b[0;31m         \u001b[0mself\u001b[0m\u001b[0;34m.\u001b[0m\u001b[0mresults\u001b[0m \u001b[0;34m=\u001b[0m \u001b[0mbatch\u001b[0m\u001b[0;34m(\u001b[0m\u001b[0;34m)\u001b[0m\u001b[0;34m\u001b[0m\u001b[0;34m\u001b[0m\u001b[0m\n\u001b[0m\u001b[1;32m    573\u001b[0m \u001b[0;34m\u001b[0m\u001b[0m\n\u001b[1;32m    574\u001b[0m     \u001b[0;32mdef\u001b[0m \u001b[0mget\u001b[0m\u001b[0;34m(\u001b[0m\u001b[0mself\u001b[0m\u001b[0;34m)\u001b[0m\u001b[0;34m:\u001b[0m\u001b[0;34m\u001b[0m\u001b[0;34m\u001b[0m\u001b[0m\n",
            "\u001b[0;32m/usr/local/lib/python3.7/dist-packages/joblib/parallel.py\u001b[0m in \u001b[0;36m__call__\u001b[0;34m(self)\u001b[0m\n\u001b[1;32m    261\u001b[0m         \u001b[0;32mwith\u001b[0m \u001b[0mparallel_backend\u001b[0m\u001b[0;34m(\u001b[0m\u001b[0mself\u001b[0m\u001b[0;34m.\u001b[0m\u001b[0m_backend\u001b[0m\u001b[0;34m,\u001b[0m \u001b[0mn_jobs\u001b[0m\u001b[0;34m=\u001b[0m\u001b[0mself\u001b[0m\u001b[0;34m.\u001b[0m\u001b[0m_n_jobs\u001b[0m\u001b[0;34m)\u001b[0m\u001b[0;34m:\u001b[0m\u001b[0;34m\u001b[0m\u001b[0;34m\u001b[0m\u001b[0m\n\u001b[1;32m    262\u001b[0m             return [func(*args, **kwargs)\n\u001b[0;32m--> 263\u001b[0;31m                     for func, args, kwargs in self.items]\n\u001b[0m\u001b[1;32m    264\u001b[0m \u001b[0;34m\u001b[0m\u001b[0m\n\u001b[1;32m    265\u001b[0m     \u001b[0;32mdef\u001b[0m \u001b[0m__reduce__\u001b[0m\u001b[0;34m(\u001b[0m\u001b[0mself\u001b[0m\u001b[0;34m)\u001b[0m\u001b[0;34m:\u001b[0m\u001b[0;34m\u001b[0m\u001b[0;34m\u001b[0m\u001b[0m\n",
            "\u001b[0;32m/usr/local/lib/python3.7/dist-packages/joblib/parallel.py\u001b[0m in \u001b[0;36m<listcomp>\u001b[0;34m(.0)\u001b[0m\n\u001b[1;32m    261\u001b[0m         \u001b[0;32mwith\u001b[0m \u001b[0mparallel_backend\u001b[0m\u001b[0;34m(\u001b[0m\u001b[0mself\u001b[0m\u001b[0;34m.\u001b[0m\u001b[0m_backend\u001b[0m\u001b[0;34m,\u001b[0m \u001b[0mn_jobs\u001b[0m\u001b[0;34m=\u001b[0m\u001b[0mself\u001b[0m\u001b[0;34m.\u001b[0m\u001b[0m_n_jobs\u001b[0m\u001b[0;34m)\u001b[0m\u001b[0;34m:\u001b[0m\u001b[0;34m\u001b[0m\u001b[0;34m\u001b[0m\u001b[0m\n\u001b[1;32m    262\u001b[0m             return [func(*args, **kwargs)\n\u001b[0;32m--> 263\u001b[0;31m                     for func, args, kwargs in self.items]\n\u001b[0m\u001b[1;32m    264\u001b[0m \u001b[0;34m\u001b[0m\u001b[0m\n\u001b[1;32m    265\u001b[0m     \u001b[0;32mdef\u001b[0m \u001b[0m__reduce__\u001b[0m\u001b[0;34m(\u001b[0m\u001b[0mself\u001b[0m\u001b[0;34m)\u001b[0m\u001b[0;34m:\u001b[0m\u001b[0;34m\u001b[0m\u001b[0;34m\u001b[0m\u001b[0m\n",
            "\u001b[0;32m/usr/local/lib/python3.7/dist-packages/sklearn/utils/fixes.py\u001b[0m in \u001b[0;36m__call__\u001b[0;34m(self, *args, **kwargs)\u001b[0m\n\u001b[1;32m    214\u001b[0m     \u001b[0;32mdef\u001b[0m \u001b[0m__call__\u001b[0m\u001b[0;34m(\u001b[0m\u001b[0mself\u001b[0m\u001b[0;34m,\u001b[0m \u001b[0;34m*\u001b[0m\u001b[0margs\u001b[0m\u001b[0;34m,\u001b[0m \u001b[0;34m**\u001b[0m\u001b[0mkwargs\u001b[0m\u001b[0;34m)\u001b[0m\u001b[0;34m:\u001b[0m\u001b[0;34m\u001b[0m\u001b[0;34m\u001b[0m\u001b[0m\n\u001b[1;32m    215\u001b[0m         \u001b[0;32mwith\u001b[0m \u001b[0mconfig_context\u001b[0m\u001b[0;34m(\u001b[0m\u001b[0;34m**\u001b[0m\u001b[0mself\u001b[0m\u001b[0;34m.\u001b[0m\u001b[0mconfig\u001b[0m\u001b[0;34m)\u001b[0m\u001b[0;34m:\u001b[0m\u001b[0;34m\u001b[0m\u001b[0;34m\u001b[0m\u001b[0m\n\u001b[0;32m--> 216\u001b[0;31m             \u001b[0;32mreturn\u001b[0m \u001b[0mself\u001b[0m\u001b[0;34m.\u001b[0m\u001b[0mfunction\u001b[0m\u001b[0;34m(\u001b[0m\u001b[0;34m*\u001b[0m\u001b[0margs\u001b[0m\u001b[0;34m,\u001b[0m \u001b[0;34m**\u001b[0m\u001b[0mkwargs\u001b[0m\u001b[0;34m)\u001b[0m\u001b[0;34m\u001b[0m\u001b[0;34m\u001b[0m\u001b[0m\n\u001b[0m\u001b[1;32m    217\u001b[0m \u001b[0;34m\u001b[0m\u001b[0m\n\u001b[1;32m    218\u001b[0m \u001b[0;34m\u001b[0m\u001b[0m\n",
            "\u001b[0;32m/usr/local/lib/python3.7/dist-packages/sklearn/ensemble/_forest.py\u001b[0m in \u001b[0;36m_parallel_build_trees\u001b[0;34m(tree, forest, X, y, sample_weight, tree_idx, n_trees, verbose, class_weight, n_samples_bootstrap)\u001b[0m\n\u001b[1;32m    183\u001b[0m             \u001b[0mcurr_sample_weight\u001b[0m \u001b[0;34m*=\u001b[0m \u001b[0mcompute_sample_weight\u001b[0m\u001b[0;34m(\u001b[0m\u001b[0;34m\"balanced\"\u001b[0m\u001b[0;34m,\u001b[0m \u001b[0my\u001b[0m\u001b[0;34m,\u001b[0m \u001b[0mindices\u001b[0m\u001b[0;34m=\u001b[0m\u001b[0mindices\u001b[0m\u001b[0;34m)\u001b[0m\u001b[0;34m\u001b[0m\u001b[0;34m\u001b[0m\u001b[0m\n\u001b[1;32m    184\u001b[0m \u001b[0;34m\u001b[0m\u001b[0m\n\u001b[0;32m--> 185\u001b[0;31m         \u001b[0mtree\u001b[0m\u001b[0;34m.\u001b[0m\u001b[0mfit\u001b[0m\u001b[0;34m(\u001b[0m\u001b[0mX\u001b[0m\u001b[0;34m,\u001b[0m \u001b[0my\u001b[0m\u001b[0;34m,\u001b[0m \u001b[0msample_weight\u001b[0m\u001b[0;34m=\u001b[0m\u001b[0mcurr_sample_weight\u001b[0m\u001b[0;34m,\u001b[0m \u001b[0mcheck_input\u001b[0m\u001b[0;34m=\u001b[0m\u001b[0;32mFalse\u001b[0m\u001b[0;34m)\u001b[0m\u001b[0;34m\u001b[0m\u001b[0;34m\u001b[0m\u001b[0m\n\u001b[0m\u001b[1;32m    186\u001b[0m     \u001b[0;32melse\u001b[0m\u001b[0;34m:\u001b[0m\u001b[0;34m\u001b[0m\u001b[0;34m\u001b[0m\u001b[0m\n\u001b[1;32m    187\u001b[0m         \u001b[0mtree\u001b[0m\u001b[0;34m.\u001b[0m\u001b[0mfit\u001b[0m\u001b[0;34m(\u001b[0m\u001b[0mX\u001b[0m\u001b[0;34m,\u001b[0m \u001b[0my\u001b[0m\u001b[0;34m,\u001b[0m \u001b[0msample_weight\u001b[0m\u001b[0;34m=\u001b[0m\u001b[0msample_weight\u001b[0m\u001b[0;34m,\u001b[0m \u001b[0mcheck_input\u001b[0m\u001b[0;34m=\u001b[0m\u001b[0;32mFalse\u001b[0m\u001b[0;34m)\u001b[0m\u001b[0;34m\u001b[0m\u001b[0;34m\u001b[0m\u001b[0m\n",
            "\u001b[0;32m/usr/local/lib/python3.7/dist-packages/sklearn/tree/_classes.py\u001b[0m in \u001b[0;36mfit\u001b[0;34m(self, X, y, sample_weight, check_input, X_idx_sorted)\u001b[0m\n\u001b[1;32m    940\u001b[0m             \u001b[0msample_weight\u001b[0m\u001b[0;34m=\u001b[0m\u001b[0msample_weight\u001b[0m\u001b[0;34m,\u001b[0m\u001b[0;34m\u001b[0m\u001b[0;34m\u001b[0m\u001b[0m\n\u001b[1;32m    941\u001b[0m             \u001b[0mcheck_input\u001b[0m\u001b[0;34m=\u001b[0m\u001b[0mcheck_input\u001b[0m\u001b[0;34m,\u001b[0m\u001b[0;34m\u001b[0m\u001b[0;34m\u001b[0m\u001b[0m\n\u001b[0;32m--> 942\u001b[0;31m             \u001b[0mX_idx_sorted\u001b[0m\u001b[0;34m=\u001b[0m\u001b[0mX_idx_sorted\u001b[0m\u001b[0;34m,\u001b[0m\u001b[0;34m\u001b[0m\u001b[0;34m\u001b[0m\u001b[0m\n\u001b[0m\u001b[1;32m    943\u001b[0m         )\n\u001b[1;32m    944\u001b[0m         \u001b[0;32mreturn\u001b[0m \u001b[0mself\u001b[0m\u001b[0;34m\u001b[0m\u001b[0;34m\u001b[0m\u001b[0m\n",
            "\u001b[0;32m/usr/local/lib/python3.7/dist-packages/sklearn/tree/_classes.py\u001b[0m in \u001b[0;36mfit\u001b[0;34m(self, X, y, sample_weight, check_input, X_idx_sorted)\u001b[0m\n\u001b[1;32m    418\u001b[0m             )\n\u001b[1;32m    419\u001b[0m \u001b[0;34m\u001b[0m\u001b[0m\n\u001b[0;32m--> 420\u001b[0;31m         \u001b[0mbuilder\u001b[0m\u001b[0;34m.\u001b[0m\u001b[0mbuild\u001b[0m\u001b[0;34m(\u001b[0m\u001b[0mself\u001b[0m\u001b[0;34m.\u001b[0m\u001b[0mtree_\u001b[0m\u001b[0;34m,\u001b[0m \u001b[0mX\u001b[0m\u001b[0;34m,\u001b[0m \u001b[0my\u001b[0m\u001b[0;34m,\u001b[0m \u001b[0msample_weight\u001b[0m\u001b[0;34m)\u001b[0m\u001b[0;34m\u001b[0m\u001b[0;34m\u001b[0m\u001b[0m\n\u001b[0m\u001b[1;32m    421\u001b[0m \u001b[0;34m\u001b[0m\u001b[0m\n\u001b[1;32m    422\u001b[0m         \u001b[0;32mif\u001b[0m \u001b[0mself\u001b[0m\u001b[0;34m.\u001b[0m\u001b[0mn_outputs_\u001b[0m \u001b[0;34m==\u001b[0m \u001b[0;36m1\u001b[0m \u001b[0;32mand\u001b[0m \u001b[0mis_classifier\u001b[0m\u001b[0;34m(\u001b[0m\u001b[0mself\u001b[0m\u001b[0;34m)\u001b[0m\u001b[0;34m:\u001b[0m\u001b[0;34m\u001b[0m\u001b[0;34m\u001b[0m\u001b[0m\n",
            "\u001b[0;31mKeyboardInterrupt\u001b[0m: "
          ]
        }
      ],
      "source": [
        "grid = GridSearchCV(modelRFcic, parametrs, cv = 5 , return_train_score=True)\n",
        "grid.fit(x_cic, y_cic)"
      ]
    },
    {
      "cell_type": "code",
      "source": [
        "for i in df_cic.columns:\n",
        "  if(df_cic['{0}'.format(i)].isnull().all()):\n",
        "    print(df_cic['{0}'.format(i)].isnull())"
      ],
      "metadata": {
        "id": "v-C27cFCgpt3"
      },
      "execution_count": null,
      "outputs": []
    },
    {
      "cell_type": "code",
      "execution_count": null,
      "metadata": {
        "id": "Do-qDvDFakr1",
        "colab": {
          "base_uri": "https://localhost:8080/",
          "height": 502
        },
        "outputId": "e8595286-bad4-4781-822b-3b92a7749812"
      },
      "outputs": [
        {
          "output_type": "error",
          "ename": "KeyError",
          "evalue": "ignored",
          "traceback": [
            "\u001b[0;31m---------------------------------------------------------------------------\u001b[0m",
            "\u001b[0;31mKeyError\u001b[0m                                  Traceback (most recent call last)",
            "\u001b[0;32m/usr/local/lib/python3.7/dist-packages/pandas/core/indexes/base.py\u001b[0m in \u001b[0;36mget_loc\u001b[0;34m(self, key, method, tolerance)\u001b[0m\n\u001b[1;32m   3360\u001b[0m             \u001b[0;32mtry\u001b[0m\u001b[0;34m:\u001b[0m\u001b[0;34m\u001b[0m\u001b[0;34m\u001b[0m\u001b[0m\n\u001b[0;32m-> 3361\u001b[0;31m                 \u001b[0;32mreturn\u001b[0m \u001b[0mself\u001b[0m\u001b[0;34m.\u001b[0m\u001b[0m_engine\u001b[0m\u001b[0;34m.\u001b[0m\u001b[0mget_loc\u001b[0m\u001b[0;34m(\u001b[0m\u001b[0mcasted_key\u001b[0m\u001b[0;34m)\u001b[0m\u001b[0;34m\u001b[0m\u001b[0;34m\u001b[0m\u001b[0m\n\u001b[0m\u001b[1;32m   3362\u001b[0m             \u001b[0;32mexcept\u001b[0m \u001b[0mKeyError\u001b[0m \u001b[0;32mas\u001b[0m \u001b[0merr\u001b[0m\u001b[0;34m:\u001b[0m\u001b[0;34m\u001b[0m\u001b[0;34m\u001b[0m\u001b[0m\n",
            "\u001b[0;32m/usr/local/lib/python3.7/dist-packages/pandas/_libs/index.pyx\u001b[0m in \u001b[0;36mpandas._libs.index.IndexEngine.get_loc\u001b[0;34m()\u001b[0m\n",
            "\u001b[0;32m/usr/local/lib/python3.7/dist-packages/pandas/_libs/index.pyx\u001b[0m in \u001b[0;36mpandas._libs.index.IndexEngine.get_loc\u001b[0;34m()\u001b[0m\n",
            "\u001b[0;32mpandas/_libs/hashtable_class_helper.pxi\u001b[0m in \u001b[0;36mpandas._libs.hashtable.PyObjectHashTable.get_item\u001b[0;34m()\u001b[0m\n",
            "\u001b[0;32mpandas/_libs/hashtable_class_helper.pxi\u001b[0m in \u001b[0;36mpandas._libs.hashtable.PyObjectHashTable.get_item\u001b[0;34m()\u001b[0m\n",
            "\u001b[0;31mKeyError\u001b[0m: 0",
            "\nThe above exception was the direct cause of the following exception:\n",
            "\u001b[0;31mKeyError\u001b[0m                                  Traceback (most recent call last)",
            "\u001b[0;32m<ipython-input-32-ba8b0ab5f831>\u001b[0m in \u001b[0;36m<module>\u001b[0;34m()\u001b[0m\n\u001b[1;32m      1\u001b[0m \u001b[0;32mfor\u001b[0m \u001b[0mi\u001b[0m \u001b[0;32min\u001b[0m \u001b[0mrange\u001b[0m\u001b[0;34m(\u001b[0m\u001b[0mdf_cic\u001b[0m\u001b[0;34m.\u001b[0m\u001b[0mshape\u001b[0m\u001b[0;34m[\u001b[0m\u001b[0;36m0\u001b[0m\u001b[0;34m]\u001b[0m\u001b[0;34m)\u001b[0m\u001b[0;34m:\u001b[0m \u001b[0;31m#iterate over rows\u001b[0m\u001b[0;34m\u001b[0m\u001b[0;34m\u001b[0m\u001b[0m\n\u001b[1;32m      2\u001b[0m     \u001b[0;32mfor\u001b[0m \u001b[0mj\u001b[0m \u001b[0;32min\u001b[0m \u001b[0mrange\u001b[0m\u001b[0;34m(\u001b[0m\u001b[0mdf_cic\u001b[0m\u001b[0;34m.\u001b[0m\u001b[0mshape\u001b[0m\u001b[0;34m[\u001b[0m\u001b[0;36m1\u001b[0m\u001b[0;34m]\u001b[0m\u001b[0;34m)\u001b[0m\u001b[0;34m:\u001b[0m \u001b[0;31m#iterate over columns\u001b[0m\u001b[0;34m\u001b[0m\u001b[0;34m\u001b[0m\u001b[0m\n\u001b[0;32m----> 3\u001b[0;31m         \u001b[0mvalue\u001b[0m \u001b[0;34m=\u001b[0m \u001b[0mdf_cic\u001b[0m\u001b[0;34m.\u001b[0m\u001b[0mat\u001b[0m\u001b[0;34m[\u001b[0m\u001b[0mi\u001b[0m\u001b[0;34m,\u001b[0m \u001b[0mj\u001b[0m\u001b[0;34m]\u001b[0m \u001b[0;31m#get cell value\u001b[0m\u001b[0;34m\u001b[0m\u001b[0;34m\u001b[0m\u001b[0m\n\u001b[0m\u001b[1;32m      4\u001b[0m         \u001b[0mprint\u001b[0m\u001b[0;34m(\u001b[0m\u001b[0mnp\u001b[0m\u001b[0;34m.\u001b[0m\u001b[0misnan\u001b[0m\u001b[0;34m(\u001b[0m\u001b[0mvalue\u001b[0m\u001b[0;34m)\u001b[0m\u001b[0;34m,\u001b[0m \u001b[0mend\u001b[0m\u001b[0;34m=\u001b[0m\u001b[0;34m\"\\t\"\u001b[0m\u001b[0;34m)\u001b[0m\u001b[0;34m\u001b[0m\u001b[0;34m\u001b[0m\u001b[0m\n\u001b[1;32m      5\u001b[0m     \u001b[0mprint\u001b[0m\u001b[0;34m(\u001b[0m\u001b[0;34m)\u001b[0m\u001b[0;34m\u001b[0m\u001b[0;34m\u001b[0m\u001b[0m\n",
            "\u001b[0;32m/usr/local/lib/python3.7/dist-packages/pandas/core/indexing.py\u001b[0m in \u001b[0;36m__getitem__\u001b[0;34m(self, key)\u001b[0m\n\u001b[1;32m   2273\u001b[0m             \u001b[0;32mreturn\u001b[0m \u001b[0mself\u001b[0m\u001b[0;34m.\u001b[0m\u001b[0mobj\u001b[0m\u001b[0;34m.\u001b[0m\u001b[0mloc\u001b[0m\u001b[0;34m[\u001b[0m\u001b[0mkey\u001b[0m\u001b[0;34m]\u001b[0m\u001b[0;34m\u001b[0m\u001b[0;34m\u001b[0m\u001b[0m\n\u001b[1;32m   2274\u001b[0m \u001b[0;34m\u001b[0m\u001b[0m\n\u001b[0;32m-> 2275\u001b[0;31m         \u001b[0;32mreturn\u001b[0m \u001b[0msuper\u001b[0m\u001b[0;34m(\u001b[0m\u001b[0;34m)\u001b[0m\u001b[0;34m.\u001b[0m\u001b[0m__getitem__\u001b[0m\u001b[0;34m(\u001b[0m\u001b[0mkey\u001b[0m\u001b[0;34m)\u001b[0m\u001b[0;34m\u001b[0m\u001b[0;34m\u001b[0m\u001b[0m\n\u001b[0m\u001b[1;32m   2276\u001b[0m \u001b[0;34m\u001b[0m\u001b[0m\n\u001b[1;32m   2277\u001b[0m     \u001b[0;32mdef\u001b[0m \u001b[0m__setitem__\u001b[0m\u001b[0;34m(\u001b[0m\u001b[0mself\u001b[0m\u001b[0;34m,\u001b[0m \u001b[0mkey\u001b[0m\u001b[0;34m,\u001b[0m \u001b[0mvalue\u001b[0m\u001b[0;34m)\u001b[0m\u001b[0;34m:\u001b[0m\u001b[0;34m\u001b[0m\u001b[0;34m\u001b[0m\u001b[0m\n",
            "\u001b[0;32m/usr/local/lib/python3.7/dist-packages/pandas/core/indexing.py\u001b[0m in \u001b[0;36m__getitem__\u001b[0;34m(self, key)\u001b[0m\n\u001b[1;32m   2220\u001b[0m \u001b[0;34m\u001b[0m\u001b[0m\n\u001b[1;32m   2221\u001b[0m         \u001b[0mkey\u001b[0m \u001b[0;34m=\u001b[0m \u001b[0mself\u001b[0m\u001b[0;34m.\u001b[0m\u001b[0m_convert_key\u001b[0m\u001b[0;34m(\u001b[0m\u001b[0mkey\u001b[0m\u001b[0;34m)\u001b[0m\u001b[0;34m\u001b[0m\u001b[0;34m\u001b[0m\u001b[0m\n\u001b[0;32m-> 2222\u001b[0;31m         \u001b[0;32mreturn\u001b[0m \u001b[0mself\u001b[0m\u001b[0;34m.\u001b[0m\u001b[0mobj\u001b[0m\u001b[0;34m.\u001b[0m\u001b[0m_get_value\u001b[0m\u001b[0;34m(\u001b[0m\u001b[0;34m*\u001b[0m\u001b[0mkey\u001b[0m\u001b[0;34m,\u001b[0m \u001b[0mtakeable\u001b[0m\u001b[0;34m=\u001b[0m\u001b[0mself\u001b[0m\u001b[0;34m.\u001b[0m\u001b[0m_takeable\u001b[0m\u001b[0;34m)\u001b[0m\u001b[0;34m\u001b[0m\u001b[0;34m\u001b[0m\u001b[0m\n\u001b[0m\u001b[1;32m   2223\u001b[0m \u001b[0;34m\u001b[0m\u001b[0m\n\u001b[1;32m   2224\u001b[0m     \u001b[0;32mdef\u001b[0m \u001b[0m__setitem__\u001b[0m\u001b[0;34m(\u001b[0m\u001b[0mself\u001b[0m\u001b[0;34m,\u001b[0m \u001b[0mkey\u001b[0m\u001b[0;34m,\u001b[0m \u001b[0mvalue\u001b[0m\u001b[0;34m)\u001b[0m\u001b[0;34m:\u001b[0m\u001b[0;34m\u001b[0m\u001b[0;34m\u001b[0m\u001b[0m\n",
            "\u001b[0;32m/usr/local/lib/python3.7/dist-packages/pandas/core/frame.py\u001b[0m in \u001b[0;36m_get_value\u001b[0;34m(self, index, col, takeable)\u001b[0m\n\u001b[1;32m   3566\u001b[0m             \u001b[0;32mreturn\u001b[0m \u001b[0mseries\u001b[0m\u001b[0;34m.\u001b[0m\u001b[0m_values\u001b[0m\u001b[0;34m[\u001b[0m\u001b[0mindex\u001b[0m\u001b[0;34m]\u001b[0m\u001b[0;34m\u001b[0m\u001b[0;34m\u001b[0m\u001b[0m\n\u001b[1;32m   3567\u001b[0m \u001b[0;34m\u001b[0m\u001b[0m\n\u001b[0;32m-> 3568\u001b[0;31m         \u001b[0mseries\u001b[0m \u001b[0;34m=\u001b[0m \u001b[0mself\u001b[0m\u001b[0;34m.\u001b[0m\u001b[0m_get_item_cache\u001b[0m\u001b[0;34m(\u001b[0m\u001b[0mcol\u001b[0m\u001b[0;34m)\u001b[0m\u001b[0;34m\u001b[0m\u001b[0;34m\u001b[0m\u001b[0m\n\u001b[0m\u001b[1;32m   3569\u001b[0m         \u001b[0mengine\u001b[0m \u001b[0;34m=\u001b[0m \u001b[0mself\u001b[0m\u001b[0;34m.\u001b[0m\u001b[0mindex\u001b[0m\u001b[0;34m.\u001b[0m\u001b[0m_engine\u001b[0m\u001b[0;34m\u001b[0m\u001b[0;34m\u001b[0m\u001b[0m\n\u001b[1;32m   3570\u001b[0m \u001b[0;34m\u001b[0m\u001b[0m\n",
            "\u001b[0;32m/usr/local/lib/python3.7/dist-packages/pandas/core/frame.py\u001b[0m in \u001b[0;36m_get_item_cache\u001b[0;34m(self, item)\u001b[0m\n\u001b[1;32m   3882\u001b[0m             \u001b[0;31m#  pending resolution of GH#33047\u001b[0m\u001b[0;34m\u001b[0m\u001b[0;34m\u001b[0m\u001b[0;34m\u001b[0m\u001b[0m\n\u001b[1;32m   3883\u001b[0m \u001b[0;34m\u001b[0m\u001b[0m\n\u001b[0;32m-> 3884\u001b[0;31m             \u001b[0mloc\u001b[0m \u001b[0;34m=\u001b[0m \u001b[0mself\u001b[0m\u001b[0;34m.\u001b[0m\u001b[0mcolumns\u001b[0m\u001b[0;34m.\u001b[0m\u001b[0mget_loc\u001b[0m\u001b[0;34m(\u001b[0m\u001b[0mitem\u001b[0m\u001b[0;34m)\u001b[0m\u001b[0;34m\u001b[0m\u001b[0;34m\u001b[0m\u001b[0m\n\u001b[0m\u001b[1;32m   3885\u001b[0m             \u001b[0mvalues\u001b[0m \u001b[0;34m=\u001b[0m \u001b[0mself\u001b[0m\u001b[0;34m.\u001b[0m\u001b[0m_mgr\u001b[0m\u001b[0;34m.\u001b[0m\u001b[0miget\u001b[0m\u001b[0;34m(\u001b[0m\u001b[0mloc\u001b[0m\u001b[0;34m)\u001b[0m\u001b[0;34m\u001b[0m\u001b[0;34m\u001b[0m\u001b[0m\n\u001b[1;32m   3886\u001b[0m             \u001b[0mres\u001b[0m \u001b[0;34m=\u001b[0m \u001b[0mself\u001b[0m\u001b[0;34m.\u001b[0m\u001b[0m_box_col_values\u001b[0m\u001b[0;34m(\u001b[0m\u001b[0mvalues\u001b[0m\u001b[0;34m,\u001b[0m \u001b[0mloc\u001b[0m\u001b[0;34m)\u001b[0m\u001b[0;34m.\u001b[0m\u001b[0m__finalize__\u001b[0m\u001b[0;34m(\u001b[0m\u001b[0mself\u001b[0m\u001b[0;34m)\u001b[0m\u001b[0;34m\u001b[0m\u001b[0;34m\u001b[0m\u001b[0m\n",
            "\u001b[0;32m/usr/local/lib/python3.7/dist-packages/pandas/core/indexes/base.py\u001b[0m in \u001b[0;36mget_loc\u001b[0;34m(self, key, method, tolerance)\u001b[0m\n\u001b[1;32m   3361\u001b[0m                 \u001b[0;32mreturn\u001b[0m \u001b[0mself\u001b[0m\u001b[0;34m.\u001b[0m\u001b[0m_engine\u001b[0m\u001b[0;34m.\u001b[0m\u001b[0mget_loc\u001b[0m\u001b[0;34m(\u001b[0m\u001b[0mcasted_key\u001b[0m\u001b[0;34m)\u001b[0m\u001b[0;34m\u001b[0m\u001b[0;34m\u001b[0m\u001b[0m\n\u001b[1;32m   3362\u001b[0m             \u001b[0;32mexcept\u001b[0m \u001b[0mKeyError\u001b[0m \u001b[0;32mas\u001b[0m \u001b[0merr\u001b[0m\u001b[0;34m:\u001b[0m\u001b[0;34m\u001b[0m\u001b[0;34m\u001b[0m\u001b[0m\n\u001b[0;32m-> 3363\u001b[0;31m                 \u001b[0;32mraise\u001b[0m \u001b[0mKeyError\u001b[0m\u001b[0;34m(\u001b[0m\u001b[0mkey\u001b[0m\u001b[0;34m)\u001b[0m \u001b[0;32mfrom\u001b[0m \u001b[0merr\u001b[0m\u001b[0;34m\u001b[0m\u001b[0;34m\u001b[0m\u001b[0m\n\u001b[0m\u001b[1;32m   3364\u001b[0m \u001b[0;34m\u001b[0m\u001b[0m\n\u001b[1;32m   3365\u001b[0m         \u001b[0;32mif\u001b[0m \u001b[0mis_scalar\u001b[0m\u001b[0;34m(\u001b[0m\u001b[0mkey\u001b[0m\u001b[0;34m)\u001b[0m \u001b[0;32mand\u001b[0m \u001b[0misna\u001b[0m\u001b[0;34m(\u001b[0m\u001b[0mkey\u001b[0m\u001b[0;34m)\u001b[0m \u001b[0;32mand\u001b[0m \u001b[0;32mnot\u001b[0m \u001b[0mself\u001b[0m\u001b[0;34m.\u001b[0m\u001b[0mhasnans\u001b[0m\u001b[0;34m:\u001b[0m\u001b[0;34m\u001b[0m\u001b[0;34m\u001b[0m\u001b[0m\n",
            "\u001b[0;31mKeyError\u001b[0m: 0"
          ]
        }
      ],
      "source": [
        ""
      ]
    },
    {
      "cell_type": "code",
      "execution_count": null,
      "metadata": {
        "id": "M9bT4NLAakmC"
      },
      "outputs": [],
      "source": [
        "modelRFcic = RandomForestClassifier(max_depth= 5, min_samples_leaf = 3, min_samples_split = 9, n_estimators = 41)"
      ]
    },
    {
      "cell_type": "code",
      "execution_count": null,
      "metadata": {
        "colab": {
          "base_uri": "https://localhost:8080/"
        },
        "id": "jz0q9He1bNJp",
        "outputId": "f08ac692-8685-4949-a8e1-3a221d8ad492"
      },
      "outputs": [
        {
          "output_type": "execute_result",
          "data": {
            "text/plain": [
              "RandomForestClassifier(max_depth=5, min_samples_leaf=3, min_samples_split=9,\n",
              "                       n_estimators=41)"
            ]
          },
          "metadata": {},
          "execution_count": 109
        }
      ],
      "source": [
        "modelRFcic.fit(x_traincic, y_traincic)"
      ]
    },
    {
      "cell_type": "code",
      "execution_count": null,
      "metadata": {
        "id": "u-4Ec7rTkP_2",
        "colab": {
          "base_uri": "https://localhost:8080/",
          "height": 282
        },
        "outputId": "84ec82ce-5855-4e1e-b81b-ccd948b0051f"
      },
      "outputs": [
        {
          "output_type": "execute_result",
          "data": {
            "text/plain": [
              "<BarContainer object of 42 artists>"
            ]
          },
          "metadata": {},
          "execution_count": 110
        },
        {
          "output_type": "display_data",
          "data": {
            "text/plain": [
              "<Figure size 432x288 with 1 Axes>"
            ],
            "image/png": "[encoded data removed]"
          },
          "metadata": {
            "needs_background": "light"
          }
        }
      ],
      "source": [
        "plt.barh(x_traincic.columns, sorted(modelRFcic.feature_importances_))"
      ]
    },
    {
      "cell_type": "code",
      "execution_count": null,
      "metadata": {
        "id": "q65raXX3bNHy"
      },
      "outputs": [],
      "source": [
        "y_predcic = modelRFcic.predict(x_testcic)"
      ]
    },
    {
      "cell_type": "code",
      "execution_count": null,
      "metadata": {
        "id": "9SRY0sHckRdW"
      },
      "outputs": [],
      "source": [
        "x_testcic.info()"
      ]
    },
    {
      "cell_type": "code",
      "execution_count": null,
      "metadata": {
        "colab": {
          "base_uri": "https://localhost:8080/"
        },
        "id": "OGYFxmD3bNGA",
        "outputId": "e3ca09f5-3015-4220-fa90-0638d2b5cab4"
      },
      "outputs": [
        {
          "output_type": "stream",
          "name": "stdout",
          "text": [
            "Accuracy = 0.9651535992663915\n",
            "Precision = 0.9830508474576272\n",
            "Recall = 0.8978328173374613\n",
            "F1 = 0.9385113268608414\n"
          ]
        }
      ],
      "source": [
        "accuracy = accuracy_score(y_testcic, y_predcic)\n",
        "precision = precision_score(y_testcic, y_predcic)\n",
        "recall = recall_score(y_testcic, y_predcic)\n",
        "f1 = f1_score(y_testcic, y_predcic)\n",
        "print('Accuracy =', accuracy)\n",
        "print('Precision =', precision)\n",
        "print('Recall =', recall)\n",
        "print('F1 =', f1)"
      ]
    },
    {
      "cell_type": "code",
      "execution_count": null,
      "metadata": {
        "id": "IsMwLTijbND6"
      },
      "outputs": [],
      "source": [
        "featuresImportancecic = modelRFcic.feature_importances_"
      ]
    },
    {
      "cell_type": "code",
      "execution_count": null,
      "metadata": {
        "colab": {
          "base_uri": "https://localhost:8080/"
        },
        "id": "c2Hq2cZsbNBj",
        "outputId": "9bd01665-798e-41da-ffb5-3a903a88e9eb"
      },
      "outputs": [
        {
          "data": {
            "text/plain": [
              "array([3.22548484e-02, 2.24248614e-02, 8.28012916e-02, 5.36554546e-03,\n",
              "       6.64556888e-02, 3.41002697e-03, 4.62000171e-03, 4.39968932e-02,\n",
              "       3.11738339e-02, 3.17344933e-02, 1.41422181e-02, 3.14371677e-02,\n",
              "       9.74290028e-03, 3.56514360e-02, 2.76508098e-02, 5.97357743e-02,\n",
              "       2.70590949e-02, 4.89369788e-02, 3.45269237e-03, 7.32520617e-03,\n",
              "       4.69975632e-03, 6.09493551e-03, 7.01477758e-03, 0.00000000e+00,\n",
              "       5.27937283e-02, 1.49570153e-02, 1.50525028e-03, 9.12847061e-02,\n",
              "       5.00141832e-02, 7.16704822e-03, 0.00000000e+00, 0.00000000e+00,\n",
              "       0.00000000e+00, 2.85982998e-02, 8.09483534e-03, 4.09704001e-03,\n",
              "       0.00000000e+00, 4.65474535e-03, 9.72700204e-02, 9.77156374e-03,\n",
              "       4.88618386e-03, 4.72937366e-06, 1.11567551e-03, 5.26550077e-03,\n",
              "       5.48215359e-03, 1.01473178e-04, 2.73629841e-03, 3.01831675e-03])"
            ]
          },
          "execution_count": 167,
          "metadata": {},
          "output_type": "execute_result"
        }
      ],
      "source": [
        "featuresImportancecic"
      ]
    },
    {
      "cell_type": "code",
      "execution_count": null,
      "metadata": {
        "id": "YGxI3YxrjiKq"
      },
      "outputs": [],
      "source": [
        ""
      ]
    },
    {
      "cell_type": "code",
      "execution_count": null,
      "metadata": {
        "id": "JkqZcaWQbM_h"
      },
      "outputs": [],
      "source": [
        "sorted_idx = np.flip(featuresImportancecic.argsort())"
      ]
    },
    {
      "cell_type": "code",
      "execution_count": null,
      "metadata": {
        "colab": {
          "base_uri": "https://localhost:8080/"
        },
        "id": "s_-xbB1Dbn5B",
        "outputId": "b706bdcd-5fd0-4fdc-fa2d-1f745744a22b"
      },
      "outputs": [
        {
          "data": {
            "text/plain": [
              "array([38, 27,  2,  4, 15, 24, 28, 17,  7, 13,  0,  9, 11,  8, 33, 14, 16,\n",
              "        1, 25, 10, 39, 12, 34, 19, 29, 22, 21, 44,  3, 43, 40, 20, 37,  6,\n",
              "       35, 18,  5, 47, 46, 26, 42, 45, 41, 30, 31, 32, 36, 23])"
            ]
          },
          "execution_count": 169,
          "metadata": {},
          "output_type": "execute_result"
        }
      ],
      "source": [
        "sorted_idx"
      ]
    },
    {
      "cell_type": "code",
      "execution_count": null,
      "metadata": {
        "colab": {
          "base_uri": "https://localhost:8080/"
        },
        "id": "M7d6Yn1Wbn3B",
        "outputId": "08e09292-c071-4777-daf3-8519ca6b7f26"
      },
      "outputs": [
        {
          "name": "stdout",
          "output_type": "stream",
          "text": [
            "0.09727002039577863 - pkt_size_avg\n",
            "0.09128470610440609 - pkt_len_max\n",
            "0.08280129157070365 - fwd_pkt_len_max\n",
            "0.0664556887747947 - fwd_pkt_len_mean\n",
            "0.05973577427243844 - fwd_iat_std\n",
            "0.052793728292304415 - fwd_pkts_s\n",
            "0.05001418320457957 - pkt_len_mean\n",
            "0.04893697878994773 - fwd_iat_min\n",
            "0.04399689324096076 - flow_byts_s\n",
            "0.035651435987707474 - fwd_iat_tot\n",
            "0.03225484843025552 - flow_duration\n",
            "0.03173449329743358 - flow_iat_mean\n",
            "0.03143716765361279 - flow_iat_max\n",
            "0.031173833890127588 - flow_pkts_s\n",
            "0.028598299811764375 - psh_flag_cnt\n",
            "0.027650809838949367 - fwd_iat_mean\n",
            "0.027059094913757395 - fwd_iat_max\n",
            "0.022424861381504888 - tot_fwd_pkts\n",
            "0.014957015299440242 - bwd_pkts_s\n",
            "0.014142218097749156 - flow_iat_std\n",
            "0.00977156374097287 - fwd_seg_size_min\n",
            "0.009742900279114296 - flow_iat_min\n",
            "0.008094835337008064 - ack_flag_cnt\n",
            "0.007325206168208972 - bwd_iat_mean\n",
            "0.007167048219080401 - pkt_len_var\n",
            "0.0070147775847282145 - bwd_iat_min\n",
            "0.00609493551011846 - bwd_iat_max\n",
            "0.005482153589463752 - idle_mean\n",
            "0.005365545461549593 - fwd_pkt_len_min\n",
            "0.005265500765379194 - active_min\n",
            "0.0048861838576475785 - active_mean\n",
            "0.004699756317304148 - bwd_iat_std\n",
            "0.0046547453470713466 - down_up_ratio\n",
            "0.004620001707528546 - bwd_pkt_len_mean\n",
            "0.004097040008791094 - urg_flag_cnt\n",
            "0.0034526923703224206 - bwd_iat_tot\n",
            "0.0034100269710997094 - bwd_pkt_len_min\n",
            "0.003018316752127602 - idle_min\n",
            "0.0027362984146519593 - idle_max\n",
            "0.0015052502848306151 - pkt_len_min\n",
            "0.001115675513098166 - active_max\n",
            "0.0001014731780244886 - idle_std\n",
            "4.729373662245269e-06 - active_std\n",
            "0.0 - fin_flag_cnt\n",
            "0.0 - syn_flag_cnt\n",
            "0.0 - rst_flag_cnt\n",
            "0.0 - ece_flag_cnt\n",
            "0.0 - fwd_psh_flags\n"
          ]
        }
      ],
      "source": [
        "for i in sorted_idx:\n",
        "    print('{} - {}'.format(featuresImportancecic[i], x_traincic.columns[i]))"
      ]
    },
    {
      "cell_type": "code",
      "execution_count": null,
      "metadata": {
        "id": "_sUFCDgobn01"
      },
      "outputs": [],
      "source": [
        "sorted_columns = sorted_idx[0:25]"
      ]
    },
    {
      "cell_type": "code",
      "execution_count": null,
      "metadata": {
        "colab": {
          "base_uri": "https://localhost:8080/"
        },
        "id": "2VW10JdMogrp",
        "outputId": "4ed69fc6-0e26-402c-c658-ab1963ad0a6c"
      },
      "outputs": [
        {
          "data": {
            "text/plain": [
              "array([56, 13, 35,  7, 47, 36, 48, 55, 52, 23,  5,  3, 15, 17, 19, 21, 14,\n",
              "       57, 22, 32,  0, 31, 20, 30, 16])"
            ]
          },
          "execution_count": 122,
          "metadata": {},
          "output_type": "execute_result"
        }
      ],
      "source": [
        "sorted_columns"
      ]
    },
    {
      "cell_type": "code",
      "execution_count": null,
      "metadata": {
        "colab": {
          "base_uri": "https://localhost:8080/",
          "height": 337
        },
        "id": "KfaOWzD0bny8",
        "outputId": "d5c00eb4-b1d7-459f-a090-79dd5dbe4222"
      },
      "outputs": [
        {
          "data": {
            "text/plain": [
              "<BarContainer object of 25 artists>"
            ]
          },
          "execution_count": 123,
          "metadata": {},
          "output_type": "execute_result"
        },
        {
          "data": {
            "image/png": "[encoded data removed]",
            "text/plain": [
              "<Figure size 1152x360 with 1 Axes>"
            ]
          },
          "metadata": {},
          "output_type": "display_data"
        }
      ],
      "source": [
        "plt.barh(x_traincic.columns[sorted_columns], featuresImportancecic[sorted_columns])"
      ]
    },
    {
      "cell_type": "code",
      "execution_count": null,
      "metadata": {
        "id": "WmIsgoo2bnw8"
      },
      "outputs": [],
      "source": [
        "features_importantcic = x_traincic.columns[sorted_idx]"
      ]
    },
    {
      "cell_type": "code",
      "execution_count": null,
      "metadata": {
        "id": "teRWOFulbnu8"
      },
      "outputs": [],
      "source": [
        "features_importantcic"
      ]
    },
    {
      "cell_type": "code",
      "execution_count": null,
      "metadata": {
        "id": "lFTi6xTCbntE"
      },
      "outputs": [],
      "source": [
        ""
      ]
    },
    {
      "cell_type": "code",
      "execution_count": null,
      "metadata": {
        "id": "Rwr8dwUWkfkS"
      },
      "outputs": [],
      "source": [
        ""
      ]
    },
    {
      "cell_type": "code",
      "execution_count": null,
      "metadata": {
        "id": "ajUcmkEBkkR4"
      },
      "outputs": [],
      "source": [
        ""
      ]
    },
    {
      "cell_type": "markdown",
      "metadata": {
        "id": "pVGqufPVdauy"
      },
      "source": [
        "## Cic проверка на реальном трафике\n"
      ]
    },
    {
      "cell_type": "code",
      "execution_count": null,
      "metadata": {
        "id": "86zjDpUeocxm"
      },
      "outputs": [],
      "source": [
        "x_cicmy = df_cicMy.drop(columns='label')\n",
        "y_cicmy = df_cicMy['label']"
      ]
    },
    {
      "cell_type": "code",
      "execution_count": null,
      "metadata": {
        "colab": {
          "base_uri": "https://localhost:8080/"
        },
        "id": "VyzRIeDKaADC",
        "outputId": "7032e66a-ff23-4d9d-9799-b11e9018c98f"
      },
      "outputs": [
        {
          "data": {
            "text/html": [
              "\n",
              "  <div id=\"df-2a4081b1-558f-4e9c-8266-e0b6f98def3c\">\n",
              "    <div class=\"colab-df-container\">\n",
              "      <div>\n",
              "<style scoped>\n",
              "    .dataframe tbody tr th:only-of-type {\n",
              "        vertical-align: middle;\n",
              "    }\n",
              "\n",
              "    .dataframe tbody tr th {\n",
              "        vertical-align: top;\n",
              "    }\n",
              "\n",
              "    .dataframe thead th {\n",
              "        text-align: right;\n",
              "    }\n",
              "</style>\n",
              "<table border=\"1\" class=\"dataframe\">\n",
              "  <thead>\n",
              "    <tr style=\"text-align: right;\">\n",
              "      <th></th>\n",
              "      <th>flow_duration</th>\n",
              "      <th>flow_byts_s</th>\n",
              "      <th>flow_pkts_s</th>\n",
              "      <th>fwd_pkts_s</th>\n",
              "      <th>bwd_pkts_s</th>\n",
              "      <th>tot_fwd_pkts</th>\n",
              "      <th>tot_bwd_pkts</th>\n",
              "      <th>totlen_fwd_pkts</th>\n",
              "      <th>totlen_bwd_pkts</th>\n",
              "      <th>fwd_pkt_len_max</th>\n",
              "      <th>...</th>\n",
              "      <th>idle_max</th>\n",
              "      <th>idle_min</th>\n",
              "      <th>idle_mean</th>\n",
              "      <th>idle_std</th>\n",
              "      <th>fwd_byts_b_avg</th>\n",
              "      <th>fwd_pkts_b_avg</th>\n",
              "      <th>bwd_byts_b_avg</th>\n",
              "      <th>bwd_pkts_b_avg</th>\n",
              "      <th>fwd_blk_rate_avg</th>\n",
              "      <th>bwd_blk_rate_avg</th>\n",
              "    </tr>\n",
              "  </thead>\n",
              "  <tbody>\n",
              "    <tr>\n",
              "      <th>28414</th>\n",
              "      <td>30561.0</td>\n",
              "      <td>3.533916e+03</td>\n",
              "      <td>65.442885</td>\n",
              "      <td>32.721442</td>\n",
              "      <td>32.721442</td>\n",
              "      <td>1.0</td>\n",
              "      <td>1.0</td>\n",
              "      <td>46.0</td>\n",
              "      <td>62.0</td>\n",
              "      <td>46.0</td>\n",
              "      <td>...</td>\n",
              "      <td>0.0</td>\n",
              "      <td>0.0</td>\n",
              "      <td>0.0</td>\n",
              "      <td>0.0</td>\n",
              "      <td>0.0</td>\n",
              "      <td>0.0</td>\n",
              "      <td>0.0</td>\n",
              "      <td>0.0</td>\n",
              "      <td>0.0</td>\n",
              "      <td>0.0</td>\n",
              "    </tr>\n",
              "    <tr>\n",
              "      <th>148417</th>\n",
              "      <td>999603.0</td>\n",
              "      <td>1.200477e+01</td>\n",
              "      <td>2.000794</td>\n",
              "      <td>2.000794</td>\n",
              "      <td>0.000000</td>\n",
              "      <td>2.0</td>\n",
              "      <td>0.0</td>\n",
              "      <td>12.0</td>\n",
              "      <td>0.0</td>\n",
              "      <td>6.0</td>\n",
              "      <td>...</td>\n",
              "      <td>0.0</td>\n",
              "      <td>0.0</td>\n",
              "      <td>0.0</td>\n",
              "      <td>0.0</td>\n",
              "      <td>0.0</td>\n",
              "      <td>0.0</td>\n",
              "      <td>0.0</td>\n",
              "      <td>0.0</td>\n",
              "      <td>0.0</td>\n",
              "      <td>0.0</td>\n",
              "    </tr>\n",
              "    <tr>\n",
              "      <th>127067</th>\n",
              "      <td>178.0</td>\n",
              "      <td>1.617978e+06</td>\n",
              "      <td>22471.910110</td>\n",
              "      <td>11235.955060</td>\n",
              "      <td>11235.955060</td>\n",
              "      <td>2.0</td>\n",
              "      <td>2.0</td>\n",
              "      <td>84.0</td>\n",
              "      <td>204.0</td>\n",
              "      <td>42.0</td>\n",
              "      <td>...</td>\n",
              "      <td>0.0</td>\n",
              "      <td>0.0</td>\n",
              "      <td>0.0</td>\n",
              "      <td>0.0</td>\n",
              "      <td>0.0</td>\n",
              "      <td>0.0</td>\n",
              "      <td>0.0</td>\n",
              "      <td>0.0</td>\n",
              "      <td>0.0</td>\n",
              "      <td>0.0</td>\n",
              "    </tr>\n",
              "    <tr>\n",
              "      <th>97537</th>\n",
              "      <td>31091.0</td>\n",
              "      <td>7.654948e+03</td>\n",
              "      <td>128.654595</td>\n",
              "      <td>64.327297</td>\n",
              "      <td>64.327297</td>\n",
              "      <td>2.0</td>\n",
              "      <td>2.0</td>\n",
              "      <td>78.0</td>\n",
              "      <td>160.0</td>\n",
              "      <td>39.0</td>\n",
              "      <td>...</td>\n",
              "      <td>0.0</td>\n",
              "      <td>0.0</td>\n",
              "      <td>0.0</td>\n",
              "      <td>0.0</td>\n",
              "      <td>0.0</td>\n",
              "      <td>0.0</td>\n",
              "      <td>0.0</td>\n",
              "      <td>0.0</td>\n",
              "      <td>0.0</td>\n",
              "      <td>0.0</td>\n",
              "    </tr>\n",
              "    <tr>\n",
              "      <th>23174</th>\n",
              "      <td>5233154.0</td>\n",
              "      <td>0.000000e+00</td>\n",
              "      <td>0.764357</td>\n",
              "      <td>0.573268</td>\n",
              "      <td>0.191089</td>\n",
              "      <td>3.0</td>\n",
              "      <td>1.0</td>\n",
              "      <td>0.0</td>\n",
              "      <td>0.0</td>\n",
              "      <td>0.0</td>\n",
              "      <td>...</td>\n",
              "      <td>0.0</td>\n",
              "      <td>0.0</td>\n",
              "      <td>0.0</td>\n",
              "      <td>0.0</td>\n",
              "      <td>0.0</td>\n",
              "      <td>0.0</td>\n",
              "      <td>0.0</td>\n",
              "      <td>0.0</td>\n",
              "      <td>0.0</td>\n",
              "      <td>0.0</td>\n",
              "    </tr>\n",
              "    <tr>\n",
              "      <th>...</th>\n",
              "      <td>...</td>\n",
              "      <td>...</td>\n",
              "      <td>...</td>\n",
              "      <td>...</td>\n",
              "      <td>...</td>\n",
              "      <td>...</td>\n",
              "      <td>...</td>\n",
              "      <td>...</td>\n",
              "      <td>...</td>\n",
              "      <td>...</td>\n",
              "      <td>...</td>\n",
              "      <td>...</td>\n",
              "      <td>...</td>\n",
              "      <td>...</td>\n",
              "      <td>...</td>\n",
              "      <td>...</td>\n",
              "      <td>...</td>\n",
              "      <td>...</td>\n",
              "      <td>...</td>\n",
              "      <td>...</td>\n",
              "      <td>...</td>\n",
              "    </tr>\n",
              "    <tr>\n",
              "      <th>68152</th>\n",
              "      <td>5548264.0</td>\n",
              "      <td>2.162839e+00</td>\n",
              "      <td>0.720946</td>\n",
              "      <td>0.540710</td>\n",
              "      <td>0.180237</td>\n",
              "      <td>3.0</td>\n",
              "      <td>1.0</td>\n",
              "      <td>12.0</td>\n",
              "      <td>0.0</td>\n",
              "      <td>6.0</td>\n",
              "      <td>...</td>\n",
              "      <td>0.0</td>\n",
              "      <td>0.0</td>\n",
              "      <td>0.0</td>\n",
              "      <td>0.0</td>\n",
              "      <td>0.0</td>\n",
              "      <td>0.0</td>\n",
              "      <td>0.0</td>\n",
              "      <td>0.0</td>\n",
              "      <td>0.0</td>\n",
              "      <td>0.0</td>\n",
              "    </tr>\n",
              "    <tr>\n",
              "      <th>92817</th>\n",
              "      <td>153.0</td>\n",
              "      <td>7.843137e+04</td>\n",
              "      <td>13071.895420</td>\n",
              "      <td>13071.895420</td>\n",
              "      <td>0.000000</td>\n",
              "      <td>2.0</td>\n",
              "      <td>0.0</td>\n",
              "      <td>12.0</td>\n",
              "      <td>0.0</td>\n",
              "      <td>6.0</td>\n",
              "      <td>...</td>\n",
              "      <td>0.0</td>\n",
              "      <td>0.0</td>\n",
              "      <td>0.0</td>\n",
              "      <td>0.0</td>\n",
              "      <td>0.0</td>\n",
              "      <td>0.0</td>\n",
              "      <td>0.0</td>\n",
              "      <td>0.0</td>\n",
              "      <td>0.0</td>\n",
              "      <td>0.0</td>\n",
              "    </tr>\n",
              "    <tr>\n",
              "      <th>93689</th>\n",
              "      <td>30974.0</td>\n",
              "      <td>9.879254e+03</td>\n",
              "      <td>129.140569</td>\n",
              "      <td>64.570285</td>\n",
              "      <td>64.570285</td>\n",
              "      <td>2.0</td>\n",
              "      <td>2.0</td>\n",
              "      <td>64.0</td>\n",
              "      <td>242.0</td>\n",
              "      <td>32.0</td>\n",
              "      <td>...</td>\n",
              "      <td>0.0</td>\n",
              "      <td>0.0</td>\n",
              "      <td>0.0</td>\n",
              "      <td>0.0</td>\n",
              "      <td>0.0</td>\n",
              "      <td>0.0</td>\n",
              "      <td>0.0</td>\n",
              "      <td>0.0</td>\n",
              "      <td>0.0</td>\n",
              "      <td>0.0</td>\n",
              "    </tr>\n",
              "    <tr>\n",
              "      <th>98751</th>\n",
              "      <td>157.0</td>\n",
              "      <td>1.350318e+06</td>\n",
              "      <td>25477.707010</td>\n",
              "      <td>12738.853500</td>\n",
              "      <td>12738.853500</td>\n",
              "      <td>2.0</td>\n",
              "      <td>2.0</td>\n",
              "      <td>90.0</td>\n",
              "      <td>122.0</td>\n",
              "      <td>45.0</td>\n",
              "      <td>...</td>\n",
              "      <td>0.0</td>\n",
              "      <td>0.0</td>\n",
              "      <td>0.0</td>\n",
              "      <td>0.0</td>\n",
              "      <td>0.0</td>\n",
              "      <td>0.0</td>\n",
              "      <td>0.0</td>\n",
              "      <td>0.0</td>\n",
              "      <td>0.0</td>\n",
              "      <td>0.0</td>\n",
              "    </tr>\n",
              "    <tr>\n",
              "      <th>21636</th>\n",
              "      <td>5381748.0</td>\n",
              "      <td>0.000000e+00</td>\n",
              "      <td>0.743253</td>\n",
              "      <td>0.557440</td>\n",
              "      <td>0.185813</td>\n",
              "      <td>3.0</td>\n",
              "      <td>1.0</td>\n",
              "      <td>0.0</td>\n",
              "      <td>0.0</td>\n",
              "      <td>0.0</td>\n",
              "      <td>...</td>\n",
              "      <td>0.0</td>\n",
              "      <td>0.0</td>\n",
              "      <td>0.0</td>\n",
              "      <td>0.0</td>\n",
              "      <td>0.0</td>\n",
              "      <td>0.0</td>\n",
              "      <td>0.0</td>\n",
              "      <td>0.0</td>\n",
              "      <td>0.0</td>\n",
              "      <td>0.0</td>\n",
              "    </tr>\n",
              "  </tbody>\n",
              "</table>\n",
              "<p>5086 rows × 69 columns</p>\n",
              "</div>\n",
              "      <button class=\"colab-df-convert\" onclick=\"convertToInteractive('df-2a4081b1-558f-4e9c-8266-e0b6f98def3c')\"\n",
              "              title=\"Convert this dataframe to an interactive table.\"\n",
              "              style=\"display:none;\">\n",
              "        \n",
              "  <svg xmlns=\"http://www.w3.org/2000/svg\" height=\"24px\"viewBox=\"0 0 24 24\"\n",
              "       width=\"24px\">\n",
              "    <path d=\"M0 0h24v24H0V0z\" fill=\"none\"/>\n",
              "    <path d=\"M18.56 5.44l.94 2.06.94-2.06 2.06-.94-2.06-.94-.94-2.06-.94 2.06-2.06.94zm-11 1L8.5 8.5l.94-2.06 2.06-.94-2.06-.94L8.5 2.5l-.94 2.06-2.06.94zm10 10l.94 2.06.94-2.06 2.06-.94-2.06-.94-.94-2.06-.94 2.06-2.06.94z\"/><path d=\"M17.41 7.96l-1.37-1.37c-.4-.4-.92-.59-1.43-.59-.52 0-1.04.2-1.43.59L10.3 9.45l-7.72 7.72c-.78.78-.78 2.05 0 2.83L4 21.41c.39.39.9.59 1.41.59.51 0 1.02-.2 1.41-.59l7.78-7.78 2.81-2.81c.8-.78.8-2.07 0-2.86zM5.41 20L4 18.59l7.72-7.72 1.47 1.35L5.41 20z\"/>\n",
              "  </svg>\n",
              "      </button>\n",
              "      \n",
              "  <style>\n",
              "    .colab-df-container {\n",
              "      display:flex;\n",
              "      flex-wrap:wrap;\n",
              "      gap: 12px;\n",
              "    }\n",
              "\n",
              "    .colab-df-convert {\n",
              "      background-color: #E8F0FE;\n",
              "      border: none;\n",
              "      border-radius: 50%;\n",
              "      cursor: pointer;\n",
              "      display: none;\n",
              "      fill: #1967D2;\n",
              "      height: 32px;\n",
              "      padding: 0 0 0 0;\n",
              "      width: 32px;\n",
              "    }\n",
              "\n",
              "    .colab-df-convert:hover {\n",
              "      background-color: #E2EBFA;\n",
              "      box-shadow: 0px 1px 2px rgba(60, 64, 67, 0.3), 0px 1px 3px 1px rgba(60, 64, 67, 0.15);\n",
              "      fill: #174EA6;\n",
              "    }\n",
              "\n",
              "    [theme=dark] .colab-df-convert {\n",
              "      background-color: #3B4455;\n",
              "      fill: #D2E3FC;\n",
              "    }\n",
              "\n",
              "    [theme=dark] .colab-df-convert:hover {\n",
              "      background-color: #434B5C;\n",
              "      box-shadow: 0px 1px 3px 1px rgba(0, 0, 0, 0.15);\n",
              "      filter: drop-shadow(0px 1px 2px rgba(0, 0, 0, 0.3));\n",
              "      fill: #FFFFFF;\n",
              "    }\n",
              "  </style>\n",
              "\n",
              "      <script>\n",
              "        const buttonEl =\n",
              "          document.querySelector('#df-2a4081b1-558f-4e9c-8266-e0b6f98def3c button.colab-df-convert');\n",
              "        buttonEl.style.display =\n",
              "          google.colab.kernel.accessAllowed ? 'block' : 'none';\n",
              "\n",
              "        async function convertToInteractive(key) {\n",
              "          const element = document.querySelector('#df-2a4081b1-558f-4e9c-8266-e0b6f98def3c');\n",
              "          const dataTable =\n",
              "            await google.colab.kernel.invokeFunction('convertToInteractive',\n",
              "                                                     [key], {});\n",
              "          if (!dataTable) return;\n",
              "\n",
              "          const docLinkHtml = 'Like what you see? Visit the ' +\n",
              "            '<a target=\"_blank\" href=https://colab.research.google.com/notebooks/data_table.ipynb>data table notebook</a>'\n",
              "            + ' to learn more about interactive tables.';\n",
              "          element.innerHTML = '';\n",
              "          dataTable['output_type'] = 'display_data';\n",
              "          await google.colab.output.renderOutput(dataTable, element);\n",
              "          const docLink = document.createElement('div');\n",
              "          docLink.innerHTML = docLinkHtml;\n",
              "          element.appendChild(docLink);\n",
              "        }\n",
              "      </script>\n",
              "    </div>\n",
              "  </div>\n",
              "  "
            ],
            "text/plain": [
              "        flow_duration   flow_byts_s   flow_pkts_s    fwd_pkts_s    bwd_pkts_s  \\\n",
              "28414         30561.0  3.533916e+03     65.442885     32.721442     32.721442   \n",
              "148417       999603.0  1.200477e+01      2.000794      2.000794      0.000000   \n",
              "127067          178.0  1.617978e+06  22471.910110  11235.955060  11235.955060   \n",
              "97537         31091.0  7.654948e+03    128.654595     64.327297     64.327297   \n",
              "23174       5233154.0  0.000000e+00      0.764357      0.573268      0.191089   \n",
              "...               ...           ...           ...           ...           ...   \n",
              "68152       5548264.0  2.162839e+00      0.720946      0.540710      0.180237   \n",
              "92817           153.0  7.843137e+04  13071.895420  13071.895420      0.000000   \n",
              "93689         30974.0  9.879254e+03    129.140569     64.570285     64.570285   \n",
              "98751           157.0  1.350318e+06  25477.707010  12738.853500  12738.853500   \n",
              "21636       5381748.0  0.000000e+00      0.743253      0.557440      0.185813   \n",
              "\n",
              "        tot_fwd_pkts  tot_bwd_pkts  totlen_fwd_pkts  totlen_bwd_pkts  \\\n",
              "28414            1.0           1.0             46.0             62.0   \n",
              "148417           2.0           0.0             12.0              0.0   \n",
              "127067           2.0           2.0             84.0            204.0   \n",
              "97537            2.0           2.0             78.0            160.0   \n",
              "23174            3.0           1.0              0.0              0.0   \n",
              "...              ...           ...              ...              ...   \n",
              "68152            3.0           1.0             12.0              0.0   \n",
              "92817            2.0           0.0             12.0              0.0   \n",
              "93689            2.0           2.0             64.0            242.0   \n",
              "98751            2.0           2.0             90.0            122.0   \n",
              "21636            3.0           1.0              0.0              0.0   \n",
              "\n",
              "        fwd_pkt_len_max  ...  idle_max  idle_min  idle_mean  idle_std  \\\n",
              "28414              46.0  ...       0.0       0.0        0.0       0.0   \n",
              "148417              6.0  ...       0.0       0.0        0.0       0.0   \n",
              "127067             42.0  ...       0.0       0.0        0.0       0.0   \n",
              "97537              39.0  ...       0.0       0.0        0.0       0.0   \n",
              "23174               0.0  ...       0.0       0.0        0.0       0.0   \n",
              "...                 ...  ...       ...       ...        ...       ...   \n",
              "68152               6.0  ...       0.0       0.0        0.0       0.0   \n",
              "92817               6.0  ...       0.0       0.0        0.0       0.0   \n",
              "93689              32.0  ...       0.0       0.0        0.0       0.0   \n",
              "98751              45.0  ...       0.0       0.0        0.0       0.0   \n",
              "21636               0.0  ...       0.0       0.0        0.0       0.0   \n",
              "\n",
              "        fwd_byts_b_avg  fwd_pkts_b_avg  bwd_byts_b_avg  bwd_pkts_b_avg  \\\n",
              "28414              0.0             0.0             0.0             0.0   \n",
              "148417             0.0             0.0             0.0             0.0   \n",
              "127067             0.0             0.0             0.0             0.0   \n",
              "97537              0.0             0.0             0.0             0.0   \n",
              "23174              0.0             0.0             0.0             0.0   \n",
              "...                ...             ...             ...             ...   \n",
              "68152              0.0             0.0             0.0             0.0   \n",
              "92817              0.0             0.0             0.0             0.0   \n",
              "93689              0.0             0.0             0.0             0.0   \n",
              "98751              0.0             0.0             0.0             0.0   \n",
              "21636              0.0             0.0             0.0             0.0   \n",
              "\n",
              "        fwd_blk_rate_avg  bwd_blk_rate_avg  \n",
              "28414                0.0               0.0  \n",
              "148417               0.0               0.0  \n",
              "127067               0.0               0.0  \n",
              "97537                0.0               0.0  \n",
              "23174                0.0               0.0  \n",
              "...                  ...               ...  \n",
              "68152                0.0               0.0  \n",
              "92817                0.0               0.0  \n",
              "93689                0.0               0.0  \n",
              "98751                0.0               0.0  \n",
              "21636                0.0               0.0  \n",
              "\n",
              "[5086 rows x 69 columns]"
            ]
          },
          "execution_count": 79,
          "metadata": {},
          "output_type": "execute_result"
        }
      ],
      "source": [
        "x_traincic"
      ]
    },
    {
      "cell_type": "code",
      "execution_count": null,
      "metadata": {
        "colab": {
          "base_uri": "https://localhost:8080/"
        },
        "id": "f3TKByN8aOhB",
        "outputId": "356c4667-b222-43b4-8884-28053e9a87dc"
      },
      "outputs": [
        {
          "data": {
            "text/plain": [
              "37"
            ]
          },
          "execution_count": 80,
          "metadata": {},
          "output_type": "execute_result"
        }
      ],
      "source": [
        "len(features_x)"
      ]
    },
    {
      "cell_type": "code",
      "execution_count": null,
      "metadata": {
        "id": "zxnX6F3ulVUA"
      },
      "outputs": [],
      "source": [
        "x_traincic = x_traincic[features_x]\n",
        "x_testcic = x_test[features_x]"
      ]
    },
    {
      "cell_type": "code",
      "execution_count": null,
      "metadata": {
        "colab": {
          "base_uri": "https://localhost:8080/"
        },
        "id": "YLducXkClW6A",
        "outputId": "e0d899f6-8788-45f4-e5f3-d800ae5f2f98"
      },
      "outputs": [
        {
          "name": "stdout",
          "output_type": "stream",
          "text": [
            "<class 'pandas.core.frame.DataFrame'>\n",
            "Int64Index: 5086 entries, 28414 to 21636\n",
            "Data columns (total 37 columns):\n",
            " #   Column             Non-Null Count  Dtype  \n",
            "---  ------             --------------  -----  \n",
            " 0   flow_duration      5086 non-null   float64\n",
            " 1   flow_byts_s        5086 non-null   float64\n",
            " 2   tot_fwd_pkts       5086 non-null   float64\n",
            " 3   totlen_fwd_pkts    5086 non-null   float64\n",
            " 4   fwd_pkt_len_max    5086 non-null   float64\n",
            " 5   fwd_pkt_len_min    5086 non-null   float64\n",
            " 6   fwd_pkt_len_mean   5086 non-null   float64\n",
            " 7   fwd_pkt_len_std    5086 non-null   float64\n",
            " 8   pkt_len_max        5086 non-null   float64\n",
            " 9   pkt_len_min        5086 non-null   float64\n",
            " 10  pkt_len_mean       5086 non-null   float64\n",
            " 11  pkt_len_std        5086 non-null   float64\n",
            " 12  pkt_len_var        5086 non-null   float64\n",
            " 13  fwd_header_len     5086 non-null   float64\n",
            " 14  fwd_act_data_pkts  5086 non-null   float64\n",
            " 15  flow_iat_mean      5086 non-null   float64\n",
            " 16  flow_iat_max       5086 non-null   float64\n",
            " 17  flow_iat_min       5086 non-null   float64\n",
            " 18  flow_iat_std       5086 non-null   float64\n",
            " 19  fwd_iat_tot        5086 non-null   float64\n",
            " 20  fwd_iat_max        5086 non-null   float64\n",
            " 21  fwd_iat_min        5086 non-null   float64\n",
            " 22  fwd_iat_mean       5086 non-null   float64\n",
            " 23  fwd_iat_std        5086 non-null   float64\n",
            " 24  pkt_size_avg       5086 non-null   float64\n",
            " 25  init_fwd_win_byts  5086 non-null   float64\n",
            " 26  active_max         5086 non-null   float64\n",
            " 27  active_min         5086 non-null   float64\n",
            " 28  active_mean        5086 non-null   float64\n",
            " 29  active_std         5086 non-null   float64\n",
            " 30  idle_max           5086 non-null   float64\n",
            " 31  idle_min           5086 non-null   float64\n",
            " 32  idle_mean          5086 non-null   float64\n",
            " 33  idle_std           5086 non-null   float64\n",
            " 34  fwd_byts_b_avg     5086 non-null   float64\n",
            " 35  fwd_pkts_b_avg     5086 non-null   float64\n",
            " 36  fwd_blk_rate_avg   5086 non-null   float64\n",
            "dtypes: float64(37)\n",
            "memory usage: 1.5 MB\n"
          ]
        }
      ],
      "source": [
        "x_traincic.info()"
      ]
    },
    {
      "cell_type": "code",
      "execution_count": null,
      "metadata": {
        "id": "UCBnSbowlWEL"
      },
      "outputs": [],
      "source": [
        "x_testcic.info()"
      ]
    },
    {
      "cell_type": "code",
      "execution_count": null,
      "metadata": {
        "id": "gZackzQWbnrM"
      },
      "outputs": [],
      "source": [
        "modelRFcic = RandomForestClassifier(max_depth=2, random_state=0)"
      ]
    },
    {
      "cell_type": "code",
      "execution_count": null,
      "metadata": {
        "colab": {
          "base_uri": "https://localhost:8080/"
        },
        "id": "9t-2LtptdAgH",
        "outputId": "4e8bf06a-94e3-4952-e94b-fc765560e446"
      },
      "outputs": [
        {
          "data": {
            "text/plain": [
              "RandomForestClassifier(max_depth=2, random_state=0)"
            ]
          },
          "execution_count": 85,
          "metadata": {},
          "output_type": "execute_result"
        }
      ],
      "source": [
        "modelRFcic.fit(x_traincic, y_traincic)"
      ]
    },
    {
      "cell_type": "code",
      "execution_count": null,
      "metadata": {
        "id": "wU8lAnX2dAcn"
      },
      "outputs": [],
      "source": [
        "y_predcic = modelRFcic.predict(x_cicmy)"
      ]
    },
    {
      "cell_type": "code",
      "source": [
        "x_cicmy.info()"
      ],
      "metadata": {
        "id": "Ou0rROc_CPuN"
      },
      "execution_count": null,
      "outputs": []
    },
    {
      "cell_type": "code",
      "source": [
        "y_cicmy = y_cicmy.apply(lambda x: 0 if x == 'SAFE' else 1)"
      ],
      "metadata": {
        "id": "8wNuFZSqCMvK"
      },
      "execution_count": null,
      "outputs": []
    },
    {
      "cell_type": "code",
      "execution_count": null,
      "metadata": {
        "colab": {
          "base_uri": "https://localhost:8080/"
        },
        "id": "m3ZJN-KjbW33",
        "outputId": "54e3d732-0fd9-4c4f-d55d-5079d50f8035"
      },
      "outputs": [
        {
          "output_type": "execute_result",
          "data": {
            "text/plain": [
              "0        0\n",
              "1        0\n",
              "2        0\n",
              "3        0\n",
              "4        0\n",
              "        ..\n",
              "31668    1\n",
              "31669    1\n",
              "31670    1\n",
              "31671    1\n",
              "31672    1\n",
              "Name: label, Length: 31673, dtype: int64"
            ]
          },
          "metadata": {},
          "execution_count": 123
        }
      ],
      "source": [
        "y_cicmy"
      ]
    },
    {
      "cell_type": "code",
      "execution_count": null,
      "metadata": {
        "colab": {
          "base_uri": "https://localhost:8080/"
        },
        "id": "cPN5UYhmmEIT",
        "outputId": "cdeb7ecc-66a6-4184-c0f7-e53998c589e6"
      },
      "outputs": [
        {
          "output_type": "execute_result",
          "data": {
            "text/plain": [
              "array([[15532,     0],\n",
              "       [16141,     0]])"
            ]
          },
          "metadata": {},
          "execution_count": 127
        }
      ],
      "source": [
        "from sklearn.metrics import confusion_matrix\n",
        "\n",
        "confusion_matrix(y_cicmy, y_predcic)"
      ]
    },
    {
      "cell_type": "code",
      "execution_count": null,
      "metadata": {
        "colab": {
          "base_uri": "https://localhost:8080/"
        },
        "id": "YkqG40OMdAZH",
        "outputId": "299253fc-3798-4d04-c14f-0e89fea7224a"
      },
      "outputs": [
        {
          "output_type": "stream",
          "name": "stdout",
          "text": [
            "Accuracy = 0.49038613329965586\n",
            "Precision = 0.0\n",
            "Recall = 0.0\n",
            "F1 = 0.3227063837479188\n"
          ]
        },
        {
          "output_type": "stream",
          "name": "stderr",
          "text": [
            "/usr/local/lib/python3.7/dist-packages/sklearn/metrics/_classification.py:1318: UndefinedMetricWarning: Precision is ill-defined and being set to 0.0 due to no predicted samples. Use `zero_division` parameter to control this behavior.\n",
            "  _warn_prf(average, modifier, msg_start, len(result))\n"
          ]
        }
      ],
      "source": [
        "import warnings\n",
        "accuracy = accuracy_score(y_cicmy, y_predcic)\n",
        "precision = precision_score(y_cicmy, y_predcic)\n",
        "recall = recall_score(y_cicmy, y_predcic)\n",
        "f1 = f1_score(y_cicmy, y_predcic, average='weighted', labels=np.unique(y_pred))\n",
        "print('Accuracy =', accuracy)\n",
        "print('Precision =', precision)\n",
        "print('Recall =', recall)\n",
        "print('F1 =', f1)"
      ]
    },
    {
      "cell_type": "code",
      "execution_count": null,
      "metadata": {
        "id": "fxz2rphYdAT-"
      },
      "outputs": [],
      "source": [
        ""
      ]
    },
    {
      "cell_type": "code",
      "execution_count": null,
      "metadata": {
        "id": "umWaz9ZvbM9d"
      },
      "outputs": [],
      "source": [
        ""
      ]
    },
    {
      "cell_type": "markdown",
      "metadata": {
        "id": "ssemz23uthqA"
      },
      "source": [
        "## RandomForestClassifier important features\n",
        "\n"
      ]
    },
    {
      "cell_type": "code",
      "execution_count": null,
      "metadata": {
        "id": "tvnd2ipE5lnw"
      },
      "outputs": [],
      "source": [
        "from sklearn.ensemble import RandomForestClassifier\n",
        "from sklearn.datasets import make_classification"
      ]
    },
    {
      "cell_type": "code",
      "execution_count": null,
      "metadata": {
        "id": "AdFIoBRa-hKN"
      },
      "outputs": [],
      "source": [
        "modelRF = RandomForestClassifier(max_depth = 9,\n",
        " min_samples_leaf = 4,\n",
        " min_samples_split = 10,\n",
        " n_estimators = 1)"
      ]
    },
    {
      "cell_type": "code",
      "execution_count": null,
      "metadata": {
        "id": "2AAFPAyB-hId",
        "colab": {
          "base_uri": "https://localhost:8080/"
        },
        "outputId": "e4d5dbaa-8847-4fc9-c915-f5da605f2ad9"
      },
      "outputs": [
        {
          "output_type": "execute_result",
          "data": {
            "text/plain": [
              "RandomForestClassifier(max_depth=9, min_samples_leaf=4, min_samples_split=10,\n",
              "                       n_estimators=1)"
            ]
          },
          "metadata": {},
          "execution_count": 215
        }
      ],
      "source": [
        "modelRF.fit(x_train, y_train)"
      ]
    },
    {
      "cell_type": "code",
      "execution_count": null,
      "metadata": {
        "id": "Y3YQqFFxswOJ",
        "colab": {
          "base_uri": "https://localhost:8080/"
        },
        "outputId": "5a0a1513-5640-4743-8811-ccb6de61799b"
      },
      "outputs": [
        {
          "output_type": "execute_result",
          "data": {
            "text/plain": [
              "array([[ 458,    2],\n",
              "       [ 165, 4064]])"
            ]
          },
          "metadata": {},
          "execution_count": 216
        }
      ],
      "source": [
        "from sklearn.metrics import confusion_matrix\n",
        "y_pred = modelRF.predict(x_test)\n",
        "confusion_matrix(y_test, y_pred)"
      ]
    },
    {
      "cell_type": "code",
      "execution_count": null,
      "metadata": {
        "id": "58tNF4my-hGv"
      },
      "outputs": [],
      "source": [
        "y_pred = modelRF.predict(x_test)"
      ]
    },
    {
      "cell_type": "code",
      "execution_count": null,
      "metadata": {
        "id": "o_3PxOev-hFP",
        "colab": {
          "base_uri": "https://localhost:8080/"
        },
        "outputId": "78d5ff62-8d2f-4f7c-df0a-a8e1673d54b0"
      },
      "outputs": [
        {
          "output_type": "stream",
          "name": "stdout",
          "text": [
            "Accuracy = 0.9643847302196631\n",
            "Precision = 0.999508116084604\n",
            "Recall = 0.9609836840860724\n",
            "F1 = 0.9798673899939723\n"
          ]
        }
      ],
      "source": [
        "accuracy = accuracy_score(y_test, y_pred)\n",
        "precision = precision_score(y_test, y_pred)\n",
        "recall = recall_score(y_test, y_pred)\n",
        "f1 = f1_score(y_test, y_pred)\n",
        "print('Accuracy =', accuracy)\n",
        "print('Precision =', precision)\n",
        "print('Recall =', recall)\n",
        "print('F1 =', f1)"
      ]
    },
    {
      "cell_type": "code",
      "execution_count": null,
      "metadata": {
        "id": "LjnjDJnAOoZy"
      },
      "outputs": [],
      "source": [
        ""
      ]
    },
    {
      "cell_type": "code",
      "execution_count": null,
      "metadata": {
        "id": "0FpGvs4v-hDY"
      },
      "outputs": [],
      "source": [
        "featuresImportance = modelRF.feature_importances_"
      ]
    },
    {
      "cell_type": "code",
      "execution_count": null,
      "metadata": {
        "id": "4cuuwLq2Ai21"
      },
      "outputs": [],
      "source": [
        "featuresImportance"
      ]
    },
    {
      "cell_type": "code",
      "execution_count": null,
      "metadata": {
        "id": "5c-S4A-MDK8n"
      },
      "outputs": [],
      "source": [
        "sorted_idx = np.flip(featuresImportance.argsort())"
      ]
    },
    {
      "cell_type": "code",
      "execution_count": null,
      "metadata": {
        "id": "rnUREWb_DxFu"
      },
      "outputs": [],
      "source": [
        "sorted_idx"
      ]
    },
    {
      "cell_type": "code",
      "execution_count": null,
      "metadata": {
        "id": "HhXCX0iyCjBq"
      },
      "outputs": [],
      "source": [
        "for i in sorted_idx[0:40]:\n",
        "    print('{} - {}'.format(featuresImportance[i], x_train.columns[i]))"
      ]
    },
    {
      "cell_type": "code",
      "execution_count": null,
      "metadata": {
        "id": "5oFFjx-hGddw"
      },
      "outputs": [],
      "source": [
        "sorted_columns = sorted_idx[0:25]"
      ]
    },
    {
      "cell_type": "code",
      "execution_count": null,
      "metadata": {
        "id": "eiTH7jHXHNMZ"
      },
      "outputs": [],
      "source": [
        "sorted_columns"
      ]
    },
    {
      "cell_type": "code",
      "execution_count": null,
      "metadata": {
        "id": "-IkW-lvX-hCA"
      },
      "outputs": [],
      "source": [
        "plt.barh(x_train.columns[sorted_columns], featuresImportance[sorted_columns])"
      ]
    },
    {
      "cell_type": "code",
      "execution_count": null,
      "metadata": {
        "id": "3gGn4icf-g_o"
      },
      "outputs": [],
      "source": [
        "features_important = x_train.columns[sorted_idx]"
      ]
    },
    {
      "cell_type": "code",
      "execution_count": null,
      "metadata": {
        "id": "2JdnftcHImYD"
      },
      "outputs": [],
      "source": [
        "features_important"
      ]
    },
    {
      "cell_type": "code",
      "execution_count": null,
      "metadata": {
        "id": "_QCnHfP4JFZo"
      },
      "outputs": [],
      "source": [
        "x_train = x_train[features_important]\n",
        "x_test = x_test[features_important]"
      ]
    },
    {
      "cell_type": "code",
      "execution_count": null,
      "metadata": {
        "id": "S8wuWGWoJH_j"
      },
      "outputs": [],
      "source": [
        ""
      ]
    },
    {
      "cell_type": "code",
      "execution_count": null,
      "metadata": {
        "id": "OLBI_BveOiLf"
      },
      "outputs": [],
      "source": [
        ""
      ]
    },
    {
      "cell_type": "code",
      "execution_count": null,
      "metadata": {
        "id": "kzHV8T5iFwj-"
      },
      "outputs": [],
      "source": [
        ""
      ]
    },
    {
      "cell_type": "code",
      "execution_count": null,
      "metadata": {
        "id": "8M-z3vQJFzen"
      },
      "outputs": [],
      "source": [
        ""
      ]
    },
    {
      "cell_type": "code",
      "execution_count": null,
      "metadata": {
        "id": "n2AXjufpV2ZJ"
      },
      "outputs": [],
      "source": [
        ""
      ]
    },
    {
      "cell_type": "code",
      "execution_count": null,
      "metadata": {
        "id": "a709viZSekeL"
      },
      "outputs": [],
      "source": [
        ""
      ]
    },
    {
      "cell_type": "markdown",
      "metadata": {
        "id": "cyEo0gOFWB6z"
      },
      "source": [
        "## Dataset на основе cic \n"
      ]
    },
    {
      "cell_type": "code",
      "execution_count": null,
      "metadata": {
        "colab": {
          "base_uri": "https://localhost:8080/"
        },
        "id": "JoV7_8Cet6Rv",
        "outputId": "402796e1-e56b-461d-931a-7c212e3677c6"
      },
      "outputs": [
        {
          "ename": "NameError",
          "evalue": "ignored",
          "output_type": "error",
          "traceback": [
            "\u001b[0;31m---------------------------------------------------------------------------\u001b[0m",
            "\u001b[0;31mNameError\u001b[0m                                 Traceback (most recent call last)",
            "\u001b[0;32m<ipython-input-94-04adc09ae4e4>\u001b[0m in \u001b[0;36m<module>\u001b[0;34m()\u001b[0m\n\u001b[0;32m----> 1\u001b[0;31m \u001b[0mx_trainci\u001b[0m \u001b[0;34m=\u001b[0m \u001b[0mx_train\u001b[0m\u001b[0;34m[\u001b[0m\u001b[0mfeatures_important\u001b[0m\u001b[0;34m]\u001b[0m\u001b[0;34m\u001b[0m\u001b[0;34m\u001b[0m\u001b[0m\n\u001b[0m\u001b[1;32m      2\u001b[0m \u001b[0mx_testci\u001b[0m \u001b[0;34m=\u001b[0m \u001b[0mx_cic\u001b[0m\u001b[0;34m[\u001b[0m\u001b[0mfeatures_important\u001b[0m\u001b[0;34m]\u001b[0m\u001b[0;34m\u001b[0m\u001b[0;34m\u001b[0m\u001b[0m\n",
            "\u001b[0;31mNameError\u001b[0m: name 'features_important' is not defined"
          ]
        }
      ],
      "source": [
        "x_trainci = x_train[features_important]\n",
        "x_testci = x_cic[features_important]"
      ]
    },
    {
      "cell_type": "code",
      "execution_count": null,
      "metadata": {
        "id": "iQ1yBgBfWoLJ"
      },
      "outputs": [],
      "source": [
        "modelRF = RandomForestClassifier(max_depth=2, random_state=0)"
      ]
    },
    {
      "cell_type": "code",
      "execution_count": null,
      "metadata": {
        "id": "hb76XbcqWoIW"
      },
      "outputs": [],
      "source": [
        "modelRF.fit(x_trainci, y_train)"
      ]
    },
    {
      "cell_type": "code",
      "execution_count": null,
      "metadata": {
        "id": "VSYiR0h9uEmH"
      },
      "outputs": [],
      "source": [
        ""
      ]
    },
    {
      "cell_type": "code",
      "execution_count": null,
      "metadata": {
        "id": "6JaUeG8huEkE"
      },
      "outputs": [],
      "source": [
        "from sklearn.metrics import confusion_matrix\n",
        "y_pred = modelRFcic.predict(x_testci)\n",
        "confusion_matrix(y_cic, y_pred)"
      ]
    },
    {
      "cell_type": "code",
      "execution_count": null,
      "metadata": {
        "id": "8vsRiGzRYl2R"
      },
      "outputs": [],
      "source": [
        ""
      ]
    },
    {
      "cell_type": "code",
      "execution_count": null,
      "metadata": {
        "id": "FL3fE3JVuEiK"
      },
      "outputs": [],
      "source": [
        "import warnings\n",
        "accuracy = accuracy_score(y_cic, y_pred)\n",
        "precision = precision_score(y_cic, y_pred)\n",
        "recall = recall_score(y_cic, y_pred)\n",
        "f1 = f1_score(y_cic, y_pred, average='weighted', labels=np.unique(y_pred))\n",
        "print('Accuracy =', accuracy)\n",
        "print('Precision =', precision)\n",
        "print('Recall =', recall)\n",
        "print('F1 =', f1)"
      ]
    },
    {
      "cell_type": "code",
      "execution_count": null,
      "metadata": {
        "id": "eb6EGCSyuEgF"
      },
      "outputs": [],
      "source": [
        ""
      ]
    },
    {
      "cell_type": "markdown",
      "metadata": {
        "id": "IjkF_2AvF1nl"
      },
      "source": [
        "### KDD"
      ]
    },
    {
      "cell_type": "code",
      "execution_count": null,
      "metadata": {
        "id": "aaR3fQ4zF5cL"
      },
      "outputs": [],
      "source": [
        "modelRFKDD = RandomForestClassifier(max_depth=20, random_state=0)"
      ]
    },
    {
      "cell_type": "code",
      "execution_count": null,
      "metadata": {
        "id": "enosT81jF5ai"
      },
      "outputs": [],
      "source": [
        "modelRFKDD.fit(x_trainkdd,y_trainkdd)"
      ]
    },
    {
      "cell_type": "code",
      "execution_count": null,
      "metadata": {
        "id": "9FGEtNkXF_2G"
      },
      "outputs": [],
      "source": [
        "y_predkdd = modelRFKDD.predict(x_testkdd)"
      ]
    },
    {
      "cell_type": "code",
      "execution_count": null,
      "metadata": {
        "id": "YTXK_9WbF_0p"
      },
      "outputs": [],
      "source": [
        "accuracy = accuracy_score(y_testkdd, y_predkdd)\n",
        "precision = precision_score(y_testkdd, y_predkdd)\n",
        "recall = recall_score(y_testkdd, y_predkdd)\n",
        "f1 = f1_score(y_testkdd, y_predkdd)\n",
        "print('Accuracy =', accuracy)\n",
        "print('Precision =', precision)\n",
        "print('Recall =', recall)\n",
        "print('F1 =', f1)"
      ]
    },
    {
      "cell_type": "code",
      "execution_count": null,
      "metadata": {
        "id": "7JjRkdDeF_y4"
      },
      "outputs": [],
      "source": [
        "featuresImportancekdd = modelRFKDD.feature_importances_"
      ]
    },
    {
      "cell_type": "code",
      "execution_count": null,
      "metadata": {
        "id": "JEeDMsYsGVQu"
      },
      "outputs": [],
      "source": [
        "sorted_idxkdd = np.flip(featuresImportancekdd.argsort())"
      ]
    },
    {
      "cell_type": "code",
      "execution_count": null,
      "metadata": {
        "id": "DiZtFHfzGaKs"
      },
      "outputs": [],
      "source": [
        "for i in sorted_idxkdd[0:40]:\n",
        "    print('{} - {}'.format(featuresImportancekdd[i], x_trainkdd.columns[i]))"
      ]
    },
    {
      "cell_type": "code",
      "execution_count": null,
      "metadata": {
        "id": "3EZ4pFrmGaJJ"
      },
      "outputs": [],
      "source": [
        "sorted_columnskdd = sorted_idxkdd[0:25]"
      ]
    },
    {
      "cell_type": "code",
      "execution_count": null,
      "metadata": {
        "id": "oajY9jLAGaFw"
      },
      "outputs": [],
      "source": [
        "sorted_columnskdd"
      ]
    },
    {
      "cell_type": "code",
      "execution_count": null,
      "metadata": {
        "id": "8G0Xe2KYGaED"
      },
      "outputs": [],
      "source": [
        "plt.barh(x_trainkdd.columns[sorted_columnskdd], featuresImportancekdd[sorted_columnskdd])"
      ]
    },
    {
      "cell_type": "code",
      "execution_count": null,
      "metadata": {
        "id": "qRUIp1JvGaCG"
      },
      "outputs": [],
      "source": [
        "features_importantkdd = x_trainkdd.columns[sorted_idxkdd[0:20]]"
      ]
    },
    {
      "cell_type": "code",
      "execution_count": null,
      "metadata": {
        "id": "UMlRqBnSGrpB"
      },
      "outputs": [],
      "source": [
        "features_important"
      ]
    },
    {
      "cell_type": "code",
      "execution_count": null,
      "metadata": {
        "id": "6szKkz1DF_xQ"
      },
      "outputs": [],
      "source": [
        "x_trainkdd = x_trainkdd[features_importantkdd]\n",
        "x_testkdd = x_testkdd[features_importantkdd]"
      ]
    },
    {
      "cell_type": "code",
      "execution_count": null,
      "metadata": {
        "id": "-DcpdlOLF_vt"
      },
      "outputs": [],
      "source": [
        ""
      ]
    },
    {
      "cell_type": "code",
      "execution_count": null,
      "metadata": {
        "id": "geJflRIQF_t_"
      },
      "outputs": [],
      "source": [
        ""
      ]
    },
    {
      "cell_type": "code",
      "execution_count": null,
      "metadata": {
        "id": "PPNSIcWTF_sU"
      },
      "outputs": [],
      "source": [
        ""
      ]
    },
    {
      "cell_type": "code",
      "execution_count": null,
      "metadata": {
        "id": "5roHl2mZF_qa"
      },
      "outputs": [],
      "source": [
        ""
      ]
    },
    {
      "cell_type": "code",
      "execution_count": null,
      "metadata": {
        "id": "h_oIUHeYF_oU"
      },
      "outputs": [],
      "source": [
        ""
      ]
    },
    {
      "cell_type": "markdown",
      "metadata": {
        "id": "dGr_QlYpeqtd"
      },
      "source": [
        "## KNeighborsClassifier"
      ]
    },
    {
      "cell_type": "code",
      "execution_count": null,
      "metadata": {
        "colab": {
          "base_uri": "https://localhost:8080/"
        },
        "id": "4cmwJA5ZevYX",
        "outputId": "480cd77b-b49e-446f-c32c-fb750e0e6a7e"
      },
      "outputs": [
        {
          "data": {
            "text/plain": [
              "KNeighborsClassifier(n_neighbors=3)"
            ]
          },
          "execution_count": 96,
          "metadata": {},
          "output_type": "execute_result"
        }
      ],
      "source": [
        "from sklearn.neighbors import KNeighborsClassifier\n",
        "modelKNN = KNeighborsClassifier(n_neighbors=3)\n",
        "modelKNN.fit(x_train,y_train)\n"
      ]
    },
    {
      "cell_type": "code",
      "execution_count": null,
      "metadata": {
        "colab": {
          "base_uri": "https://localhost:8080/"
        },
        "id": "2GVHRj5CfMe_",
        "outputId": "ba02844c-c9e4-4d62-e37c-e577fd9e5af0"
      },
      "outputs": [
        {
          "data": {
            "text/plain": [
              "array([[ 457,    3],\n",
              "       [ 232, 3997]])"
            ]
          },
          "execution_count": 97,
          "metadata": {},
          "output_type": "execute_result"
        }
      ],
      "source": [
        "from sklearn.metrics import confusion_matrix\n",
        "y_pred = modelKNN.predict(x_test)\n",
        "confusion_matrix(y_test, y_pred)"
      ]
    },
    {
      "cell_type": "code",
      "execution_count": null,
      "metadata": {
        "colab": {
          "base_uri": "https://localhost:8080/"
        },
        "id": "2RN1RvrSfORO",
        "outputId": "51b49aea-20e1-437e-ef4c-e88f3a8c7fe1"
      },
      "outputs": [
        {
          "name": "stdout",
          "output_type": "stream",
          "text": [
            "Accuracy = 0.9498827042013223\n",
            "Precision = 0.99925\n",
            "Recall = 0.9451406951998108\n",
            "F1 = 0.9714424595941183\n"
          ]
        }
      ],
      "source": [
        "accuracy = accuracy_score(y_test, y_pred)\n",
        "precision = precision_score(y_test, y_pred)\n",
        "recall = recall_score(y_test, y_pred)\n",
        "f1 = f1_score(y_test, y_pred)\n",
        "print('Accuracy =', accuracy)\n",
        "print('Precision =', precision)\n",
        "print('Recall =', recall)\n",
        "print('F1 =', f1)"
      ]
    },
    {
      "cell_type": "markdown",
      "metadata": {
        "id": "Y5G_EECJYVdS"
      },
      "source": [
        "## DecisionTree"
      ]
    },
    {
      "cell_type": "code",
      "execution_count": null,
      "metadata": {
        "id": "hmCNmRdL_H1z"
      },
      "outputs": [],
      "source": [
        "from sklearn import tree"
      ]
    },
    {
      "cell_type": "code",
      "execution_count": null,
      "metadata": {
        "id": "xKLaGmS5_H0P"
      },
      "outputs": [],
      "source": [
        "modelDT = tree.DecisionTreeClassifier()"
      ]
    },
    {
      "cell_type": "code",
      "execution_count": null,
      "metadata": {
        "colab": {
          "base_uri": "https://localhost:8080/"
        },
        "id": "4Y4xMrUW_Hya",
        "outputId": "4e7bedc2-347f-4bfd-9cc8-c2b47225a752"
      },
      "outputs": [
        {
          "data": {
            "text/plain": [
              "DecisionTreeClassifier()"
            ]
          },
          "execution_count": 101,
          "metadata": {},
          "output_type": "execute_result"
        }
      ],
      "source": [
        "modelDT.fit(x_train, y_train)"
      ]
    },
    {
      "cell_type": "code",
      "execution_count": null,
      "metadata": {
        "id": "zoIyfDL4_Hwg"
      },
      "outputs": [],
      "source": [
        "y_pred = modelDT.predict(x_test)"
      ]
    },
    {
      "cell_type": "code",
      "execution_count": null,
      "metadata": {
        "colab": {
          "base_uri": "https://localhost:8080/"
        },
        "id": "oPBwVPQDd8B7",
        "outputId": "b930d185-0e4f-456d-e7e2-c8cd0ec4168c"
      },
      "outputs": [
        {
          "data": {
            "text/plain": [
              "array([[ 460,    0],\n",
              "       [   1, 4228]])"
            ]
          },
          "execution_count": 103,
          "metadata": {},
          "output_type": "execute_result"
        }
      ],
      "source": [
        "from sklearn.metrics import confusion_matrix\n",
        "y_pred = modelDT.predict(x_test)\n",
        "confusion_matrix(y_test, y_pred)"
      ]
    },
    {
      "cell_type": "code",
      "execution_count": null,
      "metadata": {
        "colab": {
          "base_uri": "https://localhost:8080/"
        },
        "id": "Zh18-RMUYRvG",
        "outputId": "54c3ebae-1951-4071-a1ad-359bf746ecee"
      },
      "outputs": [
        {
          "data": {
            "text/plain": [
              "1    4229\n",
              "0     460\n",
              "Name: label, dtype: int64"
            ]
          },
          "execution_count": 104,
          "metadata": {},
          "output_type": "execute_result"
        }
      ],
      "source": [
        "y_test.value_counts()"
      ]
    },
    {
      "cell_type": "code",
      "execution_count": null,
      "metadata": {
        "colab": {
          "base_uri": "https://localhost:8080/"
        },
        "id": "jQ10livrdkfN",
        "outputId": "9f572871-95ef-4964-e79b-e6fc67370790"
      },
      "outputs": [
        {
          "data": {
            "text/plain": [
              "(4689,)"
            ]
          },
          "execution_count": 105,
          "metadata": {},
          "output_type": "execute_result"
        }
      ],
      "source": [
        "y_pred.shape"
      ]
    },
    {
      "cell_type": "code",
      "execution_count": null,
      "metadata": {
        "colab": {
          "base_uri": "https://localhost:8080/"
        },
        "id": "3admBBAv_Hub",
        "outputId": "9b17dad6-ccc5-4a7a-c091-48b0559beaaa"
      },
      "outputs": [
        {
          "name": "stdout",
          "output_type": "stream",
          "text": [
            "Accuracy = 0.999786734911495\n",
            "Precision = 1.0\n",
            "Recall = 0.9997635374793096\n",
            "F1 = 0.9998817547593709\n"
          ]
        }
      ],
      "source": [
        "accuracy = accuracy_score(y_test, y_pred)\n",
        "precision = precision_score(y_test, y_pred)\n",
        "recall = recall_score(y_test, y_pred)\n",
        "f1 = f1_score(y_test, y_pred)\n",
        "print('Accuracy =', accuracy)\n",
        "print('Precision =', precision)\n",
        "print('Recall =', recall)\n",
        "print('F1 =', f1)"
      ]
    },
    {
      "cell_type": "code",
      "execution_count": null,
      "metadata": {
        "id": "Q-AJxiyQZj3d"
      },
      "outputs": [],
      "source": [
        ""
      ]
    },
    {
      "cell_type": "code",
      "execution_count": null,
      "metadata": {
        "id": "diGc3JHeX1iG"
      },
      "outputs": [],
      "source": [
        ""
      ]
    },
    {
      "cell_type": "markdown",
      "metadata": {
        "id": "uV359u3rPH4t"
      },
      "source": [
        "## CatBoostClassifier"
      ]
    },
    {
      "cell_type": "code",
      "execution_count": null,
      "metadata": {
        "id": "SVAD1yHbPQsh"
      },
      "outputs": [],
      "source": [
        "!pip install catboost"
      ]
    },
    {
      "cell_type": "code",
      "execution_count": null,
      "metadata": {
        "id": "-FMJm4IwPHMR"
      },
      "outputs": [],
      "source": [
        "from catboost import CatBoostClassifier"
      ]
    },
    {
      "cell_type": "code",
      "execution_count": null,
      "metadata": {
        "id": "JbimpwyTPHKc"
      },
      "outputs": [],
      "source": [
        "modelCat = CatBoostClassifier(iterations=10)"
      ]
    },
    {
      "cell_type": "code",
      "execution_count": null,
      "metadata": {
        "id": "6ycygxt0PHHS"
      },
      "outputs": [],
      "source": [
        "modelCat.fit(x_train, y_train,eval_set=(x_test, y_test))"
      ]
    },
    {
      "cell_type": "code",
      "execution_count": null,
      "metadata": {
        "id": "w1FJ-emePHFk"
      },
      "outputs": [],
      "source": [
        "y_pred = modelCat.predict(x_test)"
      ]
    },
    {
      "cell_type": "code",
      "execution_count": null,
      "metadata": {
        "id": "XkRKZUczPHDn"
      },
      "outputs": [],
      "source": [
        "accuracy = accuracy_score(y_test, y_pred)\n",
        "precision = precision_score(y_test, y_pred)\n",
        "recall = recall_score(y_test, y_pred)\n",
        "f1 = f1_score(y_test, y_pred)\n",
        "print('Accuracy =', accuracy)\n",
        "print('Precision =', precision)\n",
        "print('Recall =', recall)\n",
        "print('F1 =', f1)"
      ]
    },
    {
      "cell_type": "markdown",
      "metadata": {
        "id": "GpXhOACHHbXW"
      },
      "source": [
        "### kdd\n"
      ]
    },
    {
      "cell_type": "code",
      "execution_count": null,
      "metadata": {
        "id": "vFr6LBOAHehU"
      },
      "outputs": [],
      "source": [
        "modelCatkdd = CatBoostClassifier(iterations=30)"
      ]
    },
    {
      "cell_type": "code",
      "execution_count": null,
      "metadata": {
        "id": "c0cXSnzHHefx"
      },
      "outputs": [],
      "source": [
        "modelCatkdd.fit(x_trainkdd, y_trainkdd,eval_set=(x_testkdd, y_testkdd))"
      ]
    },
    {
      "cell_type": "code",
      "execution_count": null,
      "metadata": {
        "id": "qW5YyFY1HeeD"
      },
      "outputs": [],
      "source": [
        "y_predkdd = modelCatkdd.predict(x_testkdd)"
      ]
    },
    {
      "cell_type": "code",
      "execution_count": null,
      "metadata": {
        "id": "XfbOPSRGHecQ"
      },
      "outputs": [],
      "source": [
        "accuracy = accuracy_score(y_testkdd, y_predkdd)\n",
        "precision = precision_score(y_testkdd, y_predkdd)\n",
        "recall = recall_score(y_testkdd, y_predkdd)\n",
        "f1 = f1_score(y_testkdd, y_predkdd)\n",
        "print('Accuracy =', accuracy)\n",
        "print('Precision =', precision)\n",
        "print('Recall =', recall)\n",
        "print('F1 =', f1)"
      ]
    },
    {
      "cell_type": "code",
      "execution_count": null,
      "metadata": {
        "id": "38K5mp8JHeYp"
      },
      "outputs": [],
      "source": [
        ""
      ]
    },
    {
      "cell_type": "code",
      "execution_count": null,
      "metadata": {
        "id": "OibkwIZwHeWV"
      },
      "outputs": [],
      "source": [
        ""
      ]
    },
    {
      "cell_type": "markdown",
      "metadata": {
        "id": "kSnx1HA1Rabn"
      },
      "source": [
        "## lightgbm classifier"
      ]
    },
    {
      "cell_type": "code",
      "execution_count": null,
      "metadata": {
        "id": "AWG2lwxERwEf"
      },
      "outputs": [],
      "source": [
        "import lightgbm as lgb\n",
        "modelLgb = lgb.LGBMClassifier()\n",
        "modelLgb.fit(x_train, y_train)"
      ]
    },
    {
      "cell_type": "code",
      "execution_count": null,
      "metadata": {
        "id": "PH7u8okeR59K"
      },
      "outputs": [],
      "source": [
        "y_pred = modelLgb.predict(x_test)"
      ]
    },
    {
      "cell_type": "code",
      "execution_count": null,
      "metadata": {
        "id": "Hi9Ukg9CR7gB"
      },
      "outputs": [],
      "source": [
        "accuracy = accuracy_score(y_test, y_pred)\n",
        "precision = precision_score(y_test, y_pred)\n",
        "recall = recall_score(y_test, y_pred)\n",
        "f1 = f1_score(y_test, y_pred)\n",
        "print('Accuracy =', accuracy)\n",
        "print('Precision =', precision)\n",
        "print('Recall =', recall)\n",
        "print('F1 =', f1)"
      ]
    }
  ],
  "metadata": {
    "colab": {
      "name": "FinalDataset.ipynb",
      "provenance": []
    },
    "kernelspec": {
      "display_name": "Python 3",
      "name": "python3"
    },
    "language_info": {
      "name": "python"
    },
    "widgets": {
      "application/vnd.jupyter.widget-state+json": {
        "4062bbe67ad641c78b681c2c6b355716": {
          "model_module": "@jupyter-widgets/controls",
          "model_name": "HBoxModel",
          "model_module_version": "1.5.0",
          "state": {
            "_dom_classes": [],
            "_model_module": "@jupyter-widgets/controls",
            "_model_module_version": "1.5.0",
            "_model_name": "HBoxModel",
            "_view_count": null,
            "_view_module": "@jupyter-widgets/controls",
            "_view_module_version": "1.5.0",
            "_view_name": "HBoxView",
            "box_style": "",
            "children": [
              "IPY_MODEL_0730f7db05bc493786cacf82f6667338",
              "IPY_MODEL_60e3bbbb45db43d4b3792c8e437e42d6",
              "IPY_MODEL_eed99f4259b54f29bfabbb98a2ff6f5b"
            ],
            "layout": "IPY_MODEL_bd578f6e90ef491c8af22c24b2b40553"
          }
        },
        "0730f7db05bc493786cacf82f6667338": {
          "model_module": "@jupyter-widgets/controls",
          "model_name": "HTMLModel",
          "model_module_version": "1.5.0",
          "state": {
            "_dom_classes": [],
            "_model_module": "@jupyter-widgets/controls",
            "_model_module_version": "1.5.0",
            "_model_name": "HTMLModel",
            "_view_count": null,
            "_view_module": "@jupyter-widgets/controls",
            "_view_module_version": "1.5.0",
            "_view_name": "HTMLView",
            "description": "",
            "description_tooltip": null,
            "layout": "IPY_MODEL_142f4968ade648d1bca2ada9c9273944",
            "placeholder": "​",
            "style": "IPY_MODEL_bc7cd32d275d4926a695ea564e0f50c3",
            "value": "Summarize dataset: 100%"
          }
        },
        "60e3bbbb45db43d4b3792c8e437e42d6": {
          "model_module": "@jupyter-widgets/controls",
          "model_name": "FloatProgressModel",
          "model_module_version": "1.5.0",
          "state": {
            "_dom_classes": [],
            "_model_module": "@jupyter-widgets/controls",
            "_model_module_version": "1.5.0",
            "_model_name": "FloatProgressModel",
            "_view_count": null,
            "_view_module": "@jupyter-widgets/controls",
            "_view_module_version": "1.5.0",
            "_view_name": "ProgressView",
            "bar_style": "success",
            "description": "",
            "description_tooltip": null,
            "layout": "IPY_MODEL_3cf3c851c0864dfd805dbd66ff2b8608",
            "max": 5,
            "min": 0,
            "orientation": "horizontal",
            "style": "IPY_MODEL_e3f7fec3e87f4778b651573c2127b97d",
            "value": 5
          }
        },
        "eed99f4259b54f29bfabbb98a2ff6f5b": {
          "model_module": "@jupyter-widgets/controls",
          "model_name": "HTMLModel",
          "model_module_version": "1.5.0",
          "state": {
            "_dom_classes": [],
            "_model_module": "@jupyter-widgets/controls",
            "_model_module_version": "1.5.0",
            "_model_name": "HTMLModel",
            "_view_count": null,
            "_view_module": "@jupyter-widgets/controls",
            "_view_module_version": "1.5.0",
            "_view_name": "HTMLView",
            "description": "",
            "description_tooltip": null,
            "layout": "IPY_MODEL_a11d07ab909e4e27aab369939ddb0944",
            "placeholder": "​",
            "style": "IPY_MODEL_24c4ef0c50b84e3b958deddee5d1043a",
            "value": " 21/21 [00:00&lt;00:00, 27.99it/s, Completed]"
          }
        },
        "bd578f6e90ef491c8af22c24b2b40553": {
          "model_module": "@jupyter-widgets/base",
          "model_name": "LayoutModel",
          "model_module_version": "1.2.0",
          "state": {
            "_model_module": "@jupyter-widgets/base",
            "_model_module_version": "1.2.0",
            "_model_name": "LayoutModel",
            "_view_count": null,
            "_view_module": "@jupyter-widgets/base",
            "_view_module_version": "1.2.0",
            "_view_name": "LayoutView",
            "align_content": null,
            "align_items": null,
            "align_self": null,
            "border": null,
            "bottom": null,
            "display": null,
            "flex": null,
            "flex_flow": null,
            "grid_area": null,
            "grid_auto_columns": null,
            "grid_auto_flow": null,
            "grid_auto_rows": null,
            "grid_column": null,
            "grid_gap": null,
            "grid_row": null,
            "grid_template_areas": null,
            "grid_template_columns": null,
            "grid_template_rows": null,
            "height": null,
            "justify_content": null,
            "justify_items": null,
            "left": null,
            "margin": null,
            "max_height": null,
            "max_width": null,
            "min_height": null,
            "min_width": null,
            "object_fit": null,
            "object_position": null,
            "order": null,
            "overflow": null,
            "overflow_x": null,
            "overflow_y": null,
            "padding": null,
            "right": null,
            "top": null,
            "visibility": null,
            "width": null
          }
        },
        "142f4968ade648d1bca2ada9c9273944": {
          "model_module": "@jupyter-widgets/base",
          "model_name": "LayoutModel",
          "model_module_version": "1.2.0",
          "state": {
            "_model_module": "@jupyter-widgets/base",
            "_model_module_version": "1.2.0",
            "_model_name": "LayoutModel",
            "_view_count": null,
            "_view_module": "@jupyter-widgets/base",
            "_view_module_version": "1.2.0",
            "_view_name": "LayoutView",
            "align_content": null,
            "align_items": null,
            "align_self": null,
            "border": null,
            "bottom": null,
            "display": null,
            "flex": null,
            "flex_flow": null,
            "grid_area": null,
            "grid_auto_columns": null,
            "grid_auto_flow": null,
            "grid_auto_rows": null,
            "grid_column": null,
            "grid_gap": null,
            "grid_row": null,
            "grid_template_areas": null,
            "grid_template_columns": null,
            "grid_template_rows": null,
            "height": null,
            "justify_content": null,
            "justify_items": null,
            "left": null,
            "margin": null,
            "max_height": null,
            "max_width": null,
            "min_height": null,
            "min_width": null,
            "object_fit": null,
            "object_position": null,
            "order": null,
            "overflow": null,
            "overflow_x": null,
            "overflow_y": null,
            "padding": null,
            "right": null,
            "top": null,
            "visibility": null,
            "width": null
          }
        },
        "bc7cd32d275d4926a695ea564e0f50c3": {
          "model_module": "@jupyter-widgets/controls",
          "model_name": "DescriptionStyleModel",
          "model_module_version": "1.5.0",
          "state": {
            "_model_module": "@jupyter-widgets/controls",
            "_model_module_version": "1.5.0",
            "_model_name": "DescriptionStyleModel",
            "_view_count": null,
            "_view_module": "@jupyter-widgets/base",
            "_view_module_version": "1.2.0",
            "_view_name": "StyleView",
            "description_width": ""
          }
        },
        "3cf3c851c0864dfd805dbd66ff2b8608": {
          "model_module": "@jupyter-widgets/base",
          "model_name": "LayoutModel",
          "model_module_version": "1.2.0",
          "state": {
            "_model_module": "@jupyter-widgets/base",
            "_model_module_version": "1.2.0",
            "_model_name": "LayoutModel",
            "_view_count": null,
            "_view_module": "@jupyter-widgets/base",
            "_view_module_version": "1.2.0",
            "_view_name": "LayoutView",
            "align_content": null,
            "align_items": null,
            "align_self": null,
            "border": null,
            "bottom": null,
            "display": null,
            "flex": null,
            "flex_flow": null,
            "grid_area": null,
            "grid_auto_columns": null,
            "grid_auto_flow": null,
            "grid_auto_rows": null,
            "grid_column": null,
            "grid_gap": null,
            "grid_row": null,
            "grid_template_areas": null,
            "grid_template_columns": null,
            "grid_template_rows": null,
            "height": null,
            "justify_content": null,
            "justify_items": null,
            "left": null,
            "margin": null,
            "max_height": null,
            "max_width": null,
            "min_height": null,
            "min_width": null,
            "object_fit": null,
            "object_position": null,
            "order": null,
            "overflow": null,
            "overflow_x": null,
            "overflow_y": null,
            "padding": null,
            "right": null,
            "top": null,
            "visibility": null,
            "width": null
          }
        },
        "e3f7fec3e87f4778b651573c2127b97d": {
          "model_module": "@jupyter-widgets/controls",
          "model_name": "ProgressStyleModel",
          "model_module_version": "1.5.0",
          "state": {
            "_model_module": "@jupyter-widgets/controls",
            "_model_module_version": "1.5.0",
            "_model_name": "ProgressStyleModel",
            "_view_count": null,
            "_view_module": "@jupyter-widgets/base",
            "_view_module_version": "1.2.0",
            "_view_name": "StyleView",
            "bar_color": null,
            "description_width": ""
          }
        },
        "a11d07ab909e4e27aab369939ddb0944": {
          "model_module": "@jupyter-widgets/base",
          "model_name": "LayoutModel",
          "model_module_version": "1.2.0",
          "state": {
            "_model_module": "@jupyter-widgets/base",
            "_model_module_version": "1.2.0",
            "_model_name": "LayoutModel",
            "_view_count": null,
            "_view_module": "@jupyter-widgets/base",
            "_view_module_version": "1.2.0",
            "_view_name": "LayoutView",
            "align_content": null,
            "align_items": null,
            "align_self": null,
            "border": null,
            "bottom": null,
            "display": null,
            "flex": null,
            "flex_flow": null,
            "grid_area": null,
            "grid_auto_columns": null,
            "grid_auto_flow": null,
            "grid_auto_rows": null,
            "grid_column": null,
            "grid_gap": null,
            "grid_row": null,
            "grid_template_areas": null,
            "grid_template_columns": null,
            "grid_template_rows": null,
            "height": null,
            "justify_content": null,
            "justify_items": null,
            "left": null,
            "margin": null,
            "max_height": null,
            "max_width": null,
            "min_height": null,
            "min_width": null,
            "object_fit": null,
            "object_position": null,
            "order": null,
            "overflow": null,
            "overflow_x": null,
            "overflow_y": null,
            "padding": null,
            "right": null,
            "top": null,
            "visibility": null,
            "width": null
          }
        },
        "24c4ef0c50b84e3b958deddee5d1043a": {
          "model_module": "@jupyter-widgets/controls",
          "model_name": "DescriptionStyleModel",
          "model_module_version": "1.5.0",
          "state": {
            "_model_module": "@jupyter-widgets/controls",
            "_model_module_version": "1.5.0",
            "_model_name": "DescriptionStyleModel",
            "_view_count": null,
            "_view_module": "@jupyter-widgets/base",
            "_view_module_version": "1.2.0",
            "_view_name": "StyleView",
            "description_width": ""
          }
        },
        "c921e10fe6e44fc3b27b67292cced532": {
          "model_module": "@jupyter-widgets/controls",
          "model_name": "HBoxModel",
          "model_module_version": "1.5.0",
          "state": {
            "_dom_classes": [],
            "_model_module": "@jupyter-widgets/controls",
            "_model_module_version": "1.5.0",
            "_model_name": "HBoxModel",
            "_view_count": null,
            "_view_module": "@jupyter-widgets/controls",
            "_view_module_version": "1.5.0",
            "_view_name": "HBoxView",
            "box_style": "",
            "children": [
              "IPY_MODEL_d9ae314bbdbd4c5282f97698915a3f78",
              "IPY_MODEL_8e88d210353a44ffb10b5bb04decd459",
              "IPY_MODEL_5f68e5f32f954c26aeeab96059920106"
            ],
            "layout": "IPY_MODEL_8dade6aa4af5401aaae361db4e89d607"
          }
        },
        "d9ae314bbdbd4c5282f97698915a3f78": {
          "model_module": "@jupyter-widgets/controls",
          "model_name": "HTMLModel",
          "model_module_version": "1.5.0",
          "state": {
            "_dom_classes": [],
            "_model_module": "@jupyter-widgets/controls",
            "_model_module_version": "1.5.0",
            "_model_name": "HTMLModel",
            "_view_count": null,
            "_view_module": "@jupyter-widgets/controls",
            "_view_module_version": "1.5.0",
            "_view_name": "HTMLView",
            "description": "",
            "description_tooltip": null,
            "layout": "IPY_MODEL_7fa9233f9448430786ad8323e8943832",
            "placeholder": "​",
            "style": "IPY_MODEL_07f54e789e4d4a98a49f417fd744c56c",
            "value": "Generate report structure: 100%"
          }
        },
        "8e88d210353a44ffb10b5bb04decd459": {
          "model_module": "@jupyter-widgets/controls",
          "model_name": "FloatProgressModel",
          "model_module_version": "1.5.0",
          "state": {
            "_dom_classes": [],
            "_model_module": "@jupyter-widgets/controls",
            "_model_module_version": "1.5.0",
            "_model_name": "FloatProgressModel",
            "_view_count": null,
            "_view_module": "@jupyter-widgets/controls",
            "_view_module_version": "1.5.0",
            "_view_name": "ProgressView",
            "bar_style": "success",
            "description": "",
            "description_tooltip": null,
            "layout": "IPY_MODEL_057d433a51d348efa6fd2cf9b5f34c3b",
            "max": 1,
            "min": 0,
            "orientation": "horizontal",
            "style": "IPY_MODEL_5069e9ec3f1c4f458872fcdf807414d1",
            "value": 1
          }
        },
        "5f68e5f32f954c26aeeab96059920106": {
          "model_module": "@jupyter-widgets/controls",
          "model_name": "HTMLModel",
          "model_module_version": "1.5.0",
          "state": {
            "_dom_classes": [],
            "_model_module": "@jupyter-widgets/controls",
            "_model_module_version": "1.5.0",
            "_model_name": "HTMLModel",
            "_view_count": null,
            "_view_module": "@jupyter-widgets/controls",
            "_view_module_version": "1.5.0",
            "_view_name": "HTMLView",
            "description": "",
            "description_tooltip": null,
            "layout": "IPY_MODEL_26262ab157fc4329bd5793150e798464",
            "placeholder": "​",
            "style": "IPY_MODEL_7e5bec1cae29402984c1a4823562d373",
            "value": " 1/1 [00:07&lt;00:00,  7.85s/it]"
          }
        },
        "8dade6aa4af5401aaae361db4e89d607": {
          "model_module": "@jupyter-widgets/base",
          "model_name": "LayoutModel",
          "model_module_version": "1.2.0",
          "state": {
            "_model_module": "@jupyter-widgets/base",
            "_model_module_version": "1.2.0",
            "_model_name": "LayoutModel",
            "_view_count": null,
            "_view_module": "@jupyter-widgets/base",
            "_view_module_version": "1.2.0",
            "_view_name": "LayoutView",
            "align_content": null,
            "align_items": null,
            "align_self": null,
            "border": null,
            "bottom": null,
            "display": null,
            "flex": null,
            "flex_flow": null,
            "grid_area": null,
            "grid_auto_columns": null,
            "grid_auto_flow": null,
            "grid_auto_rows": null,
            "grid_column": null,
            "grid_gap": null,
            "grid_row": null,
            "grid_template_areas": null,
            "grid_template_columns": null,
            "grid_template_rows": null,
            "height": null,
            "justify_content": null,
            "justify_items": null,
            "left": null,
            "margin": null,
            "max_height": null,
            "max_width": null,
            "min_height": null,
            "min_width": null,
            "object_fit": null,
            "object_position": null,
            "order": null,
            "overflow": null,
            "overflow_x": null,
            "overflow_y": null,
            "padding": null,
            "right": null,
            "top": null,
            "visibility": null,
            "width": null
          }
        },
        "7fa9233f9448430786ad8323e8943832": {
          "model_module": "@jupyter-widgets/base",
          "model_name": "LayoutModel",
          "model_module_version": "1.2.0",
          "state": {
            "_model_module": "@jupyter-widgets/base",
            "_model_module_version": "1.2.0",
            "_model_name": "LayoutModel",
            "_view_count": null,
            "_view_module": "@jupyter-widgets/base",
            "_view_module_version": "1.2.0",
            "_view_name": "LayoutView",
            "align_content": null,
            "align_items": null,
            "align_self": null,
            "border": null,
            "bottom": null,
            "display": null,
            "flex": null,
            "flex_flow": null,
            "grid_area": null,
            "grid_auto_columns": null,
            "grid_auto_flow": null,
            "grid_auto_rows": null,
            "grid_column": null,
            "grid_gap": null,
            "grid_row": null,
            "grid_template_areas": null,
            "grid_template_columns": null,
            "grid_template_rows": null,
            "height": null,
            "justify_content": null,
            "justify_items": null,
            "left": null,
            "margin": null,
            "max_height": null,
            "max_width": null,
            "min_height": null,
            "min_width": null,
            "object_fit": null,
            "object_position": null,
            "order": null,
            "overflow": null,
            "overflow_x": null,
            "overflow_y": null,
            "padding": null,
            "right": null,
            "top": null,
            "visibility": null,
            "width": null
          }
        },
        "07f54e789e4d4a98a49f417fd744c56c": {
          "model_module": "@jupyter-widgets/controls",
          "model_name": "DescriptionStyleModel",
          "model_module_version": "1.5.0",
          "state": {
            "_model_module": "@jupyter-widgets/controls",
            "_model_module_version": "1.5.0",
            "_model_name": "DescriptionStyleModel",
            "_view_count": null,
            "_view_module": "@jupyter-widgets/base",
            "_view_module_version": "1.2.0",
            "_view_name": "StyleView",
            "description_width": ""
          }
        },
        "057d433a51d348efa6fd2cf9b5f34c3b": {
          "model_module": "@jupyter-widgets/base",
          "model_name": "LayoutModel",
          "model_module_version": "1.2.0",
          "state": {
            "_model_module": "@jupyter-widgets/base",
            "_model_module_version": "1.2.0",
            "_model_name": "LayoutModel",
            "_view_count": null,
            "_view_module": "@jupyter-widgets/base",
            "_view_module_version": "1.2.0",
            "_view_name": "LayoutView",
            "align_content": null,
            "align_items": null,
            "align_self": null,
            "border": null,
            "bottom": null,
            "display": null,
            "flex": null,
            "flex_flow": null,
            "grid_area": null,
            "grid_auto_columns": null,
            "grid_auto_flow": null,
            "grid_auto_rows": null,
            "grid_column": null,
            "grid_gap": null,
            "grid_row": null,
            "grid_template_areas": null,
            "grid_template_columns": null,
            "grid_template_rows": null,
            "height": null,
            "justify_content": null,
            "justify_items": null,
            "left": null,
            "margin": null,
            "max_height": null,
            "max_width": null,
            "min_height": null,
            "min_width": null,
            "object_fit": null,
            "object_position": null,
            "order": null,
            "overflow": null,
            "overflow_x": null,
            "overflow_y": null,
            "padding": null,
            "right": null,
            "top": null,
            "visibility": null,
            "width": null
          }
        },
        "5069e9ec3f1c4f458872fcdf807414d1": {
          "model_module": "@jupyter-widgets/controls",
          "model_name": "ProgressStyleModel",
          "model_module_version": "1.5.0",
          "state": {
            "_model_module": "@jupyter-widgets/controls",
            "_model_module_version": "1.5.0",
            "_model_name": "ProgressStyleModel",
            "_view_count": null,
            "_view_module": "@jupyter-widgets/base",
            "_view_module_version": "1.2.0",
            "_view_name": "StyleView",
            "bar_color": null,
            "description_width": ""
          }
        },
        "26262ab157fc4329bd5793150e798464": {
          "model_module": "@jupyter-widgets/base",
          "model_name": "LayoutModel",
          "model_module_version": "1.2.0",
          "state": {
            "_model_module": "@jupyter-widgets/base",
            "_model_module_version": "1.2.0",
            "_model_name": "LayoutModel",
            "_view_count": null,
            "_view_module": "@jupyter-widgets/base",
            "_view_module_version": "1.2.0",
            "_view_name": "LayoutView",
            "align_content": null,
            "align_items": null,
            "align_self": null,
            "border": null,
            "bottom": null,
            "display": null,
            "flex": null,
            "flex_flow": null,
            "grid_area": null,
            "grid_auto_columns": null,
            "grid_auto_flow": null,
            "grid_auto_rows": null,
            "grid_column": null,
            "grid_gap": null,
            "grid_row": null,
            "grid_template_areas": null,
            "grid_template_columns": null,
            "grid_template_rows": null,
            "height": null,
            "justify_content": null,
            "justify_items": null,
            "left": null,
            "margin": null,
            "max_height": null,
            "max_width": null,
            "min_height": null,
            "min_width": null,
            "object_fit": null,
            "object_position": null,
            "order": null,
            "overflow": null,
            "overflow_x": null,
            "overflow_y": null,
            "padding": null,
            "right": null,
            "top": null,
            "visibility": null,
            "width": null
          }
        },
        "7e5bec1cae29402984c1a4823562d373": {
          "model_module": "@jupyter-widgets/controls",
          "model_name": "DescriptionStyleModel",
          "model_module_version": "1.5.0",
          "state": {
            "_model_module": "@jupyter-widgets/controls",
            "_model_module_version": "1.5.0",
            "_model_name": "DescriptionStyleModel",
            "_view_count": null,
            "_view_module": "@jupyter-widgets/base",
            "_view_module_version": "1.2.0",
            "_view_name": "StyleView",
            "description_width": ""
          }
        },
        "e12b20de2ee24e58a36224bf6d72ebea": {
          "model_module": "@jupyter-widgets/controls",
          "model_name": "HBoxModel",
          "model_module_version": "1.5.0",
          "state": {
            "_dom_classes": [],
            "_model_module": "@jupyter-widgets/controls",
            "_model_module_version": "1.5.0",
            "_model_name": "HBoxModel",
            "_view_count": null,
            "_view_module": "@jupyter-widgets/controls",
            "_view_module_version": "1.5.0",
            "_view_name": "HBoxView",
            "box_style": "",
            "children": [
              "IPY_MODEL_36f50dc78fd24ad88917af40cbe737a8",
              "IPY_MODEL_199194b66ff744a08d5b636167de6b70",
              "IPY_MODEL_edcf1b4f4e7b455fb75cc82ea2d7b27a"
            ],
            "layout": "IPY_MODEL_0e66f413a4b94165a3770d59885bfe3b"
          }
        },
        "36f50dc78fd24ad88917af40cbe737a8": {
          "model_module": "@jupyter-widgets/controls",
          "model_name": "HTMLModel",
          "model_module_version": "1.5.0",
          "state": {
            "_dom_classes": [],
            "_model_module": "@jupyter-widgets/controls",
            "_model_module_version": "1.5.0",
            "_model_name": "HTMLModel",
            "_view_count": null,
            "_view_module": "@jupyter-widgets/controls",
            "_view_module_version": "1.5.0",
            "_view_name": "HTMLView",
            "description": "",
            "description_tooltip": null,
            "layout": "IPY_MODEL_b0a7159c9f0b4404a9219ee44c6bec12",
            "placeholder": "​",
            "style": "IPY_MODEL_a062057847624a00ba05166372b1f349",
            "value": "Render HTML: 100%"
          }
        },
        "199194b66ff744a08d5b636167de6b70": {
          "model_module": "@jupyter-widgets/controls",
          "model_name": "FloatProgressModel",
          "model_module_version": "1.5.0",
          "state": {
            "_dom_classes": [],
            "_model_module": "@jupyter-widgets/controls",
            "_model_module_version": "1.5.0",
            "_model_name": "FloatProgressModel",
            "_view_count": null,
            "_view_module": "@jupyter-widgets/controls",
            "_view_module_version": "1.5.0",
            "_view_name": "ProgressView",
            "bar_style": "success",
            "description": "",
            "description_tooltip": null,
            "layout": "IPY_MODEL_eada7c31cad7468999a870e26c98dca9",
            "max": 1,
            "min": 0,
            "orientation": "horizontal",
            "style": "IPY_MODEL_9ceab90ba5564ae285c839a7472e5fb5",
            "value": 1
          }
        },
        "edcf1b4f4e7b455fb75cc82ea2d7b27a": {
          "model_module": "@jupyter-widgets/controls",
          "model_name": "HTMLModel",
          "model_module_version": "1.5.0",
          "state": {
            "_dom_classes": [],
            "_model_module": "@jupyter-widgets/controls",
            "_model_module_version": "1.5.0",
            "_model_name": "HTMLModel",
            "_view_count": null,
            "_view_module": "@jupyter-widgets/controls",
            "_view_module_version": "1.5.0",
            "_view_name": "HTMLView",
            "description": "",
            "description_tooltip": null,
            "layout": "IPY_MODEL_93bcd2e3738840d9996fd12454aa3c7e",
            "placeholder": "​",
            "style": "IPY_MODEL_c4e37ba4f1b045b4b4a4329805c00395",
            "value": " 1/1 [00:00&lt;00:00,  1.93it/s]"
          }
        },
        "0e66f413a4b94165a3770d59885bfe3b": {
          "model_module": "@jupyter-widgets/base",
          "model_name": "LayoutModel",
          "model_module_version": "1.2.0",
          "state": {
            "_model_module": "@jupyter-widgets/base",
            "_model_module_version": "1.2.0",
            "_model_name": "LayoutModel",
            "_view_count": null,
            "_view_module": "@jupyter-widgets/base",
            "_view_module_version": "1.2.0",
            "_view_name": "LayoutView",
            "align_content": null,
            "align_items": null,
            "align_self": null,
            "border": null,
            "bottom": null,
            "display": null,
            "flex": null,
            "flex_flow": null,
            "grid_area": null,
            "grid_auto_columns": null,
            "grid_auto_flow": null,
            "grid_auto_rows": null,
            "grid_column": null,
            "grid_gap": null,
            "grid_row": null,
            "grid_template_areas": null,
            "grid_template_columns": null,
            "grid_template_rows": null,
            "height": null,
            "justify_content": null,
            "justify_items": null,
            "left": null,
            "margin": null,
            "max_height": null,
            "max_width": null,
            "min_height": null,
            "min_width": null,
            "object_fit": null,
            "object_position": null,
            "order": null,
            "overflow": null,
            "overflow_x": null,
            "overflow_y": null,
            "padding": null,
            "right": null,
            "top": null,
            "visibility": null,
            "width": null
          }
        },
        "b0a7159c9f0b4404a9219ee44c6bec12": {
          "model_module": "@jupyter-widgets/base",
          "model_name": "LayoutModel",
          "model_module_version": "1.2.0",
          "state": {
            "_model_module": "@jupyter-widgets/base",
            "_model_module_version": "1.2.0",
            "_model_name": "LayoutModel",
            "_view_count": null,
            "_view_module": "@jupyter-widgets/base",
            "_view_module_version": "1.2.0",
            "_view_name": "LayoutView",
            "align_content": null,
            "align_items": null,
            "align_self": null,
            "border": null,
            "bottom": null,
            "display": null,
            "flex": null,
            "flex_flow": null,
            "grid_area": null,
            "grid_auto_columns": null,
            "grid_auto_flow": null,
            "grid_auto_rows": null,
            "grid_column": null,
            "grid_gap": null,
            "grid_row": null,
            "grid_template_areas": null,
            "grid_template_columns": null,
            "grid_template_rows": null,
            "height": null,
            "justify_content": null,
            "justify_items": null,
            "left": null,
            "margin": null,
            "max_height": null,
            "max_width": null,
            "min_height": null,
            "min_width": null,
            "object_fit": null,
            "object_position": null,
            "order": null,
            "overflow": null,
            "overflow_x": null,
            "overflow_y": null,
            "padding": null,
            "right": null,
            "top": null,
            "visibility": null,
            "width": null
          }
        },
        "a062057847624a00ba05166372b1f349": {
          "model_module": "@jupyter-widgets/controls",
          "model_name": "DescriptionStyleModel",
          "model_module_version": "1.5.0",
          "state": {
            "_model_module": "@jupyter-widgets/controls",
            "_model_module_version": "1.5.0",
            "_model_name": "DescriptionStyleModel",
            "_view_count": null,
            "_view_module": "@jupyter-widgets/base",
            "_view_module_version": "1.2.0",
            "_view_name": "StyleView",
            "description_width": ""
          }
        },
        "eada7c31cad7468999a870e26c98dca9": {
          "model_module": "@jupyter-widgets/base",
          "model_name": "LayoutModel",
          "model_module_version": "1.2.0",
          "state": {
            "_model_module": "@jupyter-widgets/base",
            "_model_module_version": "1.2.0",
            "_model_name": "LayoutModel",
            "_view_count": null,
            "_view_module": "@jupyter-widgets/base",
            "_view_module_version": "1.2.0",
            "_view_name": "LayoutView",
            "align_content": null,
            "align_items": null,
            "align_self": null,
            "border": null,
            "bottom": null,
            "display": null,
            "flex": null,
            "flex_flow": null,
            "grid_area": null,
            "grid_auto_columns": null,
            "grid_auto_flow": null,
            "grid_auto_rows": null,
            "grid_column": null,
            "grid_gap": null,
            "grid_row": null,
            "grid_template_areas": null,
            "grid_template_columns": null,
            "grid_template_rows": null,
            "height": null,
            "justify_content": null,
            "justify_items": null,
            "left": null,
            "margin": null,
            "max_height": null,
            "max_width": null,
            "min_height": null,
            "min_width": null,
            "object_fit": null,
            "object_position": null,
            "order": null,
            "overflow": null,
            "overflow_x": null,
            "overflow_y": null,
            "padding": null,
            "right": null,
            "top": null,
            "visibility": null,
            "width": null
          }
        },
        "9ceab90ba5564ae285c839a7472e5fb5": {
          "model_module": "@jupyter-widgets/controls",
          "model_name": "ProgressStyleModel",
          "model_module_version": "1.5.0",
          "state": {
            "_model_module": "@jupyter-widgets/controls",
            "_model_module_version": "1.5.0",
            "_model_name": "ProgressStyleModel",
            "_view_count": null,
            "_view_module": "@jupyter-widgets/base",
            "_view_module_version": "1.2.0",
            "_view_name": "StyleView",
            "bar_color": null,
            "description_width": ""
          }
        },
        "93bcd2e3738840d9996fd12454aa3c7e": {
          "model_module": "@jupyter-widgets/base",
          "model_name": "LayoutModel",
          "model_module_version": "1.2.0",
          "state": {
            "_model_module": "@jupyter-widgets/base",
            "_model_module_version": "1.2.0",
            "_model_name": "LayoutModel",
            "_view_count": null,
            "_view_module": "@jupyter-widgets/base",
            "_view_module_version": "1.2.0",
            "_view_name": "LayoutView",
            "align_content": null,
            "align_items": null,
            "align_self": null,
            "border": null,
            "bottom": null,
            "display": null,
            "flex": null,
            "flex_flow": null,
            "grid_area": null,
            "grid_auto_columns": null,
            "grid_auto_flow": null,
            "grid_auto_rows": null,
            "grid_column": null,
            "grid_gap": null,
            "grid_row": null,
            "grid_template_areas": null,
            "grid_template_columns": null,
            "grid_template_rows": null,
            "height": null,
            "justify_content": null,
            "justify_items": null,
            "left": null,
            "margin": null,
            "max_height": null,
            "max_width": null,
            "min_height": null,
            "min_width": null,
            "object_fit": null,
            "object_position": null,
            "order": null,
            "overflow": null,
            "overflow_x": null,
            "overflow_y": null,
            "padding": null,
            "right": null,
            "top": null,
            "visibility": null,
            "width": null
          }
        },
        "c4e37ba4f1b045b4b4a4329805c00395": {
          "model_module": "@jupyter-widgets/controls",
          "model_name": "DescriptionStyleModel",
          "model_module_version": "1.5.0",
          "state": {
            "_model_module": "@jupyter-widgets/controls",
            "_model_module_version": "1.5.0",
            "_model_name": "DescriptionStyleModel",
            "_view_count": null,
            "_view_module": "@jupyter-widgets/base",
            "_view_module_version": "1.2.0",
            "_view_name": "StyleView",
            "description_width": ""
          }
        },
        "d5588998a19c40c88bc1469c9c89cd68": {
          "model_module": "@jupyter-widgets/controls",
          "model_name": "HBoxModel",
          "model_module_version": "1.5.0",
          "state": {
            "_dom_classes": [],
            "_model_module": "@jupyter-widgets/controls",
            "_model_module_version": "1.5.0",
            "_model_name": "HBoxModel",
            "_view_count": null,
            "_view_module": "@jupyter-widgets/controls",
            "_view_module_version": "1.5.0",
            "_view_name": "HBoxView",
            "box_style": "",
            "children": [
              "IPY_MODEL_7bac8298b5db44a1b84c169b05a2098b",
              "IPY_MODEL_5de6acda3a4e46a8b29083bcb0d3f784",
              "IPY_MODEL_8a691c5436f04094b5f1f4169829c251"
            ],
            "layout": "IPY_MODEL_b289a5c2e28241d9bcf2d98bc746615a"
          }
        },
        "7bac8298b5db44a1b84c169b05a2098b": {
          "model_module": "@jupyter-widgets/controls",
          "model_name": "HTMLModel",
          "model_module_version": "1.5.0",
          "state": {
            "_dom_classes": [],
            "_model_module": "@jupyter-widgets/controls",
            "_model_module_version": "1.5.0",
            "_model_name": "HTMLModel",
            "_view_count": null,
            "_view_module": "@jupyter-widgets/controls",
            "_view_module_version": "1.5.0",
            "_view_name": "HTMLView",
            "description": "",
            "description_tooltip": null,
            "layout": "IPY_MODEL_1bb611fbbcfc4807a44d88c69c386e71",
            "placeholder": "​",
            "style": "IPY_MODEL_080172af21d94ec58f4ac0f60400d43e",
            "value": "Export report to file: 100%"
          }
        },
        "5de6acda3a4e46a8b29083bcb0d3f784": {
          "model_module": "@jupyter-widgets/controls",
          "model_name": "FloatProgressModel",
          "model_module_version": "1.5.0",
          "state": {
            "_dom_classes": [],
            "_model_module": "@jupyter-widgets/controls",
            "_model_module_version": "1.5.0",
            "_model_name": "FloatProgressModel",
            "_view_count": null,
            "_view_module": "@jupyter-widgets/controls",
            "_view_module_version": "1.5.0",
            "_view_name": "ProgressView",
            "bar_style": "success",
            "description": "",
            "description_tooltip": null,
            "layout": "IPY_MODEL_2d0b6b1bf5654868a6154f9b6c741cca",
            "max": 1,
            "min": 0,
            "orientation": "horizontal",
            "style": "IPY_MODEL_6d52b7b812dc42d586cc8149b2a823a9",
            "value": 1
          }
        },
        "8a691c5436f04094b5f1f4169829c251": {
          "model_module": "@jupyter-widgets/controls",
          "model_name": "HTMLModel",
          "model_module_version": "1.5.0",
          "state": {
            "_dom_classes": [],
            "_model_module": "@jupyter-widgets/controls",
            "_model_module_version": "1.5.0",
            "_model_name": "HTMLModel",
            "_view_count": null,
            "_view_module": "@jupyter-widgets/controls",
            "_view_module_version": "1.5.0",
            "_view_name": "HTMLView",
            "description": "",
            "description_tooltip": null,
            "layout": "IPY_MODEL_5daf91e4d9fb44d7a10bb92389badd0e",
            "placeholder": "​",
            "style": "IPY_MODEL_665ef5cde9aa4cea9e1b0d1de286f9dc",
            "value": " 1/1 [00:00&lt;00:00, 16.47it/s]"
          }
        },
        "b289a5c2e28241d9bcf2d98bc746615a": {
          "model_module": "@jupyter-widgets/base",
          "model_name": "LayoutModel",
          "model_module_version": "1.2.0",
          "state": {
            "_model_module": "@jupyter-widgets/base",
            "_model_module_version": "1.2.0",
            "_model_name": "LayoutModel",
            "_view_count": null,
            "_view_module": "@jupyter-widgets/base",
            "_view_module_version": "1.2.0",
            "_view_name": "LayoutView",
            "align_content": null,
            "align_items": null,
            "align_self": null,
            "border": null,
            "bottom": null,
            "display": null,
            "flex": null,
            "flex_flow": null,
            "grid_area": null,
            "grid_auto_columns": null,
            "grid_auto_flow": null,
            "grid_auto_rows": null,
            "grid_column": null,
            "grid_gap": null,
            "grid_row": null,
            "grid_template_areas": null,
            "grid_template_columns": null,
            "grid_template_rows": null,
            "height": null,
            "justify_content": null,
            "justify_items": null,
            "left": null,
            "margin": null,
            "max_height": null,
            "max_width": null,
            "min_height": null,
            "min_width": null,
            "object_fit": null,
            "object_position": null,
            "order": null,
            "overflow": null,
            "overflow_x": null,
            "overflow_y": null,
            "padding": null,
            "right": null,
            "top": null,
            "visibility": null,
            "width": null
          }
        },
        "1bb611fbbcfc4807a44d88c69c386e71": {
          "model_module": "@jupyter-widgets/base",
          "model_name": "LayoutModel",
          "model_module_version": "1.2.0",
          "state": {
            "_model_module": "@jupyter-widgets/base",
            "_model_module_version": "1.2.0",
            "_model_name": "LayoutModel",
            "_view_count": null,
            "_view_module": "@jupyter-widgets/base",
            "_view_module_version": "1.2.0",
            "_view_name": "LayoutView",
            "align_content": null,
            "align_items": null,
            "align_self": null,
            "border": null,
            "bottom": null,
            "display": null,
            "flex": null,
            "flex_flow": null,
            "grid_area": null,
            "grid_auto_columns": null,
            "grid_auto_flow": null,
            "grid_auto_rows": null,
            "grid_column": null,
            "grid_gap": null,
            "grid_row": null,
            "grid_template_areas": null,
            "grid_template_columns": null,
            "grid_template_rows": null,
            "height": null,
            "justify_content": null,
            "justify_items": null,
            "left": null,
            "margin": null,
            "max_height": null,
            "max_width": null,
            "min_height": null,
            "min_width": null,
            "object_fit": null,
            "object_position": null,
            "order": null,
            "overflow": null,
            "overflow_x": null,
            "overflow_y": null,
            "padding": null,
            "right": null,
            "top": null,
            "visibility": null,
            "width": null
          }
        },
        "080172af21d94ec58f4ac0f60400d43e": {
          "model_module": "@jupyter-widgets/controls",
          "model_name": "DescriptionStyleModel",
          "model_module_version": "1.5.0",
          "state": {
            "_model_module": "@jupyter-widgets/controls",
            "_model_module_version": "1.5.0",
            "_model_name": "DescriptionStyleModel",
            "_view_count": null,
            "_view_module": "@jupyter-widgets/base",
            "_view_module_version": "1.2.0",
            "_view_name": "StyleView",
            "description_width": ""
          }
        },
        "2d0b6b1bf5654868a6154f9b6c741cca": {
          "model_module": "@jupyter-widgets/base",
          "model_name": "LayoutModel",
          "model_module_version": "1.2.0",
          "state": {
            "_model_module": "@jupyter-widgets/base",
            "_model_module_version": "1.2.0",
            "_model_name": "LayoutModel",
            "_view_count": null,
            "_view_module": "@jupyter-widgets/base",
            "_view_module_version": "1.2.0",
            "_view_name": "LayoutView",
            "align_content": null,
            "align_items": null,
            "align_self": null,
            "border": null,
            "bottom": null,
            "display": null,
            "flex": null,
            "flex_flow": null,
            "grid_area": null,
            "grid_auto_columns": null,
            "grid_auto_flow": null,
            "grid_auto_rows": null,
            "grid_column": null,
            "grid_gap": null,
            "grid_row": null,
            "grid_template_areas": null,
            "grid_template_columns": null,
            "grid_template_rows": null,
            "height": null,
            "justify_content": null,
            "justify_items": null,
            "left": null,
            "margin": null,
            "max_height": null,
            "max_width": null,
            "min_height": null,
            "min_width": null,
            "object_fit": null,
            "object_position": null,
            "order": null,
            "overflow": null,
            "overflow_x": null,
            "overflow_y": null,
            "padding": null,
            "right": null,
            "top": null,
            "visibility": null,
            "width": null
          }
        },
        "6d52b7b812dc42d586cc8149b2a823a9": {
          "model_module": "@jupyter-widgets/controls",
          "model_name": "ProgressStyleModel",
          "model_module_version": "1.5.0",
          "state": {
            "_model_module": "@jupyter-widgets/controls",
            "_model_module_version": "1.5.0",
            "_model_name": "ProgressStyleModel",
            "_view_count": null,
            "_view_module": "@jupyter-widgets/base",
            "_view_module_version": "1.2.0",
            "_view_name": "StyleView",
            "bar_color": null,
            "description_width": ""
          }
        },
        "5daf91e4d9fb44d7a10bb92389badd0e": {
          "model_module": "@jupyter-widgets/base",
          "model_name": "LayoutModel",
          "model_module_version": "1.2.0",
          "state": {
            "_model_module": "@jupyter-widgets/base",
            "_model_module_version": "1.2.0",
            "_model_name": "LayoutModel",
            "_view_count": null,
            "_view_module": "@jupyter-widgets/base",
            "_view_module_version": "1.2.0",
            "_view_name": "LayoutView",
            "align_content": null,
            "align_items": null,
            "align_self": null,
            "border": null,
            "bottom": null,
            "display": null,
            "flex": null,
            "flex_flow": null,
            "grid_area": null,
            "grid_auto_columns": null,
            "grid_auto_flow": null,
            "grid_auto_rows": null,
            "grid_column": null,
            "grid_gap": null,
            "grid_row": null,
            "grid_template_areas": null,
            "grid_template_columns": null,
            "grid_template_rows": null,
            "height": null,
            "justify_content": null,
            "justify_items": null,
            "left": null,
            "margin": null,
            "max_height": null,
            "max_width": null,
            "min_height": null,
            "min_width": null,
            "object_fit": null,
            "object_position": null,
            "order": null,
            "overflow": null,
            "overflow_x": null,
            "overflow_y": null,
            "padding": null,
            "right": null,
            "top": null,
            "visibility": null,
            "width": null
          }
        },
        "665ef5cde9aa4cea9e1b0d1de286f9dc": {
          "model_module": "@jupyter-widgets/controls",
          "model_name": "DescriptionStyleModel",
          "model_module_version": "1.5.0",
          "state": {
            "_model_module": "@jupyter-widgets/controls",
            "_model_module_version": "1.5.0",
            "_model_name": "DescriptionStyleModel",
            "_view_count": null,
            "_view_module": "@jupyter-widgets/base",
            "_view_module_version": "1.2.0",
            "_view_name": "StyleView",
            "description_width": ""
          }
        }
      }
    }
  },
  "nbformat": 4,
  "nbformat_minor": 0
}